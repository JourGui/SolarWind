{
 "cells": [
  {
   "cell_type": "markdown",
   "metadata": {},
   "source": [
    "# Notebook Nb2\n",
    "\n",
    "- In the second notebook the ROI criterium is predicted based on different features to choose more accurately our clients while making B2B contracts. Different dataframes are built to enable the best prediction for a given short time of training. \n",
    "\n",
    "\n",
    "- Feature selections, PCA, FAMD are performed. Linear Regression, Ridge Regression, Lasso, SVR, Random Forest, Gradient boosting, XGBoost etc are performed.  Expandable neuronal networkds are built and trained as  well. A model based on specific dataframe is finally selected. A discussion for future work is opened. \n",
    "\n",
    "\n",
    "- Extra functions and loops could have been added but the general spirit of this notebook was to keep the presentation of all the models as simple as possible while performing some valuable data science study."
   ]
  },
  {
   "cell_type": "code",
   "execution_count": 1,
   "metadata": {},
   "outputs": [
    {
     "name": "stdout",
     "output_type": "stream",
     "text": [
      "--- Nom des features --- \n",
      "\n",
      " ['FacilityType', 'Region', 'Area2refArea', 'ROI criterium', 'Hotwater(kWh)_Etot', 'SolarPanel(kWh)_Etot', 'Wind(kWh)_Etot', 'Energy_tot(kWh_Area)'] \n",
      "\n",
      "--- Valeurs manquantes --- \n",
      "\n",
      " FacilityType            0\n",
      "Region                  0\n",
      "Area2refArea            0\n",
      "ROI criterium           0\n",
      "Hotwater(kWh)_Etot      0\n",
      "SolarPanel(kWh)_Etot    0\n",
      "Wind(kWh)_Etot          0\n",
      "Energy_tot(kWh_Area)    0\n",
      "dtype: int64 \n",
      "\n"
     ]
    }
   ],
   "source": [
    "import matplotlib.pyplot as plt\n",
    "import pandas as pd\n",
    "import numpy as np\n",
    "import seaborn as sns\n",
    "\n",
    "# upload the data\n",
    "df_2018 = pd.read_csv('data2018_featengv2.csv')\n",
    "\n",
    "print(\"--- Nom des features ---\", \"\\n\\n\", df_2018.columns.values.tolist(), \"\\n\")\n",
    "print(\"--- Valeurs manquantes ---\", \"\\n\\n\", pd.isnull(df_2018).sum(), \"\\n\")"
   ]
  },
  {
   "cell_type": "markdown",
   "metadata": {},
   "source": [
    "**Example : Checking if the PCA on the dummified 'Region' can be significiant.**"
   ]
  },
  {
   "cell_type": "code",
   "execution_count": 14,
   "metadata": {},
   "outputs": [
    {
     "data": {
      "image/png": "[encoded data removed]",
      "text/plain": [
       "<Figure size 432x288 with 1 Axes>"
      ]
     },
     "metadata": {
      "needs_background": "light"
     },
     "output_type": "display_data"
    },
    {
     "name": "stdout",
     "output_type": "stream",
     "text": [
      "Cumulative explained variation for 2 principalcomponents sur 8 components is : 0.3221035696396068\n",
      "MCA PROCESS ELIMINATED 0  COLUMNS SINCE THEIR MISS_RATES >= 99%"
     ]
    },
    {
     "name": "stderr",
     "output_type": "stream",
     "text": [
      "C:\\Users\\USER\\Anaconda3\\lib\\site-packages\\light_famd\\one_hot.py:29: FutureWarning: SparseDataFrame is deprecated and will be removed in a future version.\n",
      "Use a regular DataFrame whose columns are SparseArrays instead.\n",
      "\n",
      "See http://pandas.pydata.org/pandas-docs/stable/user_guide/sparse.html#migrating for more.\n",
      "\n",
      "  default_fill_value=0\n",
      "C:\\Users\\USER\\Anaconda3\\lib\\site-packages\\pandas\\core\\sparse\\frame.py:257: FutureWarning: SparseSeries is deprecated and will be removed in a future version.\n",
      "Use a Series with sparse values instead.\n",
      "\n",
      "    >>> series = pd.Series(pd.SparseArray(...))\n",
      "\n",
      "See http://pandas.pydata.org/pandas-docs/stable/user_guide/sparse.html#migrating for more.\n",
      "\n",
      "  sparse_index=BlockIndex(N, blocs, blens),\n",
      "C:\\Users\\USER\\Anaconda3\\lib\\site-packages\\pandas\\core\\frame.py:3456: FutureWarning: SparseSeries is deprecated and will be removed in a future version.\n",
      "Use a Series with sparse values instead.\n",
      "\n",
      "    >>> series = pd.Series(pd.SparseArray(...))\n",
      "\n",
      "See http://pandas.pydata.org/pandas-docs/stable/user_guide/sparse.html#migrating for more.\n",
      "\n",
      "  return klass(values, index=self.index, name=items, fastpath=True)\n",
      "C:\\Users\\USER\\Anaconda3\\lib\\site-packages\\pandas\\core\\ops\\__init__.py:1641: FutureWarning: SparseSeries is deprecated and will be removed in a future version.\n",
      "Use a Series with sparse values instead.\n",
      "\n",
      "    >>> series = pd.Series(pd.SparseArray(...))\n",
      "\n",
      "See http://pandas.pydata.org/pandas-docs/stable/user_guide/sparse.html#migrating for more.\n",
      "\n",
      "  return self._constructor(new_values, index=self.index, name=self.name)\n",
      "C:\\Users\\USER\\Anaconda3\\lib\\site-packages\\pandas\\core\\sparse\\frame.py:339: FutureWarning: SparseDataFrame is deprecated and will be removed in a future version.\n",
      "Use a regular DataFrame whose columns are SparseArrays instead.\n",
      "\n",
      "See http://pandas.pydata.org/pandas-docs/stable/user_guide/sparse.html#migrating for more.\n",
      "\n",
      "  default_fill_value=self.default_fill_value,\n",
      "C:\\Users\\USER\\Anaconda3\\lib\\site-packages\\pandas\\core\\generic.py:6289: FutureWarning: SparseDataFrame is deprecated and will be removed in a future version.\n",
      "Use a regular DataFrame whose columns are SparseArrays instead.\n",
      "\n",
      "See http://pandas.pydata.org/pandas-docs/stable/user_guide/sparse.html#migrating for more.\n",
      "\n",
      "  return self._constructor(new_data).__finalize__(self)\n",
      "C:\\Users\\USER\\Anaconda3\\lib\\site-packages\\pandas\\core\\generic.py:5884: FutureWarning: SparseSeries is deprecated and will be removed in a future version.\n",
      "Use a Series with sparse values instead.\n",
      "\n",
      "    >>> series = pd.Series(pd.SparseArray(...))\n",
      "\n",
      "See http://pandas.pydata.org/pandas-docs/stable/user_guide/sparse.html#migrating for more.\n",
      "\n",
      "  return self._constructor(new_data).__finalize__(self)\n",
      "C:\\Users\\USER\\Anaconda3\\lib\\site-packages\\pandas\\core\\sparse\\frame.py:785: FutureWarning: SparseDataFrame is deprecated and will be removed in a future version.\n",
      "Use a regular DataFrame whose columns are SparseArrays instead.\n",
      "\n",
      "See http://pandas.pydata.org/pandas-docs/stable/user_guide/sparse.html#migrating for more.\n",
      "\n",
      "  return self._constructor(new_arrays, index=index, columns=columns).__finalize__(\n",
      "C:\\Users\\USER\\Anaconda3\\lib\\site-packages\\pandas\\core\\frame.py:3456: FutureWarning: SparseSeries is deprecated and will be removed in a future version.\n",
      "Use a Series with sparse values instead.\n",
      "\n",
      "    >>> series = pd.Series(pd.SparseArray(...))\n",
      "\n",
      "See http://pandas.pydata.org/pandas-docs/stable/user_guide/sparse.html#migrating for more.\n",
      "\n",
      "  return klass(values, index=self.index, name=items, fastpath=True)\n",
      "C:\\Users\\USER\\Anaconda3\\lib\\site-packages\\pandas\\core\\ops\\__init__.py:1641: FutureWarning: SparseSeries is deprecated and will be removed in a future version.\n",
      "Use a Series with sparse values instead.\n",
      "\n",
      "    >>> series = pd.Series(pd.SparseArray(...))\n",
      "\n",
      "See http://pandas.pydata.org/pandas-docs/stable/user_guide/sparse.html#migrating for more.\n",
      "\n",
      "  return self._constructor(new_values, index=self.index, name=self.name)\n",
      "C:\\Users\\USER\\Anaconda3\\lib\\site-packages\\pandas\\core\\sparse\\frame.py:339: FutureWarning: SparseDataFrame is deprecated and will be removed in a future version.\n",
      "Use a regular DataFrame whose columns are SparseArrays instead.\n",
      "\n",
      "See http://pandas.pydata.org/pandas-docs/stable/user_guide/sparse.html#migrating for more.\n",
      "\n",
      "  default_fill_value=self.default_fill_value,\n",
      "C:\\Users\\USER\\Anaconda3\\lib\\site-packages\\pandas\\core\\generic.py:6289: FutureWarning: SparseDataFrame is deprecated and will be removed in a future version.\n",
      "Use a regular DataFrame whose columns are SparseArrays instead.\n",
      "\n",
      "See http://pandas.pydata.org/pandas-docs/stable/user_guide/sparse.html#migrating for more.\n",
      "\n",
      "  return self._constructor(new_data).__finalize__(self)\n",
      "C:\\Users\\USER\\Anaconda3\\lib\\site-packages\\pandas\\core\\generic.py:5884: FutureWarning: SparseSeries is deprecated and will be removed in a future version.\n",
      "Use a Series with sparse values instead.\n",
      "\n",
      "    >>> series = pd.Series(pd.SparseArray(...))\n",
      "\n",
      "See http://pandas.pydata.org/pandas-docs/stable/user_guide/sparse.html#migrating for more.\n",
      "\n",
      "  return self._constructor(new_data).__finalize__(self)\n"
     ]
    },
    {
     "name": "stdout",
     "output_type": "stream",
     "text": [
      "\n"
     ]
    },
    {
     "name": "stderr",
     "output_type": "stream",
     "text": [
      "C:\\Users\\USER\\Anaconda3\\lib\\site-packages\\light_famd\\one_hot.py:29: FutureWarning: SparseDataFrame is deprecated and will be removed in a future version.\n",
      "Use a regular DataFrame whose columns are SparseArrays instead.\n",
      "\n",
      "See http://pandas.pydata.org/pandas-docs/stable/user_guide/sparse.html#migrating for more.\n",
      "\n",
      "  default_fill_value=0\n",
      "C:\\Users\\USER\\Anaconda3\\lib\\site-packages\\pandas\\core\\sparse\\frame.py:257: FutureWarning: SparseSeries is deprecated and will be removed in a future version.\n",
      "Use a Series with sparse values instead.\n",
      "\n",
      "    >>> series = pd.Series(pd.SparseArray(...))\n",
      "\n",
      "See http://pandas.pydata.org/pandas-docs/stable/user_guide/sparse.html#migrating for more.\n",
      "\n",
      "  sparse_index=BlockIndex(N, blocs, blens),\n",
      "C:\\Users\\USER\\Anaconda3\\lib\\site-packages\\pandas\\core\\frame.py:3456: FutureWarning: SparseSeries is deprecated and will be removed in a future version.\n",
      "Use a Series with sparse values instead.\n",
      "\n",
      "    >>> series = pd.Series(pd.SparseArray(...))\n",
      "\n",
      "See http://pandas.pydata.org/pandas-docs/stable/user_guide/sparse.html#migrating for more.\n",
      "\n",
      "  return klass(values, index=self.index, name=items, fastpath=True)\n",
      "C:\\Users\\USER\\Anaconda3\\lib\\site-packages\\pandas\\core\\sparse\\frame.py:785: FutureWarning: SparseDataFrame is deprecated and will be removed in a future version.\n",
      "Use a regular DataFrame whose columns are SparseArrays instead.\n",
      "\n",
      "See http://pandas.pydata.org/pandas-docs/stable/user_guide/sparse.html#migrating for more.\n",
      "\n",
      "  return self._constructor(new_arrays, index=index, columns=columns).__finalize__(\n"
     ]
    },
    {
     "data": {
      "text/plain": [
       "FAMD(check_input=True, copy=False, engine='auto', n_components=15, n_iter=10,\n",
       "     random_state=None)"
      ]
     },
     "execution_count": 14,
     "metadata": {},
     "output_type": "execute_result"
    }
   ],
   "source": [
    "from sklearn import preprocessing\n",
    "from sklearn import decomposition\n",
    "df_only_reg= df_2018[['Region']]\n",
    "df_only_reg_dum = pd.get_dummies(df_only_reg, prefix=['reg'],columns = ['Region'])\n",
    "\n",
    "# centred data hypothesis\n",
    "std_scale = preprocessing.StandardScaler().fit(df_only_reg_dum)\n",
    "X_scaled = std_scale.transform(df_only_reg_dum)\n",
    "\n",
    "# show the amont of components required for a specific varianc\n",
    "pca_range = decomposition.PCA().fit(X_scaled)\n",
    "plt.figure()\n",
    "plt.plot(np.cumsum(pca_range.explained_variance_ratio_))\n",
    "plt.title('PCA')\n",
    "plt.xlabel('number of components')\n",
    "plt.ylabel('cumulative explained variance')\n",
    "plt.show()\n",
    "\n",
    "# limit the study to 2 components\n",
    "pca = decomposition.PCA(n_components=2)\n",
    "pca.fit(X_scaled)\n",
    "pca_ratios = pca.explained_variance_ratio_\n",
    "print('Cumulative explained variation for 2 principalcomponents sur {} components is : {}'.format(df_only_reg_dum.shape[1],\n",
    "                                                                                                   pca.explained_variance_ratio_.sum()))\n",
    "#Factor Analysis of Mixed Data\n",
    "from light_famd import FAMD\n",
    "famd = FAMD(n_components=15,n_iter=10)\n",
    "df_wh_target = df_2018.drop(columns='ROI criterium')\n",
    "famd.fit(df_wh_target)\n",
    "#print(famd.explained_variance_ratio_)"
   ]
  },
  {
   "cell_type": "code",
   "execution_count": 15,
   "metadata": {},
   "outputs": [
    {
     "data": {
      "image/png": "[encoded data removed]",
      "text/plain": [
       "<Figure size 432x288 with 1 Axes>"
      ]
     },
     "metadata": {
      "needs_background": "light"
     },
     "output_type": "display_data"
    }
   ],
   "source": [
    "# show the amont of components required for a specific variance\n",
    "plt.figure()\n",
    "plt.plot(np.cumsum(famd.explained_variance_ratio_))\n",
    "plt.title('FAMD')\n",
    "plt.xlabel('number of components')\n",
    "plt.ylabel('cumulative explained variance')\n",
    "plt.show()"
   ]
  },
  {
   "cell_type": "markdown",
   "metadata": {},
   "source": [
    "- The PCA on Region shows that one can not reduce the dimensions in space only describing the dummified values of the feature Region. Similar result is found for FacilityType. Not shown here but same step can be followed.\n",
    "\n",
    "- A finer approach was then performed, by studying the FAMD on the features of the df without the target. FAMD allows us to study both the features containing numerical and categorical values at once. We notice that the cumulative explained variance reaches 90% for 10 features.\n",
    "\n",
    "- The data is not separated into a train and test set for the sequential feature selection. Once the features selected, 3 new daframes will be created. One  with those forward selected features and the dummified features Region and FacilityType and one with backwards selected features and the dummified features Region and FacilityType. The last dataframe contains all the features and the features with categorical values are dumified.\n",
    "\n",
    "- The stepwise regression selection can be used if needed: https://pypi.org/project/stepwise-regression/#description "
   ]
  },
  {
   "cell_type": "code",
   "execution_count": 3,
   "metadata": {},
   "outputs": [
    {
     "name": "stderr",
     "output_type": "stream",
     "text": [
      "[Parallel(n_jobs=-1)]: Using backend LokyBackend with 4 concurrent workers.\n",
      "[Parallel(n_jobs=-1)]: Done   5 out of   5 | elapsed:   14.9s finished\n",
      "\n",
      "[2020-06-21 13:04:43] Features: 1/3 -- score: -551.9210867199664[Parallel(n_jobs=-1)]: Using backend LokyBackend with 4 concurrent workers.\n",
      "[Parallel(n_jobs=-1)]: Done   4 out of   4 | elapsed:    5.1s finished\n",
      "\n",
      "[2020-06-21 13:04:48] Features: 2/3 -- score: -89.24883233269156[Parallel(n_jobs=-1)]: Using backend LokyBackend with 4 concurrent workers.\n",
      "[Parallel(n_jobs=-1)]: Done   3 out of   3 | elapsed:    4.3s finished\n",
      "\n",
      "[2020-06-21 13:04:53] Features: 3/3 -- score: -45.81532326524708"
     ]
    },
    {
     "data": {
      "image/png": "[encoded data removed]",
      "text/plain": [
       "<Figure size 432x288 with 1 Axes>"
      ]
     },
     "metadata": {
      "needs_background": "light"
     },
     "output_type": "display_data"
    },
    {
     "name": "stdout",
     "output_type": "stream",
     "text": [
      "3 features selected: ['Area2refArea', 'SolarPanel(kWh)_Etot', 'Energy_tot(kWh_Area)']\n"
     ]
    }
   ],
   "source": [
    "from mlxtend.feature_selection import SequentialFeatureSelector as SFS\n",
    "from mlxtend.plotting import plot_sequential_feature_selection as plot_sfs\n",
    "from sklearn.ensemble import RandomForestRegressor\n",
    "from sklearn.preprocessing import MinMaxScaler\n",
    "\n",
    "# removing features containing the categorial data and features strongly correlated with target\n",
    "df_forSFS = df_2018.drop(columns=['Region',\n",
    "                                  'FacilityType'])\n",
    "\n",
    "scaler_forSFS = MinMaxScaler()\n",
    "\n",
    "X_forSFS = df_forSFS .drop(['ROI criterium'], axis=1)\n",
    "y_forSFS = df_forSFS ['ROI criterium']\n",
    "\n",
    "# the number of features selected should not be higher than half of the total number of features\n",
    "max_num_feat = int(np.ceil(X_forSFS.shape[1]/2))\n",
    "\n",
    "X_mms_forSFS = X_forSFS\n",
    "X_mms_forSFS[X_mms_forSFS.columns] = scaler_forSFS.fit_transform(X_mms_forSFS[X_mms_forSFS.columns])\n",
    "\n",
    "#a RandomForestRegressor model with 100 iterations\n",
    "lr_sfs = RandomForestRegressor(n_estimators=100, random_state = 42, n_jobs = -1)\n",
    "sfs_lr_fs = SFS(lr_sfs, k_features=(1,max_num_feat), forward=True, floating=False, verbose=2,scoring='neg_mean_squared_error',cv=6,n_jobs=-1)\n",
    " \n",
    "\n",
    "#sfs_lr_fs = sfs_lr_fs.fit(X_forSFS_train, y_forSFS_train)\n",
    "sfs_lr_fs = sfs_lr_fs.fit(X_forSFS, y_forSFS)\n",
    "#X_mms_forSFS.describe()\n",
    "fig = plot_sfs(sfs_lr_fs.get_metric_dict(), kind='std_err')\n",
    "#plt.ylim([-500, 0])\n",
    "plt.title('Sequential Forward Selection (w. StdErr)')\n",
    "plt.grid()\n",
    "plt.show()\n",
    "\n",
    "X_forSFS_fs_subset = sfs_lr_fs.transform(X_forSFS)\n",
    "df_sfs_fs_subset = pd.DataFrame(X_forSFS_fs_subset)\n",
    "df_sfs_fs_subset.columns = sfs_lr_fs.k_feature_names_\n",
    "print('{} features selected: {}'.format(df_sfs_fs_subset.shape[1],df_sfs_fs_subset.columns.tolist()))"
   ]
  },
  {
   "cell_type": "markdown",
   "metadata": {},
   "source": [
    "**Backwards selection based on random forest regression. For the example purpose let's reduce the max number of features for the backwards selection**"
   ]
  },
  {
   "cell_type": "code",
   "execution_count": 4,
   "metadata": {},
   "outputs": [
    {
     "name": "stderr",
     "output_type": "stream",
     "text": [
      "[Parallel(n_jobs=-1)]: Using backend LokyBackend with 4 concurrent workers.\n",
      "[Parallel(n_jobs=-1)]: Done   5 out of   5 | elapsed:    9.1s finished\n",
      "\n",
      "[2020-06-18 14:07:44] Features: 4/1 -- score: -45.5615774198601[Parallel(n_jobs=-1)]: Using backend LokyBackend with 4 concurrent workers.\n",
      "[Parallel(n_jobs=-1)]: Done   4 out of   4 | elapsed:    5.8s finished\n",
      "\n",
      "[2020-06-18 14:07:50] Features: 3/1 -- score: -45.815323265247066[Parallel(n_jobs=-1)]: Using backend LokyBackend with 4 concurrent workers.\n",
      "[Parallel(n_jobs=-1)]: Done   3 out of   3 | elapsed:    4.7s finished\n",
      "\n",
      "[2020-06-18 14:07:55] Features: 2/1 -- score: -89.24883233269156[Parallel(n_jobs=-1)]: Using backend LokyBackend with 4 concurrent workers.\n",
      "[Parallel(n_jobs=-1)]: Done   2 out of   2 | elapsed:    3.6s finished\n",
      "\n",
      "[2020-06-18 14:07:58] Features: 1/1 -- score: -551.9210867199664"
     ]
    },
    {
     "data": {
      "image/png": "[encoded data removed]",
      "text/plain": [
       "<Figure size 432x288 with 1 Axes>"
      ]
     },
     "metadata": {
      "needs_background": "light"
     },
     "output_type": "display_data"
    },
    {
     "name": "stdout",
     "output_type": "stream",
     "text": [
      "2 features selected by the backward selection: ['Area2refArea', 'Energy_tot(kWh_Area)']\n"
     ]
    }
   ],
   "source": [
    "sfs_lr_bs = SFS(lr_sfs, k_features=(1,max_num_feat-1), forward=False, floating=False, verbose=2,scoring='neg_mean_squared_error',cv=6,n_jobs=-1)\n",
    "sfs_lr_bs = sfs_lr_bs.fit(X_forSFS, y_forSFS)\n",
    "#X_mms_forSFS.describe()\n",
    "fig = plot_sfs(sfs_lr_bs.get_metric_dict(), kind='std_err')\n",
    "plt.title('Sequential Forward Selection (w. StdErr)')\n",
    "plt.grid()\n",
    "plt.show()\n",
    "\n",
    "X_forSFS_bs_subset = sfs_lr_bs.transform(X_forSFS)\n",
    "df_sfs_bs_subset = pd.DataFrame(X_forSFS_bs_subset)\n",
    "df_sfs_bs_subset.columns = sfs_lr_bs.k_feature_names_\n",
    "print('{} features selected by the backward selection: {}'.format(df_sfs_bs_subset.shape[1],df_sfs_bs_subset.columns.tolist()))"
   ]
  },
  {
   "cell_type": "markdown",
   "metadata": {},
   "source": [
    "Dataframes' selection"
   ]
  },
  {
   "cell_type": "code",
   "execution_count": 2,
   "metadata": {},
   "outputs": [
    {
     "name": "stdout",
     "output_type": "stream",
     "text": [
      "df3, Cumulative explained variation for 2 principal components on 20 components is: 0.24176314138151128\n"
     ]
    }
   ],
   "source": [
    "# First dataframe: forward selected features and dummified categorical features.\n",
    "df1 = df_2018.drop(columns=['Hotwater(kWh)_Etot',\n",
    "                            'Wind(kWh)_Etot'])\n",
    "\n",
    "df1_inter = pd.get_dummies(df1, prefix=['reg'],columns = ['Region'])\n",
    "df1_dum= pd.get_dummies(df1_inter, prefix=['ft'],columns = ['FacilityType'])\n",
    "\n",
    "# Second dataframe: backwards selected features and dummified categorical features.\n",
    "df2 = df_2018.drop(columns=['Hotwater(kWh)_Etot',\n",
    "                            'Wind(kWh)_Etot',\n",
    "                            'SolarPanel(kWh)_Etot'])\n",
    "\n",
    "df2_inter = pd.get_dummies(df2, prefix=['reg'],columns = ['Region'])\n",
    "df2_dum= pd.get_dummies(df2_inter, prefix=['ft'],columns = ['FacilityType'])\n",
    "\n",
    "\n",
    "# Third dataframe: full df with dummified categorical feature\n",
    "df3 = df_2018.copy()\n",
    "\n",
    "df3_inter = pd.get_dummies(df3, prefix=['reg'],columns = ['Region'])\n",
    "df3_dum= pd.get_dummies(df3_inter, prefix=['ft'],columns = ['FacilityType'])\n",
    "\n",
    "\n",
    "from sklearn import preprocessing\n",
    "from sklearn import decomposition\n",
    "df_no_targ = df3_dum.drop(columns=['ROI criterium'])\n",
    "std_scale_no_targ  = preprocessing.StandardScaler().fit(df_no_targ )\n",
    "X_scaled_no_targ  = std_scale_no_targ.transform(df_no_targ )\n",
    "\n",
    "# limit the study to 2 components\n",
    "pca_no_targ = decomposition.PCA(n_components=2)\n",
    "pca_no_targ.fit(X_scaled_no_targ)\n",
    "pca_ratios_no_targ = pca_no_targ.explained_variance_ratio_\n",
    "print('df3, Cumulative explained variation for 2 principal components on {} components is: {}'.format(df_no_targ.shape[1],\n",
    "                                                                                                 pca_no_targ.explained_variance_ratio_.sum()))"
   ]
  },
  {
   "cell_type": "markdown",
   "metadata": {},
   "source": [
    "**Function to compute the R2 score, the RMSE and RMSLE**"
   ]
  },
  {
   "cell_type": "code",
   "execution_count": 3,
   "metadata": {},
   "outputs": [],
   "source": [
    "# regression metrics\n",
    "#from sklearn import metrics\n",
    "from sklearn.metrics import r2_score\n",
    "from sklearn.metrics import mean_squared_log_error\n",
    "from sklearn.metrics import mean_squared_error\n",
    "\n",
    "def Reg_metrics(reg_method_name,y_true,y_pred):\n",
    "    df_reg_metrics = (pd.DataFrame({'Regression': [reg_method_name],\n",
    "                                    'R2_score':[r2_score(y_true, y_pred,multioutput='variance_weighted')],\n",
    "                                    'RMSE':[np.sqrt(mean_squared_error(y_true, y_pred))],\n",
    "                                    'RMSLE':[np.sqrt(mean_squared_log_error(y_true, abs(y_pred)))]}))\n",
    "    return df_reg_metrics"
   ]
  },
  {
   "cell_type": "markdown",
   "metadata": {},
   "source": [
    "**Create the X dataframe with variables and the target array \\\n",
    "each column of X is scaled based on their max and min values**"
   ]
  },
  {
   "cell_type": "code",
   "execution_count": 4,
   "metadata": {},
   "outputs": [
    {
     "data": {
      "text/html": [
       "<div>\n",
       "<style scoped>\n",
       "    .dataframe tbody tr th:only-of-type {\n",
       "        vertical-align: middle;\n",
       "    }\n",
       "\n",
       "    .dataframe tbody tr th {\n",
       "        vertical-align: top;\n",
       "    }\n",
       "\n",
       "    .dataframe thead th {\n",
       "        text-align: right;\n",
       "    }\n",
       "</style>\n",
       "<table border=\"1\" class=\"dataframe\">\n",
       "  <thead>\n",
       "    <tr style=\"text-align: right;\">\n",
       "      <th></th>\n",
       "      <th>Area2refArea</th>\n",
       "      <th>Hotwater(kWh)_Etot</th>\n",
       "      <th>SolarPanel(kWh)_Etot</th>\n",
       "      <th>Wind(kWh)_Etot</th>\n",
       "      <th>Energy_tot(kWh_Area)</th>\n",
       "      <th>reg_A</th>\n",
       "      <th>reg_B</th>\n",
       "      <th>reg_C</th>\n",
       "      <th>reg_E</th>\n",
       "      <th>reg_F</th>\n",
       "      <th>reg_G</th>\n",
       "      <th>reg_I</th>\n",
       "      <th>reg_K</th>\n",
       "      <th>ft_Beach</th>\n",
       "      <th>ft_Hotel</th>\n",
       "      <th>ft_Office</th>\n",
       "      <th>ft_Restaurant</th>\n",
       "      <th>ft_School</th>\n",
       "      <th>ft_Spa</th>\n",
       "      <th>ft_Store</th>\n",
       "    </tr>\n",
       "  </thead>\n",
       "  <tbody>\n",
       "    <tr>\n",
       "      <td>count</td>\n",
       "      <td>818.000000</td>\n",
       "      <td>818.000000</td>\n",
       "      <td>818.000000</td>\n",
       "      <td>818.000000</td>\n",
       "      <td>818.000000</td>\n",
       "      <td>818.000000</td>\n",
       "      <td>818.000000</td>\n",
       "      <td>818.000000</td>\n",
       "      <td>818.000000</td>\n",
       "      <td>818.000000</td>\n",
       "      <td>818.000000</td>\n",
       "      <td>818.000000</td>\n",
       "      <td>818.000000</td>\n",
       "      <td>818.000000</td>\n",
       "      <td>818.000000</td>\n",
       "      <td>818.000000</td>\n",
       "      <td>818.000000</td>\n",
       "      <td>818.000000</td>\n",
       "      <td>818.000000</td>\n",
       "      <td>818.000000</td>\n",
       "    </tr>\n",
       "    <tr>\n",
       "      <td>mean</td>\n",
       "      <td>0.138659</td>\n",
       "      <td>0.010218</td>\n",
       "      <td>0.564982</td>\n",
       "      <td>0.425773</td>\n",
       "      <td>0.092226</td>\n",
       "      <td>0.099022</td>\n",
       "      <td>0.350856</td>\n",
       "      <td>0.091687</td>\n",
       "      <td>0.122249</td>\n",
       "      <td>0.168704</td>\n",
       "      <td>0.064792</td>\n",
       "      <td>0.080685</td>\n",
       "      <td>0.022005</td>\n",
       "      <td>0.321516</td>\n",
       "      <td>0.024450</td>\n",
       "      <td>0.294621</td>\n",
       "      <td>0.025672</td>\n",
       "      <td>0.114914</td>\n",
       "      <td>0.133252</td>\n",
       "      <td>0.085575</td>\n",
       "    </tr>\n",
       "    <tr>\n",
       "      <td>std</td>\n",
       "      <td>0.133876</td>\n",
       "      <td>0.092134</td>\n",
       "      <td>0.360641</td>\n",
       "      <td>0.360364</td>\n",
       "      <td>0.089323</td>\n",
       "      <td>0.298874</td>\n",
       "      <td>0.477530</td>\n",
       "      <td>0.288760</td>\n",
       "      <td>0.327774</td>\n",
       "      <td>0.374720</td>\n",
       "      <td>0.246309</td>\n",
       "      <td>0.272517</td>\n",
       "      <td>0.146789</td>\n",
       "      <td>0.467344</td>\n",
       "      <td>0.154536</td>\n",
       "      <td>0.456151</td>\n",
       "      <td>0.158253</td>\n",
       "      <td>0.319114</td>\n",
       "      <td>0.340055</td>\n",
       "      <td>0.279906</td>\n",
       "    </tr>\n",
       "    <tr>\n",
       "      <td>min</td>\n",
       "      <td>0.000000</td>\n",
       "      <td>0.000000</td>\n",
       "      <td>0.000000</td>\n",
       "      <td>0.000000</td>\n",
       "      <td>0.000000</td>\n",
       "      <td>0.000000</td>\n",
       "      <td>0.000000</td>\n",
       "      <td>0.000000</td>\n",
       "      <td>0.000000</td>\n",
       "      <td>0.000000</td>\n",
       "      <td>0.000000</td>\n",
       "      <td>0.000000</td>\n",
       "      <td>0.000000</td>\n",
       "      <td>0.000000</td>\n",
       "      <td>0.000000</td>\n",
       "      <td>0.000000</td>\n",
       "      <td>0.000000</td>\n",
       "      <td>0.000000</td>\n",
       "      <td>0.000000</td>\n",
       "      <td>0.000000</td>\n",
       "    </tr>\n",
       "    <tr>\n",
       "      <td>25%</td>\n",
       "      <td>0.057726</td>\n",
       "      <td>0.000000</td>\n",
       "      <td>0.223486</td>\n",
       "      <td>0.000000</td>\n",
       "      <td>0.037018</td>\n",
       "      <td>0.000000</td>\n",
       "      <td>0.000000</td>\n",
       "      <td>0.000000</td>\n",
       "      <td>0.000000</td>\n",
       "      <td>0.000000</td>\n",
       "      <td>0.000000</td>\n",
       "      <td>0.000000</td>\n",
       "      <td>0.000000</td>\n",
       "      <td>0.000000</td>\n",
       "      <td>0.000000</td>\n",
       "      <td>0.000000</td>\n",
       "      <td>0.000000</td>\n",
       "      <td>0.000000</td>\n",
       "      <td>0.000000</td>\n",
       "      <td>0.000000</td>\n",
       "    </tr>\n",
       "    <tr>\n",
       "      <td>50%</td>\n",
       "      <td>0.090438</td>\n",
       "      <td>0.000000</td>\n",
       "      <td>0.499064</td>\n",
       "      <td>0.474567</td>\n",
       "      <td>0.069690</td>\n",
       "      <td>0.000000</td>\n",
       "      <td>0.000000</td>\n",
       "      <td>0.000000</td>\n",
       "      <td>0.000000</td>\n",
       "      <td>0.000000</td>\n",
       "      <td>0.000000</td>\n",
       "      <td>0.000000</td>\n",
       "      <td>0.000000</td>\n",
       "      <td>0.000000</td>\n",
       "      <td>0.000000</td>\n",
       "      <td>0.000000</td>\n",
       "      <td>0.000000</td>\n",
       "      <td>0.000000</td>\n",
       "      <td>0.000000</td>\n",
       "      <td>0.000000</td>\n",
       "    </tr>\n",
       "    <tr>\n",
       "      <td>75%</td>\n",
       "      <td>0.160761</td>\n",
       "      <td>0.000000</td>\n",
       "      <td>1.000000</td>\n",
       "      <td>0.771152</td>\n",
       "      <td>0.118439</td>\n",
       "      <td>0.000000</td>\n",
       "      <td>1.000000</td>\n",
       "      <td>0.000000</td>\n",
       "      <td>0.000000</td>\n",
       "      <td>0.000000</td>\n",
       "      <td>0.000000</td>\n",
       "      <td>0.000000</td>\n",
       "      <td>0.000000</td>\n",
       "      <td>1.000000</td>\n",
       "      <td>0.000000</td>\n",
       "      <td>1.000000</td>\n",
       "      <td>0.000000</td>\n",
       "      <td>0.000000</td>\n",
       "      <td>0.000000</td>\n",
       "      <td>0.000000</td>\n",
       "    </tr>\n",
       "    <tr>\n",
       "      <td>max</td>\n",
       "      <td>1.000000</td>\n",
       "      <td>1.000000</td>\n",
       "      <td>1.000000</td>\n",
       "      <td>1.000000</td>\n",
       "      <td>1.000000</td>\n",
       "      <td>1.000000</td>\n",
       "      <td>1.000000</td>\n",
       "      <td>1.000000</td>\n",
       "      <td>1.000000</td>\n",
       "      <td>1.000000</td>\n",
       "      <td>1.000000</td>\n",
       "      <td>1.000000</td>\n",
       "      <td>1.000000</td>\n",
       "      <td>1.000000</td>\n",
       "      <td>1.000000</td>\n",
       "      <td>1.000000</td>\n",
       "      <td>1.000000</td>\n",
       "      <td>1.000000</td>\n",
       "      <td>1.000000</td>\n",
       "      <td>1.000000</td>\n",
       "    </tr>\n",
       "  </tbody>\n",
       "</table>\n",
       "</div>"
      ],
      "text/plain": [
       "       Area2refArea  Hotwater(kWh)_Etot  SolarPanel(kWh)_Etot  Wind(kWh)_Etot  \\\n",
       "count    818.000000          818.000000            818.000000      818.000000   \n",
       "mean       0.138659            0.010218              0.564982        0.425773   \n",
       "std        0.133876            0.092134              0.360641        0.360364   \n",
       "min        0.000000            0.000000              0.000000        0.000000   \n",
       "25%        0.057726            0.000000              0.223486        0.000000   \n",
       "50%        0.090438            0.000000              0.499064        0.474567   \n",
       "75%        0.160761            0.000000              1.000000        0.771152   \n",
       "max        1.000000            1.000000              1.000000        1.000000   \n",
       "\n",
       "       Energy_tot(kWh_Area)       reg_A       reg_B       reg_C       reg_E  \\\n",
       "count            818.000000  818.000000  818.000000  818.000000  818.000000   \n",
       "mean               0.092226    0.099022    0.350856    0.091687    0.122249   \n",
       "std                0.089323    0.298874    0.477530    0.288760    0.327774   \n",
       "min                0.000000    0.000000    0.000000    0.000000    0.000000   \n",
       "25%                0.037018    0.000000    0.000000    0.000000    0.000000   \n",
       "50%                0.069690    0.000000    0.000000    0.000000    0.000000   \n",
       "75%                0.118439    0.000000    1.000000    0.000000    0.000000   \n",
       "max                1.000000    1.000000    1.000000    1.000000    1.000000   \n",
       "\n",
       "            reg_F       reg_G       reg_I       reg_K    ft_Beach    ft_Hotel  \\\n",
       "count  818.000000  818.000000  818.000000  818.000000  818.000000  818.000000   \n",
       "mean     0.168704    0.064792    0.080685    0.022005    0.321516    0.024450   \n",
       "std      0.374720    0.246309    0.272517    0.146789    0.467344    0.154536   \n",
       "min      0.000000    0.000000    0.000000    0.000000    0.000000    0.000000   \n",
       "25%      0.000000    0.000000    0.000000    0.000000    0.000000    0.000000   \n",
       "50%      0.000000    0.000000    0.000000    0.000000    0.000000    0.000000   \n",
       "75%      0.000000    0.000000    0.000000    0.000000    1.000000    0.000000   \n",
       "max      1.000000    1.000000    1.000000    1.000000    1.000000    1.000000   \n",
       "\n",
       "        ft_Office  ft_Restaurant   ft_School      ft_Spa    ft_Store  \n",
       "count  818.000000     818.000000  818.000000  818.000000  818.000000  \n",
       "mean     0.294621       0.025672    0.114914    0.133252    0.085575  \n",
       "std      0.456151       0.158253    0.319114    0.340055    0.279906  \n",
       "min      0.000000       0.000000    0.000000    0.000000    0.000000  \n",
       "25%      0.000000       0.000000    0.000000    0.000000    0.000000  \n",
       "50%      0.000000       0.000000    0.000000    0.000000    0.000000  \n",
       "75%      1.000000       0.000000    0.000000    0.000000    0.000000  \n",
       "max      1.000000       1.000000    1.000000    1.000000    1.000000  "
      ]
     },
     "execution_count": 4,
     "metadata": {},
     "output_type": "execute_result"
    }
   ],
   "source": [
    "from sklearn.preprocessing import MinMaxScaler\n",
    "scaler1 = MinMaxScaler()\n",
    "scaler2 = MinMaxScaler()\n",
    "scaler3 = MinMaxScaler()\n",
    "\n",
    "X1 = df1_dum.drop(['ROI criterium'], axis=1)\n",
    "y1 = df1_dum['ROI criterium']\n",
    "\n",
    "X2 = df2_dum.drop(['ROI criterium'], axis=1)\n",
    "y2 = df2_dum['ROI criterium']\n",
    "\n",
    "X3 = df3_dum.drop(['ROI criterium'], axis=1)\n",
    "y3 = df3_dum['ROI criterium']\n",
    "\n",
    "X_mms_1 = X1\n",
    "X_mms_1[X_mms_1.columns] = scaler1.fit_transform(X_mms_1[X_mms_1.columns])\n",
    "\n",
    "X_mms_2 = X2\n",
    "X_mms_2[X_mms_2.columns] = scaler2.fit_transform(X_mms_2[X_mms_2.columns])\n",
    "\n",
    "X_mms_3 = X3\n",
    "X_mms_3[X_mms_3.columns] = scaler3.fit_transform(X_mms_3[X_mms_3.columns])\n",
    "\n",
    "X_mms_3.describe()"
   ]
  },
  {
   "cell_type": "markdown",
   "metadata": {},
   "source": [
    "**Train/Test split**"
   ]
  },
  {
   "cell_type": "code",
   "execution_count": 5,
   "metadata": {},
   "outputs": [],
   "source": [
    "from sklearn import model_selection\n",
    "X1_train, X1_test, y1_train, y1_test = model_selection.train_test_split(X_mms_1,y1,train_size=0.8, random_state=42)\n",
    "X2_train, X2_test, y2_train, y2_test = model_selection.train_test_split(X_mms_2,y2,train_size=0.8, random_state=42)\n",
    "X3_train, X3_test, y3_train, y3_test = model_selection.train_test_split(X_mms_3,y3,train_size=0.8, random_state=42)"
   ]
  },
  {
   "cell_type": "markdown",
   "metadata": {},
   "source": [
    "**As an example, checking if the values in some features are normally distributed**"
   ]
  },
  {
   "cell_type": "code",
   "execution_count": 23,
   "metadata": {},
   "outputs": [
    {
     "name": "stdout",
     "output_type": "stream",
     "text": [
      "Chekcing Normaly distributed before the Z test \n",
      "\n",
      "Shapiro-Wilk for the array Energy_tot(kWh_Area) has: Statistics=0.738 and p=0.00000\n",
      "D’Agostino for the array Energy_tot(kWh_Area) has: Statistics=638.605 and p=0.00000\n",
      "\n",
      "Shapiro-Wilk for the array Area2refArea has: Statistics=0.722 and p=0.00000\n",
      "D’Agostino for the array Area2refArea has: Statistics=467.564 and p=0.00000\n",
      "\n",
      "Shapiro-Wilk for the array SolarPanel(kWh)_Etot has: Statistics=0.840 and p=0.00000\n",
      "D’Agostino for the array SolarPanel(kWh)_Etot has: Statistics=4347.553 and p=0.00000\n",
      "\n",
      "Z test on target array and the feature: Energy_tot(kWh_Area), Statistics=66.569, p=0.0000000\n",
      "Z test on target array and the feature: Area2refArea, Statistics=-12.131, p=0.0000000\n",
      "Z test on target array and the feature: SolarPanel(kWh)_Etot, Statistics=74.783, p=0.0000000\n"
     ]
    }
   ],
   "source": [
    "from scipy.stats import shapiro\n",
    "from scipy.stats import mstats\n",
    "from statsmodels.stats import weightstats\n",
    "\n",
    "def Normality_check(arr,str1ng):\n",
    "    stat_sw, p_sw = shapiro(arr)\n",
    "    stat_nt, p_nt = mstats.normaltest(arr) # D’Agostino \n",
    "    print('Shapiro-Wilk for the array %s has: Statistics=%.3f and p=%.5f' % (str1ng,stat_sw,p_sw))\n",
    "    print('D’Agostino for the array %s has: Statistics=%.3f and p=%.5f' % (str1ng,stat_nt,p_nt))\n",
    "    print('')\n",
    "    return\n",
    "\n",
    "#checking normaly distributed\n",
    "print('Chekcing Normaly distributed before the Z test \\n')\n",
    "Normality_check(df1_dum['Energy_tot(kWh_Area)'],'Energy_tot(kWh_Area)')\n",
    "Normality_check(df1_dum['Area2refArea'],'Area2refArea')\n",
    "Normality_check(df1_dum['SolarPanel(kWh)_Etot'],'SolarPanel(kWh)_Etot')\n",
    "\n",
    "# Z test\n",
    "stat_z_1_etot ,p_z_1_etot = weightstats.ztest(y1_test, df1_dum['Energy_tot(kWh_Area)'],alternative='two-sided')\n",
    "print('Z test on target array and the feature: Energy_tot(kWh_Area), Statistics=%.3f, p=%.7f' % (stat_z_1_etot ,p_z_1_etot))\n",
    "stat_z_1_ar ,p_z_1_ar = weightstats.ztest(y1_test, df1_dum['Area2refArea'],alternative='two-sided')\n",
    "print('Z test on target array and the feature: Area2refArea, Statistics=%.3f, p=%.7f' % (stat_z_1_ar ,p_z_1_ar))\n",
    "stat_z_1_sp ,p_z_1_sp = weightstats.ztest(y1_test, df1_dum['SolarPanel(kWh)_Etot'],alternative='two-sided')\n",
    "print('Z test on target array and the feature: SolarPanel(kWh)_Etot, Statistics=%.3f, p=%.7f' % (stat_z_1_sp ,p_z_1_sp))"
   ]
  },
  {
   "cell_type": "markdown",
   "metadata": {},
   "source": [
    "**Linear regression model**"
   ]
  },
  {
   "cell_type": "code",
   "execution_count": 97,
   "metadata": {
    "scrolled": true
   },
   "outputs": [
    {
     "data": {
      "text/html": [
       "<div>\n",
       "<style scoped>\n",
       "    .dataframe tbody tr th:only-of-type {\n",
       "        vertical-align: middle;\n",
       "    }\n",
       "\n",
       "    .dataframe tbody tr th {\n",
       "        vertical-align: top;\n",
       "    }\n",
       "\n",
       "    .dataframe thead th {\n",
       "        text-align: right;\n",
       "    }\n",
       "</style>\n",
       "<table border=\"1\" class=\"dataframe\">\n",
       "  <thead>\n",
       "    <tr style=\"text-align: right;\">\n",
       "      <th></th>\n",
       "      <th>Regression</th>\n",
       "      <th>R2_score</th>\n",
       "      <th>RMSE</th>\n",
       "      <th>RMSLE</th>\n",
       "      <th>CPU_time(s)</th>\n",
       "    </tr>\n",
       "  </thead>\n",
       "  <tbody>\n",
       "    <tr>\n",
       "      <td>0</td>\n",
       "      <td>lin_reg_1</td>\n",
       "      <td>0.707107</td>\n",
       "      <td>12.483451</td>\n",
       "      <td>0.166490</td>\n",
       "      <td>0.005301</td>\n",
       "    </tr>\n",
       "    <tr>\n",
       "      <td>0</td>\n",
       "      <td>lin_reg_2</td>\n",
       "      <td>0.670481</td>\n",
       "      <td>13.240977</td>\n",
       "      <td>0.180048</td>\n",
       "      <td>0.005344</td>\n",
       "    </tr>\n",
       "    <tr>\n",
       "      <td>0</td>\n",
       "      <td>lin_reg_3</td>\n",
       "      <td>0.705343</td>\n",
       "      <td>12.520981</td>\n",
       "      <td>0.171142</td>\n",
       "      <td>0.005572</td>\n",
       "    </tr>\n",
       "  </tbody>\n",
       "</table>\n",
       "</div>"
      ],
      "text/plain": [
       "  Regression  R2_score       RMSE     RMSLE  CPU_time(s)\n",
       "0  lin_reg_1  0.707107  12.483451  0.166490     0.005301\n",
       "0  lin_reg_2  0.670481  13.240977  0.180048     0.005344\n",
       "0  lin_reg_3  0.705343  12.520981  0.171142     0.005572"
      ]
     },
     "execution_count": 97,
     "metadata": {},
     "output_type": "execute_result"
    }
   ],
   "source": [
    "from sklearn.model_selection import cross_val_score # for cross-validation evaluation\n",
    "from sklearn.linear_model import LinearRegression\n",
    "import timeit\n",
    "\n",
    "l_reg_1 = LinearRegression()\n",
    "l_reg_2 = LinearRegression()\n",
    "l_reg_3 = LinearRegression()\n",
    "\n",
    "\n",
    "# Model evaluation by cross-validation\n",
    "l_reg_1_score = cross_val_score(l_reg_1, X1_train, y1_train, cv=6, n_jobs= -1)# Model evaluation by cross-validation\n",
    "l_reg_2_score = cross_val_score(l_reg_2, X2_train, y2_train, cv=6, n_jobs= -1)\n",
    "l_reg_3_score = cross_val_score(l_reg_3, X3_train, y3_train, cv=6, n_jobs= -1)\n",
    "\n",
    "# start time \n",
    "start_l_reg_1 = timeit.default_timer()\n",
    "\n",
    "# Fit the model to the training set\n",
    "l_reg_1.fit(X1_train, y1_train)\n",
    "\n",
    "#end time and time difference\n",
    "time_l_reg_1 = timeit.default_timer() - start_l_reg_1\n",
    "\n",
    "# similarly for X2\n",
    "start_l_reg_2 = timeit.default_timer()\n",
    "l_reg_2.fit(X2_train, y2_train)\n",
    "time_l_reg_2 = timeit.default_timer() - start_l_reg_2\n",
    "\n",
    "# similarly for X3\n",
    "start_l_reg_3 = timeit.default_timer()\n",
    "l_reg_3.fit(X3_train, y3_train)\n",
    "time_l_reg_3 = timeit.default_timer() - start_l_reg_3\n",
    "\n",
    "# Compute predictions from the test set\n",
    "y1_pred = l_reg_1.predict(X1_test)\n",
    "y2_pred = l_reg_2.predict(X2_test)\n",
    "y3_pred = l_reg_3.predict(X3_test)\n",
    "\n",
    "df_lin_reg_1 = Reg_metrics('lin_reg_1',y1_test,y1_pred)\n",
    "df_lin_reg_1['CPU_time(s)'] = time_l_reg_1\n",
    "df_lin_reg_2 = Reg_metrics('lin_reg_2',y2_test,y2_pred)\n",
    "df_lin_reg_2['CPU_time(s)'] = time_l_reg_2\n",
    "df_lin_reg_3 = Reg_metrics('lin_reg_3',y3_test,y3_pred)\n",
    "df_lin_reg_3['CPU_time(s)'] = time_l_reg_3\n",
    "\n",
    "\n",
    "# store df_lin_reg in a df df_m that will compare all methods\n",
    "df_m = df_lin_reg_1\n",
    "df_m = df_m.append(df_lin_reg_2)\n",
    "df_m = df_m.append(df_lin_reg_3)\n",
    "\n",
    "df_m"
   ]
  },
  {
   "cell_type": "code",
   "execution_count": 28,
   "metadata": {},
   "outputs": [
    {
     "data": {
      "text/html": [
       "<div>\n",
       "<style scoped>\n",
       "    .dataframe tbody tr th:only-of-type {\n",
       "        vertical-align: middle;\n",
       "    }\n",
       "\n",
       "    .dataframe tbody tr th {\n",
       "        vertical-align: top;\n",
       "    }\n",
       "\n",
       "    .dataframe thead th {\n",
       "        text-align: right;\n",
       "    }\n",
       "</style>\n",
       "<table border=\"1\" class=\"dataframe\">\n",
       "  <thead>\n",
       "    <tr style=\"text-align: right;\">\n",
       "      <th></th>\n",
       "      <th>Features</th>\n",
       "      <th>Lin_reg_coef Dataframe 2</th>\n",
       "    </tr>\n",
       "  </thead>\n",
       "  <tbody>\n",
       "    <tr>\n",
       "      <td>1</td>\n",
       "      <td>Energy_tot(kWh_Area)</td>\n",
       "      <td>229.612234</td>\n",
       "    </tr>\n",
       "    <tr>\n",
       "      <td>0</td>\n",
       "      <td>Area2refArea</td>\n",
       "      <td>101.512378</td>\n",
       "    </tr>\n",
       "    <tr>\n",
       "      <td>14</td>\n",
       "      <td>ft_School</td>\n",
       "      <td>10.157853</td>\n",
       "    </tr>\n",
       "    <tr>\n",
       "      <td>15</td>\n",
       "      <td>ft_Spa</td>\n",
       "      <td>8.668405</td>\n",
       "    </tr>\n",
       "    <tr>\n",
       "      <td>6</td>\n",
       "      <td>reg_F</td>\n",
       "      <td>3.933420</td>\n",
       "    </tr>\n",
       "  </tbody>\n",
       "</table>\n",
       "</div>"
      ],
      "text/plain": [
       "                Features  Lin_reg_coef Dataframe 2\n",
       "1   Energy_tot(kWh_Area)                229.612234\n",
       "0           Area2refArea                101.512378\n",
       "14             ft_School                 10.157853\n",
       "15                ft_Spa                  8.668405\n",
       "6                  reg_F                  3.933420"
      ]
     },
     "execution_count": 28,
     "metadata": {},
     "output_type": "execute_result"
    }
   ],
   "source": [
    "arr_col_x2 = np.array(df2_dum.drop(columns=['ROI criterium']).columns.values.tolist())\n",
    "df_coef_lin_reg_2 = pd.DataFrame({'Features':arr_col_x2 ,'Lin_reg_coef Dataframe 2':abs(l_reg_2.coef_)})\n",
    "df_coef_lin_reg_2.sort_values(by=['Lin_reg_coef Dataframe 2'], ascending=False).head()"
   ]
  },
  {
   "cell_type": "code",
   "execution_count": 29,
   "metadata": {},
   "outputs": [
    {
     "data": {
      "image/png": "[encoded data removed]",
      "text/plain": [
       "<Figure size 432x288 with 1 Axes>"
      ]
     },
     "metadata": {
      "needs_background": "light"
     },
     "output_type": "display_data"
    }
   ],
   "source": [
    "# Visualize the predictions against the actual target values\n",
    "ax_test = sns.distplot(y1_test, hist=False, color='r', label='test')\n",
    "sns_plot1 = sns.distplot(y1_pred, hist=False,kde_kws={'linestyle':'dashed','marker':'x','markersize':'3'}, \n",
    "                         color='b',label='prediction dataframe 1', ax=ax_test)\n",
    "sns_plot2 = sns.distplot(y2_pred, hist=False, kde_kws={'linestyle':'dashed','marker':'o','markersize':'2'}, \n",
    "                         color='m',label='prediction dataframe 2', ax=ax_test)\n",
    "sns_plot3 = sns.distplot(y3_pred, hist=False, color='g',label='prediction dataframe 3', ax=ax_test)"
   ]
  },
  {
   "cell_type": "markdown",
   "metadata": {},
   "source": [
    "**Ridge Regression**"
   ]
  },
  {
   "cell_type": "code",
   "execution_count": 30,
   "metadata": {},
   "outputs": [
    {
     "name": "stdout",
     "output_type": "stream",
     "text": [
      "The best alpha for df1 is : 0.1\n",
      "The best alpha for df2 is : 0.1\n",
      "The best alpha for df3 is : 0.1\n"
     ]
    }
   ],
   "source": [
    "from sklearn.linear_model import RidgeCV\n",
    "alph = np.geomspace(0.00001, 10000, num=10).tolist()\n",
    "\n",
    "rig_reg_grid_1 = RidgeCV(alphas=alph,cv=6).fit(X1_train, y1_train)\n",
    "rig_reg_grid_2 = RidgeCV(alphas=alph,cv=6).fit(X2_train, y2_train)\n",
    "rig_reg_grid_3 = RidgeCV(alphas=alph,cv=6).fit(X3_train, y3_train)\n",
    "\n",
    "# Evaluate hyperparameter\n",
    "print(\"The best alpha for df1 is : {}\".format(rig_reg_grid_1.alpha_))\n",
    "print(\"The best alpha for df2 is : {}\".format(rig_reg_grid_2.alpha_))\n",
    "print(\"The best alpha for df3 is : {}\".format(rig_reg_grid_3.alpha_))"
   ]
  },
  {
   "cell_type": "code",
   "execution_count": 98,
   "metadata": {},
   "outputs": [
    {
     "data": {
      "text/html": [
       "<div>\n",
       "<style scoped>\n",
       "    .dataframe tbody tr th:only-of-type {\n",
       "        vertical-align: middle;\n",
       "    }\n",
       "\n",
       "    .dataframe tbody tr th {\n",
       "        vertical-align: top;\n",
       "    }\n",
       "\n",
       "    .dataframe thead th {\n",
       "        text-align: right;\n",
       "    }\n",
       "</style>\n",
       "<table border=\"1\" class=\"dataframe\">\n",
       "  <thead>\n",
       "    <tr style=\"text-align: right;\">\n",
       "      <th></th>\n",
       "      <th>Regression</th>\n",
       "      <th>R2_score</th>\n",
       "      <th>RMSE</th>\n",
       "      <th>RMSLE</th>\n",
       "      <th>CPU_time(s)</th>\n",
       "    </tr>\n",
       "  </thead>\n",
       "  <tbody>\n",
       "    <tr>\n",
       "      <td>0</td>\n",
       "      <td>rig_reg_1</td>\n",
       "      <td>0.702565</td>\n",
       "      <td>12.579873</td>\n",
       "      <td>0.171442</td>\n",
       "      <td>0.010461</td>\n",
       "    </tr>\n",
       "    <tr>\n",
       "      <td>0</td>\n",
       "      <td>rig_reg_2</td>\n",
       "      <td>0.669176</td>\n",
       "      <td>13.267175</td>\n",
       "      <td>0.180861</td>\n",
       "      <td>0.009795</td>\n",
       "    </tr>\n",
       "    <tr>\n",
       "      <td>0</td>\n",
       "      <td>rig_reg_3</td>\n",
       "      <td>0.701998</td>\n",
       "      <td>12.591843</td>\n",
       "      <td>0.171457</td>\n",
       "      <td>0.008496</td>\n",
       "    </tr>\n",
       "  </tbody>\n",
       "</table>\n",
       "</div>"
      ],
      "text/plain": [
       "  Regression  R2_score       RMSE     RMSLE  CPU_time(s)\n",
       "0  rig_reg_1  0.702565  12.579873  0.171442     0.010461\n",
       "0  rig_reg_2  0.669176  13.267175  0.180861     0.009795\n",
       "0  rig_reg_3  0.701998  12.591843  0.171457     0.008496"
      ]
     },
     "execution_count": 98,
     "metadata": {},
     "output_type": "execute_result"
    }
   ],
   "source": [
    "start_rig_reg_1 = timeit.default_timer()\n",
    "rig_reg_1 = RidgeCV(alphas=[rig_reg_grid_1.alpha_]).fit(X1_train, y1_train)\n",
    "time_rig_reg_1 = timeit.default_timer() - start_rig_reg_1\n",
    "\n",
    "start_rig_reg_2 = timeit.default_timer()\n",
    "rig_reg_2 = RidgeCV(alphas=[rig_reg_grid_2.alpha_]).fit(X2_train, y2_train)\n",
    "time_rig_reg_2 = timeit.default_timer() - start_rig_reg_2\n",
    "\n",
    "start_rig_reg_3 = timeit.default_timer()\n",
    "rig_reg_3= RidgeCV(alphas=[rig_reg_grid_3.alpha_]).fit(X3_train, y3_train)\n",
    "time_rig_reg_3 = timeit.default_timer() - start_rig_reg_3\n",
    "\n",
    "# Compute predictions from the test set\n",
    "y1_pred_rig_reg = rig_reg_1.predict(X1_test)\n",
    "y2_pred_rig_reg = rig_reg_2.predict(X2_test)\n",
    "y3_pred_rig_reg = rig_reg_3.predict(X3_test)\n",
    "\n",
    "df_rig_reg_1 = Reg_metrics('rig_reg_1',y1_test,y1_pred_rig_reg)\n",
    "df_rig_reg_1['CPU_time(s)'] = time_rig_reg_1\n",
    "df_m = df_m.append(df_rig_reg_1)\n",
    "\n",
    "df_rig_reg_2 = Reg_metrics('rig_reg_2',y2_test,y2_pred_rig_reg)\n",
    "df_rig_reg_2['CPU_time(s)'] = time_rig_reg_2\n",
    "df_m = df_m.append(df_rig_reg_2)\n",
    "\n",
    "df_rig_reg_3 = Reg_metrics('rig_reg_3',y3_test,y3_pred_rig_reg)\n",
    "df_rig_reg_3['CPU_time(s)'] = time_rig_reg_3\n",
    "df_m = df_m.append(df_rig_reg_3)\n",
    "\n",
    "df_m.tail(3)"
   ]
  },
  {
   "cell_type": "code",
   "execution_count": 32,
   "metadata": {},
   "outputs": [
    {
     "data": {
      "image/png": "[encoded data removed]",
      "text/plain": [
       "<Figure size 432x288 with 1 Axes>"
      ]
     },
     "metadata": {
      "needs_background": "light"
     },
     "output_type": "display_data"
    }
   ],
   "source": [
    "baseline_error = np.mean((l_reg_1.predict(X1_test) - y1_test) ** 2)\n",
    "coefs_rig_reg = []\n",
    "errors_rig_reg = []\n",
    "for a in alph:\n",
    "    rig_reg_a = RidgeCV(alphas=[a],cv=6).fit(X1_train, y1_train)\n",
    "    coefs_rig_reg.append(rig_reg_a.coef_)\n",
    "    errors_rig_reg.append([baseline_error, np.mean((rig_reg_a.predict(X1_test) - y1_test) ** 2)])\n",
    "\n",
    "ax = plt.gca()\n",
    "\n",
    "ax.plot(alph, coefs_rig_reg)\n",
    "ax.set_xscale('log')\n",
    "plt.xlabel('alpha')\n",
    "plt.ylabel('weights')\n",
    "plt.title('Ridge coefficients as a function of the regularization')\n",
    "plt.axis('tight')\n",
    "plt.show()"
   ]
  },
  {
   "cell_type": "code",
   "execution_count": 33,
   "metadata": {},
   "outputs": [
    {
     "data": {
      "image/png": "[encoded data removed]",
      "text/plain": [
       "<Figure size 432x288 with 1 Axes>"
      ]
     },
     "metadata": {
      "needs_background": "light"
     },
     "output_type": "display_data"
    }
   ],
   "source": [
    "ax = plt.gca()\n",
    "\n",
    "ax.plot(alph, errors_rig_reg)\n",
    "ax.set_xscale('log')\n",
    "plt.xlabel('alpha')\n",
    "plt.ylabel('error')\n",
    "plt.title('Error as a function of the regularization')\n",
    "plt.axis('tight')\n",
    "plt.show()"
   ]
  },
  {
   "cell_type": "code",
   "execution_count": 34,
   "metadata": {},
   "outputs": [
    {
     "data": {
      "text/html": [
       "<div>\n",
       "<style scoped>\n",
       "    .dataframe tbody tr th:only-of-type {\n",
       "        vertical-align: middle;\n",
       "    }\n",
       "\n",
       "    .dataframe tbody tr th {\n",
       "        vertical-align: top;\n",
       "    }\n",
       "\n",
       "    .dataframe thead th {\n",
       "        text-align: right;\n",
       "    }\n",
       "</style>\n",
       "<table border=\"1\" class=\"dataframe\">\n",
       "  <thead>\n",
       "    <tr style=\"text-align: right;\">\n",
       "      <th></th>\n",
       "      <th>Features</th>\n",
       "      <th>Rig_reg_coef Dataframe 1</th>\n",
       "    </tr>\n",
       "  </thead>\n",
       "  <tbody>\n",
       "    <tr>\n",
       "      <td>2</td>\n",
       "      <td>Energy_tot(kWh_Area)</td>\n",
       "      <td>185.751057</td>\n",
       "    </tr>\n",
       "    <tr>\n",
       "      <td>0</td>\n",
       "      <td>Area2refArea</td>\n",
       "      <td>102.794192</td>\n",
       "    </tr>\n",
       "    <tr>\n",
       "      <td>1</td>\n",
       "      <td>SolarPanel(kWh)_Etot</td>\n",
       "      <td>23.108623</td>\n",
       "    </tr>\n",
       "    <tr>\n",
       "      <td>16</td>\n",
       "      <td>ft_Spa</td>\n",
       "      <td>6.531540</td>\n",
       "    </tr>\n",
       "    <tr>\n",
       "      <td>17</td>\n",
       "      <td>ft_Store</td>\n",
       "      <td>5.083692</td>\n",
       "    </tr>\n",
       "  </tbody>\n",
       "</table>\n",
       "</div>"
      ],
      "text/plain": [
       "                Features  Rig_reg_coef Dataframe 1\n",
       "2   Energy_tot(kWh_Area)                185.751057\n",
       "0           Area2refArea                102.794192\n",
       "1   SolarPanel(kWh)_Etot                 23.108623\n",
       "16                ft_Spa                  6.531540\n",
       "17              ft_Store                  5.083692"
      ]
     },
     "execution_count": 34,
     "metadata": {},
     "output_type": "execute_result"
    }
   ],
   "source": [
    "arr_col_x1 = np.array(df1_dum.drop(columns=['ROI criterium']).columns.values.tolist())\n",
    "df_coef_rig_reg_1 = pd.DataFrame({'Features':arr_col_x1 , 'Rig_reg_coef Dataframe 1':abs(rig_reg_1.coef_)})\n",
    "df_coef_rig_reg_1.sort_values(by=['Rig_reg_coef Dataframe 1'], ascending=False).head()"
   ]
  },
  {
   "cell_type": "code",
   "execution_count": 36,
   "metadata": {},
   "outputs": [
    {
     "data": {
      "text/html": [
       "<div>\n",
       "<style scoped>\n",
       "    .dataframe tbody tr th:only-of-type {\n",
       "        vertical-align: middle;\n",
       "    }\n",
       "\n",
       "    .dataframe tbody tr th {\n",
       "        vertical-align: top;\n",
       "    }\n",
       "\n",
       "    .dataframe thead th {\n",
       "        text-align: right;\n",
       "    }\n",
       "</style>\n",
       "<table border=\"1\" class=\"dataframe\">\n",
       "  <thead>\n",
       "    <tr style=\"text-align: right;\">\n",
       "      <th></th>\n",
       "      <th>Features</th>\n",
       "      <th>Lin_reg_coef Dataframe 2</th>\n",
       "    </tr>\n",
       "  </thead>\n",
       "  <tbody>\n",
       "    <tr>\n",
       "      <td>1</td>\n",
       "      <td>Energy_tot(kWh_Area)</td>\n",
       "      <td>224.824042</td>\n",
       "    </tr>\n",
       "    <tr>\n",
       "      <td>0</td>\n",
       "      <td>Area2refArea</td>\n",
       "      <td>100.067600</td>\n",
       "    </tr>\n",
       "    <tr>\n",
       "      <td>14</td>\n",
       "      <td>ft_School</td>\n",
       "      <td>10.113023</td>\n",
       "    </tr>\n",
       "    <tr>\n",
       "      <td>15</td>\n",
       "      <td>ft_Spa</td>\n",
       "      <td>8.569837</td>\n",
       "    </tr>\n",
       "    <tr>\n",
       "      <td>6</td>\n",
       "      <td>reg_F</td>\n",
       "      <td>3.929448</td>\n",
       "    </tr>\n",
       "  </tbody>\n",
       "</table>\n",
       "</div>"
      ],
      "text/plain": [
       "                Features  Lin_reg_coef Dataframe 2\n",
       "1   Energy_tot(kWh_Area)                224.824042\n",
       "0           Area2refArea                100.067600\n",
       "14             ft_School                 10.113023\n",
       "15                ft_Spa                  8.569837\n",
       "6                  reg_F                  3.929448"
      ]
     },
     "execution_count": 36,
     "metadata": {},
     "output_type": "execute_result"
    }
   ],
   "source": [
    "arr_col_x2 = np.array(df2_dum.drop(columns=['ROI criterium']).columns.values.tolist())\n",
    "df_coef_lin_reg_2 = pd.DataFrame({'Features':arr_col_x2 ,'Lin_reg_coef Dataframe 2':abs(rig_reg_2.coef_)})\n",
    "df_coef_lin_reg_2.sort_values(by=['Lin_reg_coef Dataframe 2'], ascending=False).head()"
   ]
  },
  {
   "cell_type": "code",
   "execution_count": 37,
   "metadata": {},
   "outputs": [
    {
     "data": {
      "image/png": "[encoded data removed]",
      "text/plain": [
       "<Figure size 432x288 with 1 Axes>"
      ]
     },
     "metadata": {
      "needs_background": "light"
     },
     "output_type": "display_data"
    }
   ],
   "source": [
    "ax_test = sns.distplot(y1_test, hist=False, color='r', label='test')\n",
    "sns_plot1 = sns.distplot(y1_pred_rig_reg, hist=False, color='b',label='prediction Dataframe 1', ax=ax_test)\n",
    "sns_plot2 = sns.distplot(y2_pred_rig_reg, hist=False, kde_kws={'linestyle':'dashed','marker':'o','markersize':'2'}, color='m',\n",
    "                         label='prediction Dataframe 2', ax=ax_test)\n",
    "sns_plot3 = sns.distplot(y3_pred_rig_reg, hist=False, color='g',label='prediction Dataframe 3', ax=ax_test)"
   ]
  },
  {
   "cell_type": "markdown",
   "metadata": {},
   "source": [
    "**Lasso's method**"
   ]
  },
  {
   "cell_type": "code",
   "execution_count": 38,
   "metadata": {},
   "outputs": [
    {
     "name": "stdout",
     "output_type": "stream",
     "text": [
      "The best alpha for df1 is: 0.1\n",
      "The best alpha for df2 is: 0.1\n",
      "The best alpha for df3 is: 0.1\n"
     ]
    }
   ],
   "source": [
    "from sklearn.linear_model import LassoCV\n",
    "alph_lasso = np.geomspace(0.001, 1000, num=7).tolist()\n",
    "\n",
    "lasso_reg_grid_1 = LassoCV(alphas=alph_lasso ,cv=6).fit(X1_train, y1_train)\n",
    "lasso_reg_grid_2 = LassoCV(alphas=alph_lasso ,cv=6).fit(X2_train, y2_train)\n",
    "lasso_reg_grid_3 = LassoCV(alphas=alph_lasso ,cv=6).fit(X3_train, y3_train)\n",
    "\n",
    "# Evaluate best hyperparameter alpha\n",
    "print(\"The best alpha for df1 is: {}\".format(lasso_reg_grid_1.alpha_))\n",
    "print(\"The best alpha for df2 is: {}\".format(lasso_reg_grid_2.alpha_))\n",
    "print(\"The best alpha for df3 is: {}\".format(lasso_reg_grid_3.alpha_))"
   ]
  },
  {
   "cell_type": "code",
   "execution_count": 99,
   "metadata": {},
   "outputs": [
    {
     "data": {
      "text/html": [
       "<div>\n",
       "<style scoped>\n",
       "    .dataframe tbody tr th:only-of-type {\n",
       "        vertical-align: middle;\n",
       "    }\n",
       "\n",
       "    .dataframe tbody tr th {\n",
       "        vertical-align: top;\n",
       "    }\n",
       "\n",
       "    .dataframe thead th {\n",
       "        text-align: right;\n",
       "    }\n",
       "</style>\n",
       "<table border=\"1\" class=\"dataframe\">\n",
       "  <thead>\n",
       "    <tr style=\"text-align: right;\">\n",
       "      <th></th>\n",
       "      <th>Regression</th>\n",
       "      <th>R2_score</th>\n",
       "      <th>RMSE</th>\n",
       "      <th>RMSLE</th>\n",
       "      <th>CPU_time(s)</th>\n",
       "    </tr>\n",
       "  </thead>\n",
       "  <tbody>\n",
       "    <tr>\n",
       "      <td>0</td>\n",
       "      <td>lasso_reg_1</td>\n",
       "      <td>0.697515</td>\n",
       "      <td>12.686205</td>\n",
       "      <td>0.170219</td>\n",
       "      <td>0.046121</td>\n",
       "    </tr>\n",
       "    <tr>\n",
       "      <td>0</td>\n",
       "      <td>lasso_reg_2</td>\n",
       "      <td>0.675665</td>\n",
       "      <td>13.136411</td>\n",
       "      <td>0.178537</td>\n",
       "      <td>0.034585</td>\n",
       "    </tr>\n",
       "    <tr>\n",
       "      <td>0</td>\n",
       "      <td>lasso_reg_3</td>\n",
       "      <td>0.697887</td>\n",
       "      <td>12.678416</td>\n",
       "      <td>0.169976</td>\n",
       "      <td>0.037441</td>\n",
       "    </tr>\n",
       "  </tbody>\n",
       "</table>\n",
       "</div>"
      ],
      "text/plain": [
       "    Regression  R2_score       RMSE     RMSLE  CPU_time(s)\n",
       "0  lasso_reg_1  0.697515  12.686205  0.170219     0.046121\n",
       "0  lasso_reg_2  0.675665  13.136411  0.178537     0.034585\n",
       "0  lasso_reg_3  0.697887  12.678416  0.169976     0.037441"
      ]
     },
     "execution_count": 99,
     "metadata": {},
     "output_type": "execute_result"
    }
   ],
   "source": [
    "start_lasso_reg_1 = timeit.default_timer()\n",
    "lasso_reg_1= LassoCV(alphas=[lasso_reg_grid_1.alpha_],cv=6).fit(X1_train, y1_train)\n",
    "time_lasso_reg_1 = timeit.default_timer() - start_lasso_reg_1\n",
    "\n",
    "start_lasso_reg_2 = timeit.default_timer()\n",
    "lasso_reg_2 = LassoCV(alphas=[lasso_reg_grid_2.alpha_],cv=6).fit(X2_train, y2_train)\n",
    "time_lasso_reg_2 = timeit.default_timer() - start_lasso_reg_2\n",
    "\n",
    "start_lasso_reg_3 = timeit.default_timer()\n",
    "lasso_reg_3= LassoCV(alphas=[lasso_reg_grid_3.alpha_],cv=6).fit(X3_train, y3_train)\n",
    "time_lasso_reg_3 = timeit.default_timer() - start_lasso_reg_3\n",
    "\n",
    "# Compute predictions from the test set\n",
    "y1_pred_lasso_reg = lasso_reg_1.predict(X1_test)\n",
    "y2_pred_lasso_reg = lasso_reg_2.predict(X2_test)\n",
    "y3_pred_lasso_reg = lasso_reg_3.predict(X3_test)\n",
    "\n",
    "df_lasso_reg_1 = Reg_metrics('lasso_reg_1',y1_test,y1_pred_lasso_reg)\n",
    "df_lasso_reg_1['CPU_time(s)'] = time_lasso_reg_1\n",
    "df_m = df_m.append(df_lasso_reg_1)\n",
    "\n",
    "df_lasso_reg_2 = Reg_metrics('lasso_reg_2',y2_test,y2_pred_lasso_reg)\n",
    "df_lasso_reg_2['CPU_time(s)'] = time_lasso_reg_2\n",
    "df_m = df_m.append(df_lasso_reg_2)\n",
    "\n",
    "df_lasso_reg_3 = Reg_metrics('lasso_reg_3',y3_test,y3_pred_lasso_reg)\n",
    "df_lasso_reg_3['CPU_time(s)'] = time_lasso_reg_3\n",
    "df_m = df_m.append(df_lasso_reg_3)\n",
    "\n",
    "df_m.tail(3)"
   ]
  },
  {
   "cell_type": "code",
   "execution_count": 40,
   "metadata": {},
   "outputs": [
    {
     "data": {
      "image/png": "[encoded data removed]",
      "text/plain": [
       "<Figure size 432x288 with 1 Axes>"
      ]
     },
     "metadata": {
      "needs_background": "light"
     },
     "output_type": "display_data"
    }
   ],
   "source": [
    "coefs_lasso_reg = []\n",
    "errors_lasso_reg = []\n",
    "for a in alph_lasso:\n",
    "    lasso_reg_a = LassoCV(alphas=[a],cv=6).fit(X1_train, y1_train)\n",
    "    coefs_lasso_reg.append(lasso_reg_a.coef_)\n",
    "    errors_lasso_reg.append([baseline_error, np.mean((lasso_reg_a.predict(X1_test) - y1_test) ** 2)])\n",
    "\n",
    "ax = plt.gca()\n",
    "\n",
    "ax.plot(alph_lasso, coefs_lasso_reg)\n",
    "ax.set_xscale('log')\n",
    "plt.xlabel('alpha')\n",
    "plt.ylabel('weights')\n",
    "plt.title('Lasso coefficients as a function of the regularization')\n",
    "plt.axis('tight')\n",
    "plt.show()"
   ]
  },
  {
   "cell_type": "code",
   "execution_count": 41,
   "metadata": {},
   "outputs": [
    {
     "data": {
      "image/png": "[encoded data removed]",
      "text/plain": [
       "<Figure size 432x288 with 1 Axes>"
      ]
     },
     "metadata": {
      "needs_background": "light"
     },
     "output_type": "display_data"
    }
   ],
   "source": [
    "ax = plt.gca()\n",
    "\n",
    "ax.plot(alph_lasso, errors_lasso_reg)\n",
    "ax.set_xscale('log')\n",
    "plt.xlabel('alpha')\n",
    "plt.ylabel('error')\n",
    "plt.title('Error as a function of the regularization')\n",
    "plt.axis('tight')\n",
    "plt.show()"
   ]
  },
  {
   "cell_type": "code",
   "execution_count": 42,
   "metadata": {},
   "outputs": [
    {
     "data": {
      "text/html": [
       "<div>\n",
       "<style scoped>\n",
       "    .dataframe tbody tr th:only-of-type {\n",
       "        vertical-align: middle;\n",
       "    }\n",
       "\n",
       "    .dataframe tbody tr th {\n",
       "        vertical-align: top;\n",
       "    }\n",
       "\n",
       "    .dataframe thead th {\n",
       "        text-align: right;\n",
       "    }\n",
       "</style>\n",
       "<table border=\"1\" class=\"dataframe\">\n",
       "  <thead>\n",
       "    <tr style=\"text-align: right;\">\n",
       "      <th></th>\n",
       "      <th>Features</th>\n",
       "      <th>Lasso_reg_coef Dataframe 1</th>\n",
       "    </tr>\n",
       "  </thead>\n",
       "  <tbody>\n",
       "    <tr>\n",
       "      <td>2</td>\n",
       "      <td>Energy_tot(kWh_Area)</td>\n",
       "      <td>174.852586</td>\n",
       "    </tr>\n",
       "    <tr>\n",
       "      <td>0</td>\n",
       "      <td>Area2refArea</td>\n",
       "      <td>97.056086</td>\n",
       "    </tr>\n",
       "    <tr>\n",
       "      <td>1</td>\n",
       "      <td>SolarPanel(kWh)_Etot</td>\n",
       "      <td>23.506047</td>\n",
       "    </tr>\n",
       "    <tr>\n",
       "      <td>16</td>\n",
       "      <td>ft_Spa</td>\n",
       "      <td>5.941493</td>\n",
       "    </tr>\n",
       "    <tr>\n",
       "      <td>17</td>\n",
       "      <td>ft_Store</td>\n",
       "      <td>3.807723</td>\n",
       "    </tr>\n",
       "  </tbody>\n",
       "</table>\n",
       "</div>"
      ],
      "text/plain": [
       "                Features  Lasso_reg_coef Dataframe 1\n",
       "2   Energy_tot(kWh_Area)                  174.852586\n",
       "0           Area2refArea                   97.056086\n",
       "1   SolarPanel(kWh)_Etot                   23.506047\n",
       "16                ft_Spa                    5.941493\n",
       "17              ft_Store                    3.807723"
      ]
     },
     "execution_count": 42,
     "metadata": {},
     "output_type": "execute_result"
    }
   ],
   "source": [
    "df_coef_lasso_reg = pd.DataFrame({'Features':arr_col_x1 , 'Lasso_reg_coef Dataframe 1':abs(lasso_reg_1.coef_)})\n",
    "df_coef_lasso_reg.sort_values(by=['Lasso_reg_coef Dataframe 1'], ascending=False).head()"
   ]
  },
  {
   "cell_type": "code",
   "execution_count": 43,
   "metadata": {},
   "outputs": [
    {
     "data": {
      "text/html": [
       "<div>\n",
       "<style scoped>\n",
       "    .dataframe tbody tr th:only-of-type {\n",
       "        vertical-align: middle;\n",
       "    }\n",
       "\n",
       "    .dataframe tbody tr th {\n",
       "        vertical-align: top;\n",
       "    }\n",
       "\n",
       "    .dataframe thead th {\n",
       "        text-align: right;\n",
       "    }\n",
       "</style>\n",
       "<table border=\"1\" class=\"dataframe\">\n",
       "  <thead>\n",
       "    <tr style=\"text-align: right;\">\n",
       "      <th></th>\n",
       "      <th>Features</th>\n",
       "      <th>Lasso_reg_coef Dataframe 2</th>\n",
       "    </tr>\n",
       "  </thead>\n",
       "  <tbody>\n",
       "    <tr>\n",
       "      <td>1</td>\n",
       "      <td>Energy_tot(kWh_Area)</td>\n",
       "      <td>215.413228</td>\n",
       "    </tr>\n",
       "    <tr>\n",
       "      <td>0</td>\n",
       "      <td>Area2refArea</td>\n",
       "      <td>93.912842</td>\n",
       "    </tr>\n",
       "    <tr>\n",
       "      <td>14</td>\n",
       "      <td>ft_School</td>\n",
       "      <td>10.426136</td>\n",
       "    </tr>\n",
       "    <tr>\n",
       "      <td>15</td>\n",
       "      <td>ft_Spa</td>\n",
       "      <td>6.111470</td>\n",
       "    </tr>\n",
       "    <tr>\n",
       "      <td>6</td>\n",
       "      <td>reg_F</td>\n",
       "      <td>3.605894</td>\n",
       "    </tr>\n",
       "  </tbody>\n",
       "</table>\n",
       "</div>"
      ],
      "text/plain": [
       "                Features  Lasso_reg_coef Dataframe 2\n",
       "1   Energy_tot(kWh_Area)                  215.413228\n",
       "0           Area2refArea                   93.912842\n",
       "14             ft_School                   10.426136\n",
       "15                ft_Spa                    6.111470\n",
       "6                  reg_F                    3.605894"
      ]
     },
     "execution_count": 43,
     "metadata": {},
     "output_type": "execute_result"
    }
   ],
   "source": [
    "df_coef_lasso_reg_2 = pd.DataFrame({'Features':arr_col_x2 ,'Lasso_reg_coef Dataframe 2':abs(lasso_reg_2.coef_)})\n",
    "df_coef_lasso_reg_2.sort_values(by=['Lasso_reg_coef Dataframe 2'], ascending=False).head()"
   ]
  },
  {
   "cell_type": "code",
   "execution_count": 44,
   "metadata": {},
   "outputs": [
    {
     "data": {
      "image/png": "[encoded data removed]",
      "text/plain": [
       "<Figure size 432x288 with 1 Axes>"
      ]
     },
     "metadata": {
      "needs_background": "light"
     },
     "output_type": "display_data"
    }
   ],
   "source": [
    "ax_test = sns.distplot(y1_test, hist=False, color='r', label='test')\n",
    "sns_plot1 = sns.distplot(y1_pred_lasso_reg, hist=False, color='b',label='prediction Dataframe 1', ax=ax_test)\n",
    "sns_plot2 = sns.distplot(y2_pred_lasso_reg, hist=False, kde_kws={'linestyle':'dashed','marker':'o','markersize':'2'}, \n",
    "                         color='m',label='prediction Dataframe 2', ax=ax_test)\n",
    "sns_plot3 = sns.distplot(y3_pred_lasso_reg, hist=False, color='g',label='prediction Dataframe 3', ax=ax_test)"
   ]
  },
  {
   "cell_type": "markdown",
   "metadata": {},
   "source": [
    "**Kernel Ridge**"
   ]
  },
  {
   "cell_type": "code",
   "execution_count": 45,
   "metadata": {},
   "outputs": [
    {
     "data": {
      "text/plain": [
       "GridSearchCV(cv=6, error_score=nan,\n",
       "             estimator=KernelRidge(alpha=1, coef0=1, degree=3, gamma=None,\n",
       "                                   kernel='rbf', kernel_params=None),\n",
       "             iid='deprecated', n_jobs=None,\n",
       "             param_grid={'alpha': [1.0, 0.1, 0.01, 0.001],\n",
       "                         'gamma': array([1.e-02, 1.e-01, 1.e+00, 1.e+01, 1.e+02])},\n",
       "             pre_dispatch='2*n_jobs', refit=True, return_train_score=False,\n",
       "             scoring=None, verbose=0)"
      ]
     },
     "execution_count": 45,
     "metadata": {},
     "output_type": "execute_result"
    }
   ],
   "source": [
    "from sklearn.model_selection import GridSearchCV\n",
    "from sklearn.kernel_ridge import KernelRidge\n",
    "\n",
    "params_krr={\"alpha\": [1e0, 0.1, 1e-2, 1e-3],\"gamma\": np.logspace(-2, 2, 5)}\n",
    "krr_grid_1 = GridSearchCV(KernelRidge(kernel='rbf'),param_grid=params_krr,cv=6)\n",
    "krr_grid_1.fit(X1_train, y1_train)\n",
    "\n",
    "krr_grid_2 = GridSearchCV(KernelRidge(kernel='rbf'),param_grid=params_krr,cv=6)\n",
    "krr_grid_2.fit(X2_train, y2_train)\n",
    "\n",
    "krr_grid_3 = GridSearchCV(KernelRidge(kernel='rbf'),param_grid=params_krr,cv=6)\n",
    "krr_grid_3.fit(X3_train, y3_train)"
   ]
  },
  {
   "cell_type": "code",
   "execution_count": 46,
   "metadata": {},
   "outputs": [
    {
     "name": "stdout",
     "output_type": "stream",
     "text": [
      "{'alpha': 0.001, 'gamma': 0.1}\n",
      "{'alpha': 0.001, 'gamma': 1.0}\n",
      "{'alpha': 0.001, 'gamma': 0.1}\n"
     ]
    }
   ],
   "source": [
    "print(krr_grid_1.best_params_)\n",
    "print(krr_grid_2.best_params_)\n",
    "print(krr_grid_3.best_params_)"
   ]
  },
  {
   "cell_type": "code",
   "execution_count": 100,
   "metadata": {},
   "outputs": [
    {
     "data": {
      "text/html": [
       "<div>\n",
       "<style scoped>\n",
       "    .dataframe tbody tr th:only-of-type {\n",
       "        vertical-align: middle;\n",
       "    }\n",
       "\n",
       "    .dataframe tbody tr th {\n",
       "        vertical-align: top;\n",
       "    }\n",
       "\n",
       "    .dataframe thead th {\n",
       "        text-align: right;\n",
       "    }\n",
       "</style>\n",
       "<table border=\"1\" class=\"dataframe\">\n",
       "  <thead>\n",
       "    <tr style=\"text-align: right;\">\n",
       "      <th></th>\n",
       "      <th>Regression</th>\n",
       "      <th>R2_score</th>\n",
       "      <th>RMSE</th>\n",
       "      <th>RMSLE</th>\n",
       "      <th>CPU_time(s)</th>\n",
       "    </tr>\n",
       "  </thead>\n",
       "  <tbody>\n",
       "    <tr>\n",
       "      <td>0</td>\n",
       "      <td>krr_1</td>\n",
       "      <td>0.868645</td>\n",
       "      <td>8.359931</td>\n",
       "      <td>0.114940</td>\n",
       "      <td>0.086854</td>\n",
       "    </tr>\n",
       "    <tr>\n",
       "      <td>0</td>\n",
       "      <td>krr_2</td>\n",
       "      <td>0.781415</td>\n",
       "      <td>10.784247</td>\n",
       "      <td>0.127376</td>\n",
       "      <td>0.080002</td>\n",
       "    </tr>\n",
       "    <tr>\n",
       "      <td>0</td>\n",
       "      <td>krr_3</td>\n",
       "      <td>0.846856</td>\n",
       "      <td>9.026729</td>\n",
       "      <td>0.123928</td>\n",
       "      <td>0.078201</td>\n",
       "    </tr>\n",
       "  </tbody>\n",
       "</table>\n",
       "</div>"
      ],
      "text/plain": [
       "  Regression  R2_score       RMSE     RMSLE  CPU_time(s)\n",
       "0      krr_1  0.868645   8.359931  0.114940     0.086854\n",
       "0      krr_2  0.781415  10.784247  0.127376     0.080002\n",
       "0      krr_3  0.846856   9.026729  0.123928     0.078201"
      ]
     },
     "execution_count": 100,
     "metadata": {},
     "output_type": "execute_result"
    }
   ],
   "source": [
    "start_krr_1 = timeit.default_timer()\n",
    "krr_1 =KernelRidge(kernel='rbf', gamma=krr_grid_1.best_params_['gamma'], \n",
    "                      alpha=krr_grid_1.best_params_['alpha']).fit(X1_train, y1_train)\n",
    "time_krr_1 = timeit.default_timer() - start_krr_1\n",
    "\n",
    "start_krr_2 = timeit.default_timer()\n",
    "krr_2 =KernelRidge(kernel='rbf', gamma=krr_grid_2.best_params_['gamma'], \n",
    "                      alpha=krr_grid_2.best_params_['alpha']).fit(X2_train, y2_train)\n",
    "time_krr_2 = timeit.default_timer() - start_krr_2\n",
    "\n",
    "start_krr_3 = timeit.default_timer()\n",
    "krr_3 =KernelRidge(kernel='rbf', gamma=krr_grid_3.best_params_['gamma'], \n",
    "                      alpha=krr_grid_3.best_params_['alpha']).fit(X3_train, y3_train)\n",
    "time_krr_3 = timeit.default_timer() - start_krr_3\n",
    "\n",
    "# Compute predictions from the test set\n",
    "y1_pred_krr = krr_1.predict(X1_test)\n",
    "y2_pred_krr = krr_2.predict(X2_test)\n",
    "y3_pred_krr = krr_3.predict(X3_test)\n",
    "\n",
    "\n",
    "df_krr_1 = Reg_metrics('krr_1',y1_test,y1_pred_krr)\n",
    "df_krr_1['CPU_time(s)'] = time_krr_1\n",
    "df_m = df_m.append(df_krr_1)\n",
    "\n",
    "df_krr_2 = Reg_metrics('krr_2',y2_test,y2_pred_krr)\n",
    "df_krr_2['CPU_time(s)'] = time_krr_2\n",
    "df_m = df_m.append(df_krr_2)\n",
    "\n",
    "df_krr_3 = Reg_metrics('krr_3',y3_test,y3_pred_krr)\n",
    "df_krr_3['CPU_time(s)'] = time_krr_3\n",
    "df_m = df_m.append(df_krr_3)\n",
    "\n",
    "df_m.tail(3)"
   ]
  },
  {
   "cell_type": "code",
   "execution_count": 48,
   "metadata": {},
   "outputs": [
    {
     "data": {
      "image/png": "[encoded data removed]",
      "text/plain": [
       "<Figure size 432x288 with 1 Axes>"
      ]
     },
     "metadata": {
      "needs_background": "light"
     },
     "output_type": "display_data"
    }
   ],
   "source": [
    "ax_test = sns.distplot(y1_test, hist=False, color='r', label='test')\n",
    "sns_plot1 = sns.distplot(y1_pred_krr, hist=False, color='b',label='prediction Dataframe 1', ax=ax_test)\n",
    "sns_plot2 = sns.distplot(y2_pred_krr, hist=False, \n",
    "                         kde_kws={'linestyle':'dashed','marker':'o','markersize':'2'}, \n",
    "                         color='m',\n",
    "                         label='prediction Dataframe 2',\n",
    "                         ax=ax_test)\n",
    "sns_plot3 = sns.distplot(y3_pred_krr, hist=False, color='g',label='prediction Dataframe 3', ax=ax_test)"
   ]
  },
  {
   "cell_type": "markdown",
   "metadata": {},
   "source": [
    "**Support vector regression**"
   ]
  },
  {
   "cell_type": "code",
   "execution_count": 49,
   "metadata": {},
   "outputs": [
    {
     "data": {
      "text/plain": [
       "GridSearchCV(cv=6, error_score=nan,\n",
       "             estimator=SVR(C=1.0, cache_size=200, coef0=0.0, degree=3,\n",
       "                           epsilon=0.1, gamma='scale', kernel='rbf',\n",
       "                           max_iter=-1, shrinking=True, tol=0.001,\n",
       "                           verbose=False),\n",
       "             iid='deprecated', n_jobs=None,\n",
       "             param_grid={'C': [1.0, 10.0, 100.0, 1000.0],\n",
       "                         'gamma': array([1.e-02, 1.e-01, 1.e+00, 1.e+01, 1.e+02])},\n",
       "             pre_dispatch='2*n_jobs', refit=True, return_train_score=False,\n",
       "             scoring=None, verbose=0)"
      ]
     },
     "execution_count": 49,
     "metadata": {},
     "output_type": "execute_result"
    }
   ],
   "source": [
    "from sklearn.svm import SVR\n",
    "param_svr ={\"C\": [1e0, 1e1, 1e2, 1e3],\"gamma\": np.logspace(-2, 2, 5)}\n",
    "svr_grid_1= GridSearchCV(SVR(kernel='rbf'),param_grid=param_svr,cv=6)\n",
    "svr_grid_2 = GridSearchCV(SVR(kernel='rbf'),param_grid=param_svr,cv=6)\n",
    "svr_grid_3 = GridSearchCV(SVR(kernel='rbf'),param_grid=param_svr,cv=6)\n",
    "svr_grid_1.fit(X1_train, y1_train)\n",
    "svr_grid_2.fit(X2_train, y2_train)\n",
    "svr_grid_3.fit(X3_train, y3_train)"
   ]
  },
  {
   "cell_type": "code",
   "execution_count": 50,
   "metadata": {},
   "outputs": [
    {
     "name": "stdout",
     "output_type": "stream",
     "text": [
      "{'C': 1000.0, 'gamma': 1.0}\n",
      "{'C': 1000.0, 'gamma': 1.0}\n",
      "{'C': 1000.0, 'gamma': 0.1}\n"
     ]
    }
   ],
   "source": [
    "print(svr_grid_1.best_params_)\n",
    "print(svr_grid_2.best_params_)\n",
    "print(svr_grid_3.best_params_)"
   ]
  },
  {
   "cell_type": "code",
   "execution_count": 101,
   "metadata": {},
   "outputs": [
    {
     "data": {
      "text/html": [
       "<div>\n",
       "<style scoped>\n",
       "    .dataframe tbody tr th:only-of-type {\n",
       "        vertical-align: middle;\n",
       "    }\n",
       "\n",
       "    .dataframe tbody tr th {\n",
       "        vertical-align: top;\n",
       "    }\n",
       "\n",
       "    .dataframe thead th {\n",
       "        text-align: right;\n",
       "    }\n",
       "</style>\n",
       "<table border=\"1\" class=\"dataframe\">\n",
       "  <thead>\n",
       "    <tr style=\"text-align: right;\">\n",
       "      <th></th>\n",
       "      <th>Regression</th>\n",
       "      <th>R2_score</th>\n",
       "      <th>RMSE</th>\n",
       "      <th>RMSLE</th>\n",
       "      <th>CPU_time(s)</th>\n",
       "    </tr>\n",
       "  </thead>\n",
       "  <tbody>\n",
       "    <tr>\n",
       "      <td>0</td>\n",
       "      <td>svr_1</td>\n",
       "      <td>0.812681</td>\n",
       "      <td>9.983223</td>\n",
       "      <td>0.125314</td>\n",
       "      <td>0.543405</td>\n",
       "    </tr>\n",
       "    <tr>\n",
       "      <td>0</td>\n",
       "      <td>svr_2</td>\n",
       "      <td>0.697258</td>\n",
       "      <td>12.691589</td>\n",
       "      <td>0.159361</td>\n",
       "      <td>0.179774</td>\n",
       "    </tr>\n",
       "    <tr>\n",
       "      <td>0</td>\n",
       "      <td>svr_3</td>\n",
       "      <td>0.784157</td>\n",
       "      <td>10.716397</td>\n",
       "      <td>0.134014</td>\n",
       "      <td>0.213341</td>\n",
       "    </tr>\n",
       "  </tbody>\n",
       "</table>\n",
       "</div>"
      ],
      "text/plain": [
       "  Regression  R2_score       RMSE     RMSLE  CPU_time(s)\n",
       "0      svr_1  0.812681   9.983223  0.125314     0.543405\n",
       "0      svr_2  0.697258  12.691589  0.159361     0.179774\n",
       "0      svr_3  0.784157  10.716397  0.134014     0.213341"
      ]
     },
     "execution_count": 101,
     "metadata": {},
     "output_type": "execute_result"
    }
   ],
   "source": [
    "start_svr_1 = timeit.default_timer()\n",
    "svr_1 =SVR(kernel='rbf', gamma=svr_grid_1.best_params_['gamma'],C=svr_grid_1.best_params_['C']).fit(X1_train, y1_train)\n",
    "time_svr_1 = timeit.default_timer() - start_svr_1\n",
    "\n",
    "start_svr_2 = timeit.default_timer()\n",
    "svr_2 =SVR(kernel='rbf', gamma=svr_grid_2.best_params_['gamma'],C=svr_grid_2.best_params_['C']).fit(X2_train, y2_train)\n",
    "time_svr_2 = timeit.default_timer() - start_svr_2\n",
    "\n",
    "start_svr_3 = timeit.default_timer()\n",
    "svr_3 =SVR(kernel='rbf', gamma=svr_grid_3.best_params_['gamma'],C=svr_grid_3.best_params_['C']).fit(X3_train, y3_train)\n",
    "time_svr_3 = timeit.default_timer() - start_svr_3\n",
    "\n",
    "# Compute predictions from the test set\n",
    "y1_pred_svr = abs(svr_1.predict(X1_test))\n",
    "y2_pred_svr = abs(svr_2.predict(X2_test))\n",
    "y3_pred_svr = abs(svr_3.predict(X3_test))\n",
    "\n",
    "df_svr_1 = Reg_metrics('svr_1',y1_test,y1_pred_svr)\n",
    "df_svr_1['CPU_time(s)'] = time_svr_1\n",
    "df_m = df_m.append(df_svr_1)\n",
    "\n",
    "df_svr_2 = Reg_metrics('svr_2',y2_test,y2_pred_svr)\n",
    "df_svr_2['CPU_time(s)'] = time_svr_2\n",
    "df_m = df_m.append(df_svr_2)\n",
    "\n",
    "df_svr_3 = Reg_metrics('svr_3',y3_test,y3_pred_svr)\n",
    "df_svr_3['CPU_time(s)'] = time_svr_3\n",
    "df_m = df_m.append(df_svr_3)\n",
    "\n",
    "df_m.tail(3)"
   ]
  },
  {
   "cell_type": "code",
   "execution_count": 52,
   "metadata": {},
   "outputs": [
    {
     "data": {
      "image/png": "[encoded data removed]",
      "text/plain": [
       "<Figure size 432x288 with 1 Axes>"
      ]
     },
     "metadata": {
      "needs_background": "light"
     },
     "output_type": "display_data"
    }
   ],
   "source": [
    "ax_test = sns.distplot(y2_test, hist=False, color='r', label='test')\n",
    "sns_plot1 = sns.distplot(y2_pred_svr, hist=False, color='b',label='prediction Dataframe 1 ', ax=ax_test)\n",
    "sns_plot2 = sns.distplot(y2_pred_svr, hist=False, \n",
    "                         kde_kws={'linestyle':'dashed','marker':'o','markersize':'2'}, \n",
    "                         color='m',\n",
    "                         label='prediction Dataframe 2',\n",
    "                         ax=ax_test)\n",
    "sns_plot3 = sns.distplot(y3_pred_svr, hist=False, color='g',label='prediction Dataframe 3', ax=ax_test)"
   ]
  },
  {
   "cell_type": "markdown",
   "metadata": {},
   "source": [
    "**k nearest neighbors**"
   ]
  },
  {
   "cell_type": "code",
   "execution_count": 53,
   "metadata": {},
   "outputs": [
    {
     "data": {
      "image/png": "[encoded data removed]",
      "text/plain": [
       "<Figure size 432x288 with 1 Axes>"
      ]
     },
     "metadata": {
      "needs_background": "light"
     },
     "output_type": "display_data"
    },
    {
     "data": {
      "image/png": "[encoded data removed]",
      "text/plain": [
       "<Figure size 432x288 with 1 Axes>"
      ]
     },
     "metadata": {
      "needs_background": "light"
     },
     "output_type": "display_data"
    },
    {
     "data": {
      "image/png": "[encoded data removed]",
      "text/plain": [
       "<Figure size 432x288 with 1 Axes>"
      ]
     },
     "metadata": {
      "needs_background": "light"
     },
     "output_type": "display_data"
    }
   ],
   "source": [
    "#from sklearn.neighbors import KNeighborsRegressor\n",
    "from sklearn import neighbors\n",
    "from math import sqrt\n",
    "from sklearn.metrics import mean_squared_error\n",
    "\n",
    "Coef_deter_knn_1 = [] \n",
    "Coef_deter_knn_2 = []\n",
    "Coef_deter_knn_3 = []\n",
    "rang_k = range(2,14)\n",
    "for knn_k in rang_k:\n",
    "    knnselect_1 = neighbors.KNeighborsRegressor(knn_k)\n",
    "    knnselect_2 = neighbors.KNeighborsRegressor(knn_k)\n",
    "    knnselect_3 = neighbors.KNeighborsRegressor(knn_k)\n",
    "    knnselect_1.fit(X1_train, y1_train) \n",
    "    knnselect_2.fit(X2_train, y2_train)\n",
    "    knnselect_3.fit(X3_train, y3_train)\n",
    "    Coef_deter_knn_1.append(knnselect_1.score(X1_test, y1_test))\n",
    "    Coef_deter_knn_2.append(knnselect_2.score(X2_test, y2_test))\n",
    "    Coef_deter_knn_3.append(knnselect_3.score(X3_test, y3_test))\n",
    "    \n",
    "plt.plot(rang_k, Coef_deter_knn_1, 'o-')\n",
    "plt.ylabel(\"Knn df1- Coef de determination\")\n",
    "plt.xlabel('K')\n",
    "plt.show() \n",
    "\n",
    "plt.plot(rang_k, Coef_deter_knn_2, 'o-')\n",
    "plt.ylabel(\"Knn df2 - Coef de determination\")\n",
    "plt.xlabel('K')\n",
    "plt.show()\n",
    "\n",
    "plt.plot(rang_k, Coef_deter_knn_2, 'o-')\n",
    "plt.ylabel(\"Knn df3 - Coef de determination\")\n",
    "plt.xlabel('K')\n",
    "plt.show() "
   ]
  },
  {
   "cell_type": "code",
   "execution_count": 102,
   "metadata": {},
   "outputs": [
    {
     "data": {
      "text/html": [
       "<div>\n",
       "<style scoped>\n",
       "    .dataframe tbody tr th:only-of-type {\n",
       "        vertical-align: middle;\n",
       "    }\n",
       "\n",
       "    .dataframe tbody tr th {\n",
       "        vertical-align: top;\n",
       "    }\n",
       "\n",
       "    .dataframe thead th {\n",
       "        text-align: right;\n",
       "    }\n",
       "</style>\n",
       "<table border=\"1\" class=\"dataframe\">\n",
       "  <thead>\n",
       "    <tr style=\"text-align: right;\">\n",
       "      <th></th>\n",
       "      <th>Regression</th>\n",
       "      <th>R2_score</th>\n",
       "      <th>RMSE</th>\n",
       "      <th>RMSLE</th>\n",
       "      <th>CPU_time(s)</th>\n",
       "    </tr>\n",
       "  </thead>\n",
       "  <tbody>\n",
       "    <tr>\n",
       "      <td>0</td>\n",
       "      <td>knn_reg_1</td>\n",
       "      <td>0.291641</td>\n",
       "      <td>19.413632</td>\n",
       "      <td>0.264339</td>\n",
       "      <td>0.009653</td>\n",
       "    </tr>\n",
       "    <tr>\n",
       "      <td>0</td>\n",
       "      <td>knn_reg_2</td>\n",
       "      <td>0.497214</td>\n",
       "      <td>16.355791</td>\n",
       "      <td>0.214340</td>\n",
       "      <td>0.010226</td>\n",
       "    </tr>\n",
       "    <tr>\n",
       "      <td>0</td>\n",
       "      <td>knn_reg_3</td>\n",
       "      <td>0.247402</td>\n",
       "      <td>20.010661</td>\n",
       "      <td>0.275754</td>\n",
       "      <td>0.010017</td>\n",
       "    </tr>\n",
       "  </tbody>\n",
       "</table>\n",
       "</div>"
      ],
      "text/plain": [
       "  Regression  R2_score       RMSE     RMSLE  CPU_time(s)\n",
       "0  knn_reg_1  0.291641  19.413632  0.264339     0.009653\n",
       "0  knn_reg_2  0.497214  16.355791  0.214340     0.010226\n",
       "0  knn_reg_3  0.247402  20.010661  0.275754     0.010017"
      ]
     },
     "execution_count": 102,
     "metadata": {},
     "output_type": "execute_result"
    }
   ],
   "source": [
    "k_opt_1 = 3\n",
    "k_opt_2 = 5\n",
    "k_opt_3 = 5\n",
    "\n",
    "knn_reg_opt_1 = neighbors.KNeighborsRegressor(k_opt_1)\n",
    "knn_reg_opt_2 = neighbors.KNeighborsRegressor(k_opt_2)\n",
    "knn_reg_opt_3 = neighbors.KNeighborsRegressor(k_opt_3)\n",
    "\n",
    "knn_reg_opt_score_1 = cross_val_score(knn_reg_opt_1, X1_train, y1_train, cv=6)\n",
    "knn_reg_opt_score_2 = cross_val_score(knn_reg_opt_2, X2_train, y2_train, cv=6)\n",
    "knn_reg_opt_score_3 = cross_val_score(knn_reg_opt_3, X3_train, y3_train, cv=6)\n",
    "\n",
    "start_knn_reg_1 = timeit.default_timer()\n",
    "knn_reg_opt_1.fit(X1_train, y1_train)\n",
    "time_knn_reg_1 = timeit.default_timer() - start_knn_reg_1\n",
    "\n",
    "start_knn_reg_2 = timeit.default_timer()\n",
    "knn_reg_opt_2.fit(X2_train, y2_train)\n",
    "time_knn_reg_2 = timeit.default_timer() - start_knn_reg_2\n",
    "\n",
    "start_knn_reg_3 = timeit.default_timer()\n",
    "knn_reg_opt_3.fit(X3_train, y3_train)\n",
    "time_knn_reg_3 = timeit.default_timer() - start_knn_reg_3\n",
    "\n",
    "y1_pred_knn = knn_reg_opt_1.predict(X1_test)\n",
    "y2_pred_knn = knn_reg_opt_2.predict(X2_test)\n",
    "y3_pred_knn = knn_reg_opt_3.predict(X3_test)\n",
    "\n",
    "df_knn_reg_1 = Reg_metrics('knn_reg_1',y1_test,y1_pred_knn)\n",
    "df_knn_reg_1['CPU_time(s)'] = time_knn_reg_1\n",
    "df_m = df_m.append(df_knn_reg_1)\n",
    "\n",
    "df_knn_reg_2 = Reg_metrics('knn_reg_2',y2_test,y2_pred_knn)\n",
    "df_knn_reg_2['CPU_time(s)'] = time_knn_reg_2\n",
    "df_m = df_m.append(df_knn_reg_2)\n",
    "\n",
    "df_knn_reg_3 = Reg_metrics('knn_reg_3',y3_test,y3_pred_knn)\n",
    "df_knn_reg_3['CPU_time(s)'] = time_knn_reg_3\n",
    "df_m = df_m.append(df_knn_reg_3)\n",
    "\n",
    "df_m.tail(3)"
   ]
  },
  {
   "cell_type": "code",
   "execution_count": 55,
   "metadata": {},
   "outputs": [
    {
     "data": {
      "image/png": "[encoded data removed]",
      "text/plain": [
       "<Figure size 432x288 with 1 Axes>"
      ]
     },
     "metadata": {
      "needs_background": "light"
     },
     "output_type": "display_data"
    }
   ],
   "source": [
    "ax_test = sns.distplot(y1_test, hist=False, color='r', label='test')\n",
    "sns_plot = sns.distplot(y1_pred_knn, hist=False, color='b',label='prediction Dataframe 1', ax=ax_test)\n",
    "sns_plot2 = sns.distplot(y2_pred_knn, hist=False, \n",
    "                         kde_kws={'linestyle':'dashed','marker':'o','markersize':'2'}, \n",
    "                         color='m',\n",
    "                         label='prediction Dataframe 2',\n",
    "                         ax=ax_test)\n",
    "sns_plot3 = sns.distplot(y3_pred_knn, hist=False, color='g',label='prediction Dataframe 3', ax=ax_test)"
   ]
  },
  {
   "cell_type": "markdown",
   "metadata": {},
   "source": [
    "**Comparing knn with dummy algorithms**"
   ]
  },
  {
   "cell_type": "code",
   "execution_count": 56,
   "metadata": {},
   "outputs": [
    {
     "name": "stdout",
     "output_type": "stream",
     "text": [
      "RMSE Dummy Mean: 23.39\n",
      "RMSE Dummy Constant: 23.60\n",
      "RMSE knn: 19.41\n"
     ]
    }
   ],
   "source": [
    "from sklearn import dummy\n",
    "from sklearn.metrics import mean_squared_error\n",
    "dum_mean = dummy.DummyRegressor(strategy='mean')\n",
    "dum_med = dummy.DummyRegressor(strategy='median')\n",
    "\n",
    "# train\n",
    "dum_mean.fit(X1_train, y1_train)\n",
    "dum_med.fit(X1_train, y1_train)\n",
    "\n",
    "# prediction\n",
    "y1_pred_dum_mean = dum_mean.predict(X1_test)\n",
    "y1_pred_dum_med = dum_med.predict(X1_test)\n",
    "\n",
    "# Evaluation of the knn compared to dummy algorithms based on RMSE\n",
    "print(\"RMSE Dummy Mean: {:.2f}\".format(np.sqrt(mean_squared_error(y1_test, y1_pred_dum_mean))))\n",
    "print(\"RMSE Dummy Constant: {:.2f}\".format(np.sqrt(mean_squared_error(y1_test, y1_pred_dum_med))))\n",
    "print(\"RMSE knn: {:.2f}\".format(np.sqrt(mean_squared_error(y1_test, y1_pred_knn))))"
   ]
  },
  {
   "cell_type": "markdown",
   "metadata": {},
   "source": [
    "**Decision tree*"
   ]
  },
  {
   "cell_type": "code",
   "execution_count": 57,
   "metadata": {},
   "outputs": [
    {
     "name": "stdout",
     "output_type": "stream",
     "text": [
      "Fitting 6 folds for each of 10 candidates, totalling 60 fits\n"
     ]
    },
    {
     "name": "stderr",
     "output_type": "stream",
     "text": [
      "[Parallel(n_jobs=-1)]: Using backend LokyBackend with 4 concurrent workers.\n",
      "[Parallel(n_jobs=-1)]: Done  33 tasks      | elapsed:    9.5s\n",
      "[Parallel(n_jobs=-1)]: Done  60 out of  60 | elapsed:    9.6s finished\n",
      "[Parallel(n_jobs=-1)]: Using backend LokyBackend with 4 concurrent workers.\n"
     ]
    },
    {
     "name": "stdout",
     "output_type": "stream",
     "text": [
      "Fitting 6 folds for each of 10 candidates, totalling 60 fits\n"
     ]
    },
    {
     "name": "stderr",
     "output_type": "stream",
     "text": [
      "[Parallel(n_jobs=-1)]: Done  60 out of  60 | elapsed:    0.4s finished\n",
      "[Parallel(n_jobs=-1)]: Using backend LokyBackend with 4 concurrent workers.\n"
     ]
    },
    {
     "name": "stdout",
     "output_type": "stream",
     "text": [
      "Fitting 6 folds for each of 10 candidates, totalling 60 fits\n"
     ]
    },
    {
     "name": "stderr",
     "output_type": "stream",
     "text": [
      "[Parallel(n_jobs=-1)]: Done  60 out of  60 | elapsed:    0.3s finished\n"
     ]
    },
    {
     "data": {
      "text/plain": [
       "RandomizedSearchCV(cv=6, error_score=nan,\n",
       "                   estimator=DecisionTreeRegressor(ccp_alpha=0.0,\n",
       "                                                   criterion='mse',\n",
       "                                                   max_depth=None,\n",
       "                                                   max_features=None,\n",
       "                                                   max_leaf_nodes=None,\n",
       "                                                   min_impurity_decrease=0.0,\n",
       "                                                   min_impurity_split=None,\n",
       "                                                   min_samples_leaf=1,\n",
       "                                                   min_samples_split=2,\n",
       "                                                   min_weight_fraction_leaf=0.0,\n",
       "                                                   presort='deprecated',\n",
       "                                                   random_state=None,\n",
       "                                                   splitter='best'),\n",
       "                   iid='deprecated', n_iter=10, n_jobs=-1,\n",
       "                   param_distributions={'max_depth': [5, 10],\n",
       "                                        'max_features': ['auto', 'sqrt'],\n",
       "                                        'min_samples_leaf': [2, 6],\n",
       "                                        'min_samples_split': [5, 10]},\n",
       "                   pre_dispatch='2*n_jobs', random_state=None, refit=True,\n",
       "                   return_train_score=False, scoring=None, verbose=2)"
      ]
     },
     "execution_count": 57,
     "metadata": {},
     "output_type": "execute_result"
    }
   ],
   "source": [
    "from sklearn.model_selection import RandomizedSearchCV # for hyperparameters tuning\n",
    "# Hyperparameter values to feed to the RandomizedSearchCV\n",
    "param_grid = {'max_features': ['auto', 'sqrt'], # Number of features to consider at every split\n",
    "               'max_depth': [5, 10], # Maximum number of levels in tree\n",
    "               'min_samples_split': [5, 10], # Minimum number of samples required to split a node\n",
    "               'min_samples_leaf': [2, 6], # Minimum number of samples required at each leaf node\n",
    "               }\n",
    "from sklearn.tree import DecisionTreeRegressor\n",
    "\n",
    "# Instantiate a RandomizedSearchCV on a DecisionTreeRegressor model with 10 iterations\n",
    "tree_reg_grid_1 = RandomizedSearchCV(estimator = DecisionTreeRegressor(),\n",
    "                                     param_distributions = param_grid, n_iter = 10, verbose = 2, n_jobs = -1, cv=6)\n",
    "tree_reg_grid_2 = RandomizedSearchCV(estimator = DecisionTreeRegressor(),\n",
    "                                     param_distributions = param_grid, n_iter = 10, verbose = 2, n_jobs = -1, cv=6)\n",
    "tree_reg_grid_3 = RandomizedSearchCV(estimator = DecisionTreeRegressor(),\n",
    "                                     param_distributions = param_grid, n_iter = 10, verbose = 2, n_jobs = -1, cv=6)\n",
    "\n",
    "tree_reg_grid_1.fit(X1_train, y1_train)\n",
    "tree_reg_grid_2.fit(X2_train, y2_train)\n",
    "tree_reg_grid_3.fit(X3_train, y3_train)"
   ]
  },
  {
   "cell_type": "code",
   "execution_count": 58,
   "metadata": {},
   "outputs": [
    {
     "name": "stdout",
     "output_type": "stream",
     "text": [
      "{'min_samples_split': 10, 'min_samples_leaf': 2, 'max_features': 'auto', 'max_depth': 10}\n",
      "{'min_samples_split': 5, 'min_samples_leaf': 2, 'max_features': 'auto', 'max_depth': 10}\n",
      "{'min_samples_split': 10, 'min_samples_leaf': 2, 'max_features': 'auto', 'max_depth': 10}\n"
     ]
    }
   ],
   "source": [
    "# Check the best parameters found by RandomizedSearchCV\n",
    "print(tree_reg_grid_1.best_params_)\n",
    "tree_reg_1 = DecisionTreeRegressor(max_depth = tree_reg_grid_1.best_params_['max_depth'],\n",
    "                                   min_samples_split=tree_reg_grid_1.best_params_['min_samples_split'],\n",
    "                                   min_samples_leaf=tree_reg_grid_1.best_params_['min_samples_leaf'],\n",
    "                                   max_features=tree_reg_grid_1.best_params_['max_features'])\n",
    "\n",
    "print(tree_reg_grid_2.best_params_)\n",
    "tree_reg_2 = DecisionTreeRegressor(max_depth = tree_reg_grid_2.best_params_['max_depth'],\n",
    "                                   min_samples_split=tree_reg_grid_2.best_params_['min_samples_split'],\n",
    "                                   min_samples_leaf=tree_reg_grid_2.best_params_['min_samples_leaf'],\n",
    "                                   max_features=tree_reg_grid_2.best_params_['max_features'])\n",
    "\n",
    "print(tree_reg_grid_3.best_params_)\n",
    "tree_reg_3 = DecisionTreeRegressor(max_depth = tree_reg_grid_3.best_params_['max_depth'],\n",
    "                                   min_samples_split=tree_reg_grid_3.best_params_['min_samples_split'],\n",
    "                                   min_samples_leaf=tree_reg_grid_3.best_params_['min_samples_leaf'],\n",
    "                                   max_features=tree_reg_grid_3.best_params_['max_features'])"
   ]
  },
  {
   "cell_type": "code",
   "execution_count": 103,
   "metadata": {},
   "outputs": [
    {
     "data": {
      "text/html": [
       "<div>\n",
       "<style scoped>\n",
       "    .dataframe tbody tr th:only-of-type {\n",
       "        vertical-align: middle;\n",
       "    }\n",
       "\n",
       "    .dataframe tbody tr th {\n",
       "        vertical-align: top;\n",
       "    }\n",
       "\n",
       "    .dataframe thead th {\n",
       "        text-align: right;\n",
       "    }\n",
       "</style>\n",
       "<table border=\"1\" class=\"dataframe\">\n",
       "  <thead>\n",
       "    <tr style=\"text-align: right;\">\n",
       "      <th></th>\n",
       "      <th>Regression</th>\n",
       "      <th>R2_score</th>\n",
       "      <th>RMSE</th>\n",
       "      <th>RMSLE</th>\n",
       "      <th>CPU_time(s)</th>\n",
       "    </tr>\n",
       "  </thead>\n",
       "  <tbody>\n",
       "    <tr>\n",
       "      <td>0</td>\n",
       "      <td>tree_reg_1</td>\n",
       "      <td>0.839256</td>\n",
       "      <td>9.247978</td>\n",
       "      <td>0.103206</td>\n",
       "      <td>0.008530</td>\n",
       "    </tr>\n",
       "    <tr>\n",
       "      <td>0</td>\n",
       "      <td>tree_reg_2</td>\n",
       "      <td>0.850261</td>\n",
       "      <td>8.925811</td>\n",
       "      <td>0.110152</td>\n",
       "      <td>0.008059</td>\n",
       "    </tr>\n",
       "    <tr>\n",
       "      <td>0</td>\n",
       "      <td>tree_reg_3</td>\n",
       "      <td>0.853859</td>\n",
       "      <td>8.817926</td>\n",
       "      <td>0.100313</td>\n",
       "      <td>0.008748</td>\n",
       "    </tr>\n",
       "  </tbody>\n",
       "</table>\n",
       "</div>"
      ],
      "text/plain": [
       "   Regression  R2_score      RMSE     RMSLE  CPU_time(s)\n",
       "0  tree_reg_1  0.839256  9.247978  0.103206     0.008530\n",
       "0  tree_reg_2  0.850261  8.925811  0.110152     0.008059\n",
       "0  tree_reg_3  0.853859  8.817926  0.100313     0.008748"
      ]
     },
     "execution_count": 103,
     "metadata": {},
     "output_type": "execute_result"
    }
   ],
   "source": [
    "start_tree_reg_1 = timeit.default_timer()\n",
    "tree_reg_1.fit(X1_train, y1_train)\n",
    "time_tree_reg_1 = timeit.default_timer() - start_tree_reg_1\n",
    "\n",
    "start_tree_reg_2 = timeit.default_timer()\n",
    "tree_reg_2.fit(X2_train, y2_train)\n",
    "time_tree_reg_2 = timeit.default_timer() - start_tree_reg_2\n",
    "\n",
    "start_tree_reg_3 = timeit.default_timer()\n",
    "tree_reg_3.fit(X3_train, y3_train)\n",
    "time_tree_reg_3 = timeit.default_timer() - start_tree_reg_3\n",
    "\n",
    "# Compute predictions from the test set\n",
    "y1_pred_tree_reg = tree_reg_1.predict(X1_test)\n",
    "y2_pred_tree_reg = tree_reg_2.predict(X2_test)\n",
    "y3_pred_tree_reg = tree_reg_3.predict(X3_test)\n",
    "\n",
    "df_tree_reg_1 = Reg_metrics('tree_reg_1',y1_test,y1_pred_tree_reg)\n",
    "df_tree_reg_1['CPU_time(s)'] = time_tree_reg_1\n",
    "df_m = df_m.append(df_tree_reg_1)\n",
    "\n",
    "df_tree_reg_2 = Reg_metrics('tree_reg_2',y2_test,y2_pred_tree_reg)\n",
    "df_tree_reg_2['CPU_time(s)'] = time_tree_reg_2\n",
    "df_m = df_m.append(df_tree_reg_2)\n",
    "\n",
    "df_tree_reg_3 = Reg_metrics('tree_reg_3',y3_test,y3_pred_tree_reg)\n",
    "df_tree_reg_3['CPU_time(s)'] = time_tree_reg_3\n",
    "df_m = df_m.append(df_tree_reg_3)\n",
    "\n",
    "df_m.tail(3)"
   ]
  },
  {
   "cell_type": "code",
   "execution_count": 60,
   "metadata": {},
   "outputs": [
    {
     "data": {
      "text/html": [
       "<div>\n",
       "<style scoped>\n",
       "    .dataframe tbody tr th:only-of-type {\n",
       "        vertical-align: middle;\n",
       "    }\n",
       "\n",
       "    .dataframe tbody tr th {\n",
       "        vertical-align: top;\n",
       "    }\n",
       "\n",
       "    .dataframe thead th {\n",
       "        text-align: right;\n",
       "    }\n",
       "</style>\n",
       "<table border=\"1\" class=\"dataframe\">\n",
       "  <thead>\n",
       "    <tr style=\"text-align: right;\">\n",
       "      <th></th>\n",
       "      <th>Features</th>\n",
       "      <th>Tree_reg_coef Dataframe 1</th>\n",
       "    </tr>\n",
       "  </thead>\n",
       "  <tbody>\n",
       "    <tr>\n",
       "      <td>2</td>\n",
       "      <td>Energy_tot(kWh_Area)</td>\n",
       "      <td>0.638853</td>\n",
       "    </tr>\n",
       "    <tr>\n",
       "      <td>0</td>\n",
       "      <td>Area2refArea</td>\n",
       "      <td>0.309382</td>\n",
       "    </tr>\n",
       "    <tr>\n",
       "      <td>1</td>\n",
       "      <td>SolarPanel(kWh)_Etot</td>\n",
       "      <td>0.051765</td>\n",
       "    </tr>\n",
       "    <tr>\n",
       "      <td>10</td>\n",
       "      <td>reg_K</td>\n",
       "      <td>0.000000</td>\n",
       "    </tr>\n",
       "    <tr>\n",
       "      <td>16</td>\n",
       "      <td>ft_Spa</td>\n",
       "      <td>0.000000</td>\n",
       "    </tr>\n",
       "  </tbody>\n",
       "</table>\n",
       "</div>"
      ],
      "text/plain": [
       "                Features  Tree_reg_coef Dataframe 1\n",
       "2   Energy_tot(kWh_Area)                   0.638853\n",
       "0           Area2refArea                   0.309382\n",
       "1   SolarPanel(kWh)_Etot                   0.051765\n",
       "10                 reg_K                   0.000000\n",
       "16                ft_Spa                   0.000000"
      ]
     },
     "execution_count": 60,
     "metadata": {},
     "output_type": "execute_result"
    }
   ],
   "source": [
    "df_coef_tree_reg_1 = pd.DataFrame({'Features':arr_col_x1 ,'Tree_reg_coef Dataframe 1':abs(tree_reg_1.feature_importances_)})\n",
    "df_coef_tree_reg_1.sort_values(by=['Tree_reg_coef Dataframe 1'], ascending=False).head()"
   ]
  },
  {
   "cell_type": "code",
   "execution_count": 78,
   "metadata": {},
   "outputs": [
    {
     "data": {
      "text/html": [
       "<div>\n",
       "<style scoped>\n",
       "    .dataframe tbody tr th:only-of-type {\n",
       "        vertical-align: middle;\n",
       "    }\n",
       "\n",
       "    .dataframe tbody tr th {\n",
       "        vertical-align: top;\n",
       "    }\n",
       "\n",
       "    .dataframe thead th {\n",
       "        text-align: right;\n",
       "    }\n",
       "</style>\n",
       "<table border=\"1\" class=\"dataframe\">\n",
       "  <thead>\n",
       "    <tr style=\"text-align: right;\">\n",
       "      <th></th>\n",
       "      <th>Features</th>\n",
       "      <th>Tree_reg_coef Dataframe 2</th>\n",
       "    </tr>\n",
       "  </thead>\n",
       "  <tbody>\n",
       "    <tr>\n",
       "      <td>3</td>\n",
       "      <td>Energy_tot(kWh_Area)</td>\n",
       "      <td>0.584332</td>\n",
       "    </tr>\n",
       "    <tr>\n",
       "      <td>0</td>\n",
       "      <td>Area2refArea</td>\n",
       "      <td>0.366434</td>\n",
       "    </tr>\n",
       "    <tr>\n",
       "      <td>2</td>\n",
       "      <td>SolarPanel(kWh)_Etot</td>\n",
       "      <td>0.046144</td>\n",
       "    </tr>\n",
       "    <tr>\n",
       "      <td>5</td>\n",
       "      <td>reg_B</td>\n",
       "      <td>0.000840</td>\n",
       "    </tr>\n",
       "    <tr>\n",
       "      <td>14</td>\n",
       "      <td>ft_Office</td>\n",
       "      <td>0.000822</td>\n",
       "    </tr>\n",
       "  </tbody>\n",
       "</table>\n",
       "</div>"
      ],
      "text/plain": [
       "                Features  Tree_reg_coef Dataframe 2\n",
       "3   Energy_tot(kWh_Area)                   0.584332\n",
       "0           Area2refArea                   0.366434\n",
       "2   SolarPanel(kWh)_Etot                   0.046144\n",
       "5                  reg_B                   0.000840\n",
       "14             ft_Office                   0.000822"
      ]
     },
     "execution_count": 78,
     "metadata": {},
     "output_type": "execute_result"
    }
   ],
   "source": [
    "df_coef_tree_reg_2 = pd.DataFrame({'Features':arr_col_x2 ,'Tree_reg_coef Dataframe 2':abs(tree_reg_2.feature_importances_)})\n",
    "df_coef_tree_reg_2.sort_values(by=['Tree_reg_coef Dataframe 2'], ascending=False).head()"
   ]
  },
  {
   "cell_type": "code",
   "execution_count": 62,
   "metadata": {},
   "outputs": [
    {
     "data": {
      "image/png": "[encoded data removed]",
      "text/plain": [
       "<Figure size 432x288 with 1 Axes>"
      ]
     },
     "metadata": {
      "needs_background": "light"
     },
     "output_type": "display_data"
    }
   ],
   "source": [
    "# Visualize the predictions against the actual values\n",
    "ax_test = sns.distplot(y1_test, hist=False, color='r', label='test')\n",
    "sns_plot = sns.distplot(y1_pred_tree_reg, hist=False, color='b',label='prediction Dataframe 1', ax=ax_test)\n",
    "sns_plot2 = sns.distplot(y2_pred_tree_reg, hist=False, \n",
    "                         kde_kws={'linestyle':'dashed','marker':'o','markersize':'2'}, \n",
    "                         color='m',\n",
    "                         label='prediction Dataframe 2',\n",
    "                         ax=ax_test)\n",
    "sns_plot3 = sns.distplot(y3_pred_tree_reg, hist=False, color='g',label='prediction Dataframe 3', ax=ax_test)"
   ]
  },
  {
   "cell_type": "markdown",
   "metadata": {},
   "source": [
    "**Random forest**"
   ]
  },
  {
   "cell_type": "code",
   "execution_count": 63,
   "metadata": {},
   "outputs": [
    {
     "name": "stderr",
     "output_type": "stream",
     "text": [
      "C:\\Users\\USER\\Anaconda3\\lib\\site-packages\\sklearn\\model_selection\\_search.py:281: UserWarning: The total space of parameters 16 is smaller than n_iter=100. Running 16 iterations. For exhaustive searches, use GridSearchCV.\n",
      "  % (grid_size, self.n_iter, grid_size), UserWarning)\n",
      "[Parallel(n_jobs=-1)]: Using backend LokyBackend with 4 concurrent workers.\n"
     ]
    },
    {
     "name": "stdout",
     "output_type": "stream",
     "text": [
      "Fitting 6 folds for each of 16 candidates, totalling 96 fits\n"
     ]
    },
    {
     "name": "stderr",
     "output_type": "stream",
     "text": [
      "[Parallel(n_jobs=-1)]: Done  33 tasks      | elapsed:    4.8s\n",
      "[Parallel(n_jobs=-1)]: Done  96 out of  96 | elapsed:   13.1s finished\n",
      "C:\\Users\\USER\\Anaconda3\\lib\\site-packages\\sklearn\\model_selection\\_search.py:281: UserWarning: The total space of parameters 16 is smaller than n_iter=100. Running 16 iterations. For exhaustive searches, use GridSearchCV.\n",
      "  % (grid_size, self.n_iter, grid_size), UserWarning)\n",
      "[Parallel(n_jobs=-1)]: Using backend LokyBackend with 4 concurrent workers.\n"
     ]
    },
    {
     "name": "stdout",
     "output_type": "stream",
     "text": [
      "Fitting 6 folds for each of 16 candidates, totalling 96 fits\n"
     ]
    },
    {
     "name": "stderr",
     "output_type": "stream",
     "text": [
      "[Parallel(n_jobs=-1)]: Done  33 tasks      | elapsed:    4.3s\n",
      "[Parallel(n_jobs=-1)]: Done  96 out of  96 | elapsed:   11.1s finished\n",
      "C:\\Users\\USER\\Anaconda3\\lib\\site-packages\\sklearn\\model_selection\\_search.py:281: UserWarning: The total space of parameters 16 is smaller than n_iter=100. Running 16 iterations. For exhaustive searches, use GridSearchCV.\n",
      "  % (grid_size, self.n_iter, grid_size), UserWarning)\n",
      "[Parallel(n_jobs=-1)]: Using backend LokyBackend with 4 concurrent workers.\n"
     ]
    },
    {
     "name": "stdout",
     "output_type": "stream",
     "text": [
      "Fitting 6 folds for each of 16 candidates, totalling 96 fits\n"
     ]
    },
    {
     "name": "stderr",
     "output_type": "stream",
     "text": [
      "[Parallel(n_jobs=-1)]: Done  33 tasks      | elapsed:    4.6s\n",
      "[Parallel(n_jobs=-1)]: Done  96 out of  96 | elapsed:   12.1s finished\n"
     ]
    },
    {
     "data": {
      "text/plain": [
       "RandomizedSearchCV(cv=6, error_score=nan,\n",
       "                   estimator=RandomForestRegressor(bootstrap=True,\n",
       "                                                   ccp_alpha=0.0,\n",
       "                                                   criterion='mse',\n",
       "                                                   max_depth=None,\n",
       "                                                   max_features='auto',\n",
       "                                                   max_leaf_nodes=None,\n",
       "                                                   max_samples=None,\n",
       "                                                   min_impurity_decrease=0.0,\n",
       "                                                   min_impurity_split=None,\n",
       "                                                   min_samples_leaf=1,\n",
       "                                                   min_samples_split=2,\n",
       "                                                   min_weight_fraction_leaf=0.0,\n",
       "                                                   n_estimators=100,\n",
       "                                                   n_jobs=None, oob_score=False,\n",
       "                                                   random_state=None, verbose=0,\n",
       "                                                   warm_start=False),\n",
       "                   iid='deprecated', n_iter=100, n_jobs=-1,\n",
       "                   param_distributions={'max_depth': [5, 10],\n",
       "                                        'max_features': ['auto', 'sqrt'],\n",
       "                                        'min_samples_leaf': [2, 6],\n",
       "                                        'min_samples_split': [5, 10]},\n",
       "                   pre_dispatch='2*n_jobs', random_state=None, refit=True,\n",
       "                   return_train_score=False, scoring=None, verbose=2)"
      ]
     },
     "execution_count": 63,
     "metadata": {},
     "output_type": "execute_result"
    }
   ],
   "source": [
    "from sklearn.ensemble import RandomForestRegressor\n",
    "\n",
    "# Instantiate a RandomizedSearchCV on a RandomForestRegressor model with 100 iterations\n",
    "ranfor_reg_grid_1 = RandomizedSearchCV(RandomForestRegressor(n_estimators=100), \n",
    "                                       param_distributions = param_grid, n_iter = 100, verbose = 2, n_jobs = -1,cv=6)\n",
    "ranfor_reg_grid_2 = RandomizedSearchCV(RandomForestRegressor(n_estimators=100), \n",
    "                                       param_distributions = param_grid, n_iter = 100, verbose = 2, n_jobs = -1,cv=6)\n",
    "ranfor_reg_grid_3 = RandomizedSearchCV(RandomForestRegressor(n_estimators=100), \n",
    "                                       param_distributions = param_grid, n_iter = 100, verbose = 2, n_jobs = -1,cv=6)\n",
    "\n",
    "ranfor_reg_grid_1.fit(X1_train, y1_train)\n",
    "ranfor_reg_grid_2.fit(X2_train, y2_train)\n",
    "ranfor_reg_grid_3.fit(X3_train, y3_train)"
   ]
  },
  {
   "cell_type": "code",
   "execution_count": 64,
   "metadata": {},
   "outputs": [
    {
     "name": "stdout",
     "output_type": "stream",
     "text": [
      "{'min_samples_split': 5, 'min_samples_leaf': 2, 'max_features': 'auto', 'max_depth': 10}\n",
      "{'min_samples_split': 5, 'min_samples_leaf': 2, 'max_features': 'auto', 'max_depth': 10}\n",
      "{'min_samples_split': 5, 'min_samples_leaf': 2, 'max_features': 'auto', 'max_depth': 10}\n"
     ]
    }
   ],
   "source": [
    "# Check the best parameters found by RandomizedSearchCV\n",
    "print(ranfor_reg_grid_1.best_params_)\n",
    "print(ranfor_reg_grid_2.best_params_)\n",
    "print(ranfor_reg_grid_3.best_params_)\n",
    "\n",
    "ranfor_reg_1 = RandomForestRegressor(n_estimators=100,\n",
    "                                     max_depth = ranfor_reg_grid_1.best_params_['max_depth'],\n",
    "                                     min_samples_split=ranfor_reg_grid_1.best_params_['min_samples_split'],\n",
    "                                     min_samples_leaf=ranfor_reg_grid_1.best_params_['min_samples_leaf'],\n",
    "                                     max_features=ranfor_reg_grid_1.best_params_['max_features'])\n",
    "\n",
    "ranfor_reg_2 = RandomForestRegressor(n_estimators=100,\n",
    "                                     max_depth = ranfor_reg_grid_2.best_params_['max_depth'],\n",
    "                                     min_samples_split=ranfor_reg_grid_2.best_params_['min_samples_split'],\n",
    "                                     min_samples_leaf=ranfor_reg_grid_2.best_params_['min_samples_leaf'],\n",
    "                                     max_features=ranfor_reg_grid_2.best_params_['max_features'])\n",
    "\n",
    "ranfor_reg_3 = RandomForestRegressor(n_estimators=100,\n",
    "                                     max_depth = ranfor_reg_grid_3.best_params_['max_depth'],\n",
    "                                     min_samples_split=ranfor_reg_grid_3.best_params_['min_samples_split'],\n",
    "                                     min_samples_leaf=ranfor_reg_grid_3.best_params_['min_samples_leaf'],\n",
    "                                     max_features=ranfor_reg_grid_3.best_params_['max_features'])"
   ]
  },
  {
   "cell_type": "code",
   "execution_count": 104,
   "metadata": {},
   "outputs": [
    {
     "data": {
      "text/html": [
       "<div>\n",
       "<style scoped>\n",
       "    .dataframe tbody tr th:only-of-type {\n",
       "        vertical-align: middle;\n",
       "    }\n",
       "\n",
       "    .dataframe tbody tr th {\n",
       "        vertical-align: top;\n",
       "    }\n",
       "\n",
       "    .dataframe thead th {\n",
       "        text-align: right;\n",
       "    }\n",
       "</style>\n",
       "<table border=\"1\" class=\"dataframe\">\n",
       "  <thead>\n",
       "    <tr style=\"text-align: right;\">\n",
       "      <th></th>\n",
       "      <th>Regression</th>\n",
       "      <th>R2_score</th>\n",
       "      <th>RMSE</th>\n",
       "      <th>RMSLE</th>\n",
       "      <th>CPU_time(s)</th>\n",
       "    </tr>\n",
       "  </thead>\n",
       "  <tbody>\n",
       "    <tr>\n",
       "      <td>0</td>\n",
       "      <td>ranfor_reg_1</td>\n",
       "      <td>0.950344</td>\n",
       "      <td>5.140048</td>\n",
       "      <td>0.056194</td>\n",
       "      <td>0.620589</td>\n",
       "    </tr>\n",
       "    <tr>\n",
       "      <td>0</td>\n",
       "      <td>ranfor_reg_2</td>\n",
       "      <td>0.878918</td>\n",
       "      <td>8.026369</td>\n",
       "      <td>0.097137</td>\n",
       "      <td>0.550999</td>\n",
       "    </tr>\n",
       "    <tr>\n",
       "      <td>0</td>\n",
       "      <td>ranfor_reg_3</td>\n",
       "      <td>0.948054</td>\n",
       "      <td>5.257203</td>\n",
       "      <td>0.057777</td>\n",
       "      <td>0.601748</td>\n",
       "    </tr>\n",
       "  </tbody>\n",
       "</table>\n",
       "</div>"
      ],
      "text/plain": [
       "     Regression  R2_score      RMSE     RMSLE  CPU_time(s)\n",
       "0  ranfor_reg_1  0.950344  5.140048  0.056194     0.620589\n",
       "0  ranfor_reg_2  0.878918  8.026369  0.097137     0.550999\n",
       "0  ranfor_reg_3  0.948054  5.257203  0.057777     0.601748"
      ]
     },
     "execution_count": 104,
     "metadata": {},
     "output_type": "execute_result"
    }
   ],
   "source": [
    "start_ranfor_reg_1 = timeit.default_timer()\n",
    "ranfor_reg_1.fit(X1_train, y1_train)\n",
    "time_ranfor_reg_1 = timeit.default_timer() - start_ranfor_reg_1\n",
    "\n",
    "start_ranfor_reg_2 = timeit.default_timer()\n",
    "ranfor_reg_2.fit(X2_train, y2_train)\n",
    "time_ranfor_reg_2 = timeit.default_timer() - start_ranfor_reg_2\n",
    "\n",
    "start_ranfor_reg_3 = timeit.default_timer()\n",
    "ranfor_reg_3.fit(X3_train, y3_train)\n",
    "time_ranfor_reg_3 = timeit.default_timer() - start_ranfor_reg_3\n",
    "\n",
    "# Compute predictions from the test set\n",
    "y1_pred_ranfor_reg = ranfor_reg_1.predict(X1_test)\n",
    "y2_pred_ranfor_reg = ranfor_reg_2.predict(X2_test)\n",
    "y3_pred_ranfor_reg = ranfor_reg_3.predict(X3_test)\n",
    "\n",
    "df_ranfor_reg_1 = Reg_metrics('ranfor_reg_1',y1_test,y1_pred_ranfor_reg)\n",
    "df_ranfor_reg_1['CPU_time(s)'] = time_ranfor_reg_1\n",
    "df_m = df_m.append(df_ranfor_reg_1)\n",
    "\n",
    "df_ranfor_reg_2 = Reg_metrics('ranfor_reg_2',y2_test,y2_pred_ranfor_reg)\n",
    "df_ranfor_reg_2['CPU_time(s)'] = time_ranfor_reg_2\n",
    "df_m = df_m.append(df_ranfor_reg_2)\n",
    "\n",
    "df_ranfor_reg_3 = Reg_metrics('ranfor_reg_3',y3_test,y3_pred_ranfor_reg)\n",
    "df_ranfor_reg_3['CPU_time(s)'] = time_ranfor_reg_3\n",
    "df_m = df_m.append(df_ranfor_reg_3)\n",
    "\n",
    "df_m.tail(3)"
   ]
  },
  {
   "cell_type": "code",
   "execution_count": 75,
   "metadata": {},
   "outputs": [
    {
     "data": {
      "text/html": [
       "<div>\n",
       "<style scoped>\n",
       "    .dataframe tbody tr th:only-of-type {\n",
       "        vertical-align: middle;\n",
       "    }\n",
       "\n",
       "    .dataframe tbody tr th {\n",
       "        vertical-align: top;\n",
       "    }\n",
       "\n",
       "    .dataframe thead th {\n",
       "        text-align: right;\n",
       "    }\n",
       "</style>\n",
       "<table border=\"1\" class=\"dataframe\">\n",
       "  <thead>\n",
       "    <tr style=\"text-align: right;\">\n",
       "      <th></th>\n",
       "      <th>Features</th>\n",
       "      <th>Ranfor_reg_coef Dataframe 1</th>\n",
       "    </tr>\n",
       "  </thead>\n",
       "  <tbody>\n",
       "    <tr>\n",
       "      <td>2</td>\n",
       "      <td>Energy_tot(kWh_Area)</td>\n",
       "      <td>0.627755</td>\n",
       "    </tr>\n",
       "    <tr>\n",
       "      <td>0</td>\n",
       "      <td>Area2refArea</td>\n",
       "      <td>0.318270</td>\n",
       "    </tr>\n",
       "    <tr>\n",
       "      <td>1</td>\n",
       "      <td>SolarPanel(kWh)_Etot</td>\n",
       "      <td>0.044088</td>\n",
       "    </tr>\n",
       "    <tr>\n",
       "      <td>4</td>\n",
       "      <td>reg_B</td>\n",
       "      <td>0.001665</td>\n",
       "    </tr>\n",
       "    <tr>\n",
       "      <td>13</td>\n",
       "      <td>ft_Office</td>\n",
       "      <td>0.001615</td>\n",
       "    </tr>\n",
       "  </tbody>\n",
       "</table>\n",
       "</div>"
      ],
      "text/plain": [
       "                Features  Ranfor_reg_coef Dataframe 1\n",
       "2   Energy_tot(kWh_Area)                     0.627755\n",
       "0           Area2refArea                     0.318270\n",
       "1   SolarPanel(kWh)_Etot                     0.044088\n",
       "4                  reg_B                     0.001665\n",
       "13             ft_Office                     0.001615"
      ]
     },
     "execution_count": 75,
     "metadata": {},
     "output_type": "execute_result"
    }
   ],
   "source": [
    "df_coef_ranfor_reg_1 = pd.DataFrame({'Features':arr_col_x1 , 'Ranfor_reg_coef Dataframe 1':abs(ranfor_reg_1.feature_importances_)})\n",
    "df_coef_ranfor_reg_1.sort_values(by=['Ranfor_reg_coef Dataframe 1'], ascending=False).head()"
   ]
  },
  {
   "cell_type": "code",
   "execution_count": 76,
   "metadata": {},
   "outputs": [
    {
     "data": {
      "text/html": [
       "<div>\n",
       "<style scoped>\n",
       "    .dataframe tbody tr th:only-of-type {\n",
       "        vertical-align: middle;\n",
       "    }\n",
       "\n",
       "    .dataframe tbody tr th {\n",
       "        vertical-align: top;\n",
       "    }\n",
       "\n",
       "    .dataframe thead th {\n",
       "        text-align: right;\n",
       "    }\n",
       "</style>\n",
       "<table border=\"1\" class=\"dataframe\">\n",
       "  <thead>\n",
       "    <tr style=\"text-align: right;\">\n",
       "      <th></th>\n",
       "      <th>Features</th>\n",
       "      <th>Ranfor_reg_coef Dataframe 2</th>\n",
       "    </tr>\n",
       "  </thead>\n",
       "  <tbody>\n",
       "    <tr>\n",
       "      <td>1</td>\n",
       "      <td>Energy_tot(kWh_Area)</td>\n",
       "      <td>0.649150</td>\n",
       "    </tr>\n",
       "    <tr>\n",
       "      <td>0</td>\n",
       "      <td>Area2refArea</td>\n",
       "      <td>0.330587</td>\n",
       "    </tr>\n",
       "    <tr>\n",
       "      <td>12</td>\n",
       "      <td>ft_Office</td>\n",
       "      <td>0.004989</td>\n",
       "    </tr>\n",
       "    <tr>\n",
       "      <td>3</td>\n",
       "      <td>reg_B</td>\n",
       "      <td>0.003226</td>\n",
       "    </tr>\n",
       "    <tr>\n",
       "      <td>10</td>\n",
       "      <td>ft_Beach</td>\n",
       "      <td>0.002092</td>\n",
       "    </tr>\n",
       "  </tbody>\n",
       "</table>\n",
       "</div>"
      ],
      "text/plain": [
       "                Features  Ranfor_reg_coef Dataframe 2\n",
       "1   Energy_tot(kWh_Area)                     0.649150\n",
       "0           Area2refArea                     0.330587\n",
       "12             ft_Office                     0.004989\n",
       "3                  reg_B                     0.003226\n",
       "10              ft_Beach                     0.002092"
      ]
     },
     "execution_count": 76,
     "metadata": {},
     "output_type": "execute_result"
    }
   ],
   "source": [
    "df_coef_ranfor_reg_2 = pd.DataFrame({'Features':arr_col_x2 , 'Ranfor_reg_coef Dataframe 2':abs(ranfor_reg_2.feature_importances_)})\n",
    "df_coef_ranfor_reg_2.sort_values(by=['Ranfor_reg_coef Dataframe 2'], ascending=False).head()"
   ]
  },
  {
   "cell_type": "code",
   "execution_count": 77,
   "metadata": {},
   "outputs": [
    {
     "data": {
      "image/png": "[encoded data removed]",
      "text/plain": [
       "<Figure size 432x288 with 1 Axes>"
      ]
     },
     "metadata": {
      "needs_background": "light"
     },
     "output_type": "display_data"
    }
   ],
   "source": [
    "# Visualize the predictions against the actual values \n",
    "ax_test = sns.distplot(y1_test, hist=False, color='r', label='test')\n",
    "sns_plot = sns.distplot(y1_pred_ranfor_reg, hist=False, color='b',label='prediction Dataframe 1', ax=ax_test)\n",
    "sns_plot2 = sns.distplot(y2_pred_ranfor_reg, hist=False, \n",
    "                         kde_kws={'linestyle':'dashed','marker':'o','markersize':'2'}, \n",
    "                         color='m',\n",
    "                         label='prediction Dataframe 2',\n",
    "                         ax=ax_test)\n",
    "sns_plot3 = sns.distplot(y3_pred_ranfor_reg, hist=False, color='g',label='prediction Dataframe 3', ax=ax_test)"
   ]
  },
  {
   "cell_type": "markdown",
   "metadata": {},
   "source": [
    "**Adaboost**"
   ]
  },
  {
   "cell_type": "code",
   "execution_count": 78,
   "metadata": {},
   "outputs": [
    {
     "name": "stderr",
     "output_type": "stream",
     "text": [
      "C:\\Users\\USER\\Anaconda3\\lib\\site-packages\\sklearn\\model_selection\\_search.py:281: UserWarning: The total space of parameters 9 is smaller than n_iter=100. Running 9 iterations. For exhaustive searches, use GridSearchCV.\n",
      "  % (grid_size, self.n_iter, grid_size), UserWarning)\n",
      "[Parallel(n_jobs=-1)]: Using backend LokyBackend with 4 concurrent workers.\n"
     ]
    },
    {
     "name": "stdout",
     "output_type": "stream",
     "text": [
      "Fitting 6 folds for each of 9 candidates, totalling 54 fits\n"
     ]
    },
    {
     "name": "stderr",
     "output_type": "stream",
     "text": [
      "[Parallel(n_jobs=-1)]: Done  33 tasks      | elapsed:    1.2s\n",
      "[Parallel(n_jobs=-1)]: Done  54 out of  54 | elapsed:    1.8s finished\n",
      "C:\\Users\\USER\\Anaconda3\\lib\\site-packages\\sklearn\\model_selection\\_search.py:281: UserWarning: The total space of parameters 9 is smaller than n_iter=100. Running 9 iterations. For exhaustive searches, use GridSearchCV.\n",
      "  % (grid_size, self.n_iter, grid_size), UserWarning)\n",
      "[Parallel(n_jobs=-1)]: Using backend LokyBackend with 4 concurrent workers.\n"
     ]
    },
    {
     "name": "stdout",
     "output_type": "stream",
     "text": [
      "Fitting 6 folds for each of 9 candidates, totalling 54 fits\n"
     ]
    },
    {
     "name": "stderr",
     "output_type": "stream",
     "text": [
      "[Parallel(n_jobs=-1)]: Done  54 out of  54 | elapsed:    1.7s finished\n",
      "C:\\Users\\USER\\Anaconda3\\lib\\site-packages\\sklearn\\model_selection\\_search.py:281: UserWarning: The total space of parameters 9 is smaller than n_iter=100. Running 9 iterations. For exhaustive searches, use GridSearchCV.\n",
      "  % (grid_size, self.n_iter, grid_size), UserWarning)\n",
      "[Parallel(n_jobs=-1)]: Using backend LokyBackend with 4 concurrent workers.\n"
     ]
    },
    {
     "name": "stdout",
     "output_type": "stream",
     "text": [
      "Fitting 6 folds for each of 9 candidates, totalling 54 fits\n"
     ]
    },
    {
     "name": "stderr",
     "output_type": "stream",
     "text": [
      "[Parallel(n_jobs=-1)]: Done  54 out of  54 | elapsed:    2.0s finished\n"
     ]
    },
    {
     "data": {
      "text/plain": [
       "RandomizedSearchCV(cv=6, error_score=nan,\n",
       "                   estimator=AdaBoostRegressor(base_estimator=DecisionTreeRegressor(ccp_alpha=0.0,\n",
       "                                                                                    criterion='mse',\n",
       "                                                                                    max_depth=10,\n",
       "                                                                                    max_features=None,\n",
       "                                                                                    max_leaf_nodes=None,\n",
       "                                                                                    min_impurity_decrease=0.0,\n",
       "                                                                                    min_impurity_split=None,\n",
       "                                                                                    min_samples_leaf=2,\n",
       "                                                                                    min_samples_split=5,\n",
       "                                                                                    min_weight_fraction_leaf=0.0,\n",
       "                                                                                    presort='deprecated',\n",
       "                                                                                    random_state=None,\n",
       "                                                                                    splitter='best'),\n",
       "                                               learning_rate=1.0, loss='linear',\n",
       "                                               n_estimators=10,\n",
       "                                               random_state=None),\n",
       "                   iid='deprecated', n_iter=100, n_jobs=-1,\n",
       "                   param_distributions={'learning_rate': [0.01, 0.1, 0.3],\n",
       "                                        'loss': ['linear', 'square',\n",
       "                                                 'exponential']},\n",
       "                   pre_dispatch='2*n_jobs', random_state=None, refit=True,\n",
       "                   return_train_score=False, scoring=None, verbose=2)"
      ]
     },
     "execution_count": 78,
     "metadata": {},
     "output_type": "execute_result"
    }
   ],
   "source": [
    "# Hyperparameter values to feed to the RandomizedSearchCV\n",
    "param_grid_ada = {\"learning_rate\"   : [0.01, 0.1, 0.3],\n",
    "                  \"loss\"            : ['linear', 'square', 'exponential']\n",
    "                 }\n",
    "from sklearn.ensemble import AdaBoostRegressor\n",
    "from sklearn.tree import DecisionTreeRegressor\n",
    "\n",
    "# Instantiate a RandomizedSearchCV on an AdaBoostRegressor model with 100 iterations\n",
    "ada_reg_grid_1 = RandomizedSearchCV(AdaBoostRegressor(DecisionTreeRegressor(min_samples_split = 5, min_samples_leaf = 2, max_depth = 10), n_estimators=10), param_distributions = param_grid_ada, n_iter = 100, verbose = 2, n_jobs = -1, cv=6)\n",
    "ada_reg_grid_2 = RandomizedSearchCV(AdaBoostRegressor(DecisionTreeRegressor(min_samples_split = 5, min_samples_leaf = 2, max_depth = 10), n_estimators=10), param_distributions = param_grid_ada, n_iter = 100, verbose = 2, n_jobs = -1, cv=6)\n",
    "ada_reg_grid_3 = RandomizedSearchCV(AdaBoostRegressor(DecisionTreeRegressor(min_samples_split = 5, min_samples_leaf = 2, max_depth = 10), n_estimators=10), param_distributions = param_grid_ada, n_iter = 100, verbose = 2, n_jobs = -1, cv=6)\n",
    "\n",
    "ada_reg_grid_1.fit(X1_train, y1_train)\n",
    "ada_reg_grid_2.fit(X2_train, y2_train)\n",
    "ada_reg_grid_3.fit(X3_train, y3_train)"
   ]
  },
  {
   "cell_type": "code",
   "execution_count": 79,
   "metadata": {},
   "outputs": [
    {
     "name": "stdout",
     "output_type": "stream",
     "text": [
      "{'loss': 'square', 'learning_rate': 0.3}\n",
      "{'loss': 'linear', 'learning_rate': 0.1}\n",
      "{'loss': 'exponential', 'learning_rate': 0.3}\n"
     ]
    }
   ],
   "source": [
    "print(ada_reg_grid_1.best_params_)\n",
    "print(ada_reg_grid_2.best_params_)\n",
    "print(ada_reg_grid_3.best_params_)\n",
    "\n",
    "ada_reg_1 = AdaBoostRegressor(DecisionTreeRegressor(min_samples_split = 5, min_samples_leaf = 2, max_depth = 10),\n",
    "                              n_estimators=10,\n",
    "                              loss= ada_reg_grid_1.best_params_['loss'],\n",
    "                              learning_rate= ada_reg_grid_1.best_params_['learning_rate'])\n",
    "\n",
    "ada_reg_2 = AdaBoostRegressor(DecisionTreeRegressor(min_samples_split = 5, min_samples_leaf = 2, max_depth = 10),\n",
    "                              n_estimators=10,\n",
    "                              loss= ada_reg_grid_2.best_params_['loss'],\n",
    "                              learning_rate= ada_reg_grid_2.best_params_['learning_rate'])\n",
    "\n",
    "ada_reg_3 = AdaBoostRegressor(DecisionTreeRegressor(min_samples_split = 5, min_samples_leaf = 2, max_depth = 10),\n",
    "                              n_estimators=10,\n",
    "                              loss= ada_reg_grid_3.best_params_['loss'],\n",
    "                              learning_rate= ada_reg_grid_3.best_params_['learning_rate'])"
   ]
  },
  {
   "cell_type": "code",
   "execution_count": 105,
   "metadata": {},
   "outputs": [
    {
     "data": {
      "text/html": [
       "<div>\n",
       "<style scoped>\n",
       "    .dataframe tbody tr th:only-of-type {\n",
       "        vertical-align: middle;\n",
       "    }\n",
       "\n",
       "    .dataframe tbody tr th {\n",
       "        vertical-align: top;\n",
       "    }\n",
       "\n",
       "    .dataframe thead th {\n",
       "        text-align: right;\n",
       "    }\n",
       "</style>\n",
       "<table border=\"1\" class=\"dataframe\">\n",
       "  <thead>\n",
       "    <tr style=\"text-align: right;\">\n",
       "      <th></th>\n",
       "      <th>Regression</th>\n",
       "      <th>R2_score</th>\n",
       "      <th>RMSE</th>\n",
       "      <th>RMSLE</th>\n",
       "      <th>CPU_time(s)</th>\n",
       "    </tr>\n",
       "  </thead>\n",
       "  <tbody>\n",
       "    <tr>\n",
       "      <td>0</td>\n",
       "      <td>ada_reg_1</td>\n",
       "      <td>0.905540</td>\n",
       "      <td>7.089316</td>\n",
       "      <td>0.074367</td>\n",
       "      <td>0.099141</td>\n",
       "    </tr>\n",
       "    <tr>\n",
       "      <td>0</td>\n",
       "      <td>ada_reg_2</td>\n",
       "      <td>0.869718</td>\n",
       "      <td>8.325721</td>\n",
       "      <td>0.103138</td>\n",
       "      <td>0.099141</td>\n",
       "    </tr>\n",
       "    <tr>\n",
       "      <td>0</td>\n",
       "      <td>ada_reg_3</td>\n",
       "      <td>0.918663</td>\n",
       "      <td>6.578456</td>\n",
       "      <td>0.075730</td>\n",
       "      <td>0.092325</td>\n",
       "    </tr>\n",
       "  </tbody>\n",
       "</table>\n",
       "</div>"
      ],
      "text/plain": [
       "  Regression  R2_score      RMSE     RMSLE  CPU_time(s)\n",
       "0  ada_reg_1  0.905540  7.089316  0.074367     0.099141\n",
       "0  ada_reg_2  0.869718  8.325721  0.103138     0.099141\n",
       "0  ada_reg_3  0.918663  6.578456  0.075730     0.092325"
      ]
     },
     "execution_count": 105,
     "metadata": {},
     "output_type": "execute_result"
    }
   ],
   "source": [
    "start_ada_reg_1 = timeit.default_timer()\n",
    "ada_reg_1.fit(X1_train, y1_train)\n",
    "time_ada_reg_1 = timeit.default_timer() - start_ada_reg_1\n",
    "\n",
    "start_ada_reg_2 = timeit.default_timer()\n",
    "ada_reg_2.fit(X2_train, y2_train)\n",
    "time_ada_reg_2 = timeit.default_timer() - start_ada_reg_2\n",
    "\n",
    "start_ada_reg_3 = timeit.default_timer()\n",
    "ada_reg_3.fit(X3_train, y3_train)\n",
    "time_ada_reg_3 = timeit.default_timer() - start_ada_reg_3\n",
    "\n",
    "# Compute predictions from the test set\n",
    "y1_pred_ada_reg = ada_reg_1.predict(X1_test)\n",
    "y2_pred_ada_reg = ada_reg_2.predict(X2_test)\n",
    "y3_pred_ada_reg = ada_reg_3.predict(X3_test)\n",
    "\n",
    "df_ada_reg_1 = Reg_metrics('ada_reg_1',y1_test,y1_pred_ada_reg)\n",
    "df_ada_reg_1['CPU_time(s)'] = time_ada_reg_1\n",
    "df_m = df_m.append(df_ada_reg_1)\n",
    "\n",
    "df_ada_reg_2 = Reg_metrics('ada_reg_2',y2_test,y2_pred_ada_reg)\n",
    "df_ada_reg_2['CPU_time(s)'] = time_ada_reg_1\n",
    "df_m = df_m.append(df_ada_reg_2)\n",
    "\n",
    "df_ada_reg_3 = Reg_metrics('ada_reg_3',y3_test,y3_pred_ada_reg)\n",
    "df_ada_reg_3['CPU_time(s)'] = time_ada_reg_3\n",
    "df_m = df_m.append(df_ada_reg_3)\n",
    "\n",
    "df_m.tail(3)"
   ]
  },
  {
   "cell_type": "code",
   "execution_count": 81,
   "metadata": {},
   "outputs": [
    {
     "data": {
      "text/html": [
       "<div>\n",
       "<style scoped>\n",
       "    .dataframe tbody tr th:only-of-type {\n",
       "        vertical-align: middle;\n",
       "    }\n",
       "\n",
       "    .dataframe tbody tr th {\n",
       "        vertical-align: top;\n",
       "    }\n",
       "\n",
       "    .dataframe thead th {\n",
       "        text-align: right;\n",
       "    }\n",
       "</style>\n",
       "<table border=\"1\" class=\"dataframe\">\n",
       "  <thead>\n",
       "    <tr style=\"text-align: right;\">\n",
       "      <th></th>\n",
       "      <th>Features</th>\n",
       "      <th>Ada_reg_coef Dataframe 1</th>\n",
       "    </tr>\n",
       "  </thead>\n",
       "  <tbody>\n",
       "    <tr>\n",
       "      <td>2</td>\n",
       "      <td>Energy_tot(kWh_Area)</td>\n",
       "      <td>0.612134</td>\n",
       "    </tr>\n",
       "    <tr>\n",
       "      <td>0</td>\n",
       "      <td>Area2refArea</td>\n",
       "      <td>0.326362</td>\n",
       "    </tr>\n",
       "    <tr>\n",
       "      <td>1</td>\n",
       "      <td>SolarPanel(kWh)_Etot</td>\n",
       "      <td>0.048991</td>\n",
       "    </tr>\n",
       "    <tr>\n",
       "      <td>6</td>\n",
       "      <td>reg_E</td>\n",
       "      <td>0.002695</td>\n",
       "    </tr>\n",
       "    <tr>\n",
       "      <td>4</td>\n",
       "      <td>reg_B</td>\n",
       "      <td>0.002459</td>\n",
       "    </tr>\n",
       "  </tbody>\n",
       "</table>\n",
       "</div>"
      ],
      "text/plain": [
       "               Features  Ada_reg_coef Dataframe 1\n",
       "2  Energy_tot(kWh_Area)                  0.612134\n",
       "0          Area2refArea                  0.326362\n",
       "1  SolarPanel(kWh)_Etot                  0.048991\n",
       "6                 reg_E                  0.002695\n",
       "4                 reg_B                  0.002459"
      ]
     },
     "execution_count": 81,
     "metadata": {},
     "output_type": "execute_result"
    }
   ],
   "source": [
    "df_coef_ada_reg_1 = pd.DataFrame({'Features':arr_col_x1 , 'Ada_reg_coef Dataframe 1':ada_reg_1.feature_importances_})\n",
    "df_coef_ada_reg_1.sort_values(by=['Ada_reg_coef Dataframe 1'], ascending=False).head(5)"
   ]
  },
  {
   "cell_type": "code",
   "execution_count": 82,
   "metadata": {},
   "outputs": [
    {
     "data": {
      "text/html": [
       "<div>\n",
       "<style scoped>\n",
       "    .dataframe tbody tr th:only-of-type {\n",
       "        vertical-align: middle;\n",
       "    }\n",
       "\n",
       "    .dataframe tbody tr th {\n",
       "        vertical-align: top;\n",
       "    }\n",
       "\n",
       "    .dataframe thead th {\n",
       "        text-align: right;\n",
       "    }\n",
       "</style>\n",
       "<table border=\"1\" class=\"dataframe\">\n",
       "  <thead>\n",
       "    <tr style=\"text-align: right;\">\n",
       "      <th></th>\n",
       "      <th>Features</th>\n",
       "      <th>Ada_reg_coef Dataframe 2</th>\n",
       "    </tr>\n",
       "  </thead>\n",
       "  <tbody>\n",
       "    <tr>\n",
       "      <td>1</td>\n",
       "      <td>Energy_tot(kWh_Area)</td>\n",
       "      <td>0.635559</td>\n",
       "    </tr>\n",
       "    <tr>\n",
       "      <td>0</td>\n",
       "      <td>Area2refArea</td>\n",
       "      <td>0.333087</td>\n",
       "    </tr>\n",
       "    <tr>\n",
       "      <td>12</td>\n",
       "      <td>ft_Office</td>\n",
       "      <td>0.005831</td>\n",
       "    </tr>\n",
       "    <tr>\n",
       "      <td>15</td>\n",
       "      <td>ft_Spa</td>\n",
       "      <td>0.004954</td>\n",
       "    </tr>\n",
       "    <tr>\n",
       "      <td>4</td>\n",
       "      <td>reg_C</td>\n",
       "      <td>0.004648</td>\n",
       "    </tr>\n",
       "  </tbody>\n",
       "</table>\n",
       "</div>"
      ],
      "text/plain": [
       "                Features  Ada_reg_coef Dataframe 2\n",
       "1   Energy_tot(kWh_Area)                  0.635559\n",
       "0           Area2refArea                  0.333087\n",
       "12             ft_Office                  0.005831\n",
       "15                ft_Spa                  0.004954\n",
       "4                  reg_C                  0.004648"
      ]
     },
     "execution_count": 82,
     "metadata": {},
     "output_type": "execute_result"
    }
   ],
   "source": [
    "df_coef_ada_reg_2 = pd.DataFrame({'Features':arr_col_x2 , 'Ada_reg_coef Dataframe 2':ada_reg_2.feature_importances_})\n",
    "df_coef_ada_reg_2.sort_values(by=['Ada_reg_coef Dataframe 2'], ascending=False).head(5)"
   ]
  },
  {
   "cell_type": "code",
   "execution_count": 83,
   "metadata": {},
   "outputs": [
    {
     "data": {
      "image/png": "[encoded data removed]",
      "text/plain": [
       "<Figure size 432x288 with 1 Axes>"
      ]
     },
     "metadata": {
      "needs_background": "light"
     },
     "output_type": "display_data"
    }
   ],
   "source": [
    "# Visualize the predictions against the actual values \n",
    "ax_test = sns.distplot(y1_test, hist=False, color='r', label='test')\n",
    "sns_plot1 = sns.distplot(y1_pred_ada_reg, hist=False, color='b',label='prediction Dataframe 1', ax=ax_test)\n",
    "sns_plot2 = sns.distplot(y2_pred_ada_reg, hist=False, \n",
    "                         kde_kws={'linestyle':'dashed','marker':'o','markersize':'2'}, \n",
    "                         color='m',\n",
    "                         label='prediction Dataframe 2',\n",
    "                         ax=ax_test)\n",
    "sns_plot3 = sns.distplot(y3_pred_ada_reg, hist=False, color='g',label='prediction Dataframe 3', ax=ax_test)"
   ]
  },
  {
   "cell_type": "markdown",
   "metadata": {},
   "source": [
    "**GradBoost**"
   ]
  },
  {
   "cell_type": "code",
   "execution_count": 84,
   "metadata": {},
   "outputs": [
    {
     "name": "stderr",
     "output_type": "stream",
     "text": [
      "C:\\Users\\USER\\Anaconda3\\lib\\site-packages\\sklearn\\model_selection\\_search.py:281: UserWarning: The total space of parameters 96 is smaller than n_iter=100. Running 96 iterations. For exhaustive searches, use GridSearchCV.\n",
      "  % (grid_size, self.n_iter, grid_size), UserWarning)\n",
      "[Parallel(n_jobs=-1)]: Using backend LokyBackend with 4 concurrent workers.\n"
     ]
    },
    {
     "name": "stdout",
     "output_type": "stream",
     "text": [
      "Fitting 6 folds for each of 96 candidates, totalling 576 fits\n"
     ]
    },
    {
     "name": "stderr",
     "output_type": "stream",
     "text": [
      "[Parallel(n_jobs=-1)]: Done  33 tasks      | elapsed:    3.5s\n",
      "[Parallel(n_jobs=-1)]: Done 154 tasks      | elapsed:   13.3s\n",
      "[Parallel(n_jobs=-1)]: Done 357 tasks      | elapsed:   29.9s\n",
      "[Parallel(n_jobs=-1)]: Done 576 out of 576 | elapsed:   48.7s finished\n",
      "C:\\Users\\USER\\Anaconda3\\lib\\site-packages\\sklearn\\model_selection\\_search.py:281: UserWarning: The total space of parameters 96 is smaller than n_iter=100. Running 96 iterations. For exhaustive searches, use GridSearchCV.\n",
      "  % (grid_size, self.n_iter, grid_size), UserWarning)\n",
      "[Parallel(n_jobs=-1)]: Using backend LokyBackend with 4 concurrent workers.\n"
     ]
    },
    {
     "name": "stdout",
     "output_type": "stream",
     "text": [
      "Fitting 6 folds for each of 96 candidates, totalling 576 fits\n"
     ]
    },
    {
     "name": "stderr",
     "output_type": "stream",
     "text": [
      "[Parallel(n_jobs=-1)]: Done  33 tasks      | elapsed:    3.3s\n",
      "[Parallel(n_jobs=-1)]: Done 154 tasks      | elapsed:   12.5s\n",
      "[Parallel(n_jobs=-1)]: Done 357 tasks      | elapsed:   28.2s\n",
      "[Parallel(n_jobs=-1)]: Done 576 out of 576 | elapsed:   44.9s finished\n",
      "C:\\Users\\USER\\Anaconda3\\lib\\site-packages\\sklearn\\model_selection\\_search.py:281: UserWarning: The total space of parameters 96 is smaller than n_iter=100. Running 96 iterations. For exhaustive searches, use GridSearchCV.\n",
      "  % (grid_size, self.n_iter, grid_size), UserWarning)\n",
      "[Parallel(n_jobs=-1)]: Using backend LokyBackend with 4 concurrent workers.\n"
     ]
    },
    {
     "name": "stdout",
     "output_type": "stream",
     "text": [
      "Fitting 6 folds for each of 96 candidates, totalling 576 fits\n"
     ]
    },
    {
     "name": "stderr",
     "output_type": "stream",
     "text": [
      "[Parallel(n_jobs=-1)]: Done  33 tasks      | elapsed:    3.9s\n",
      "[Parallel(n_jobs=-1)]: Done 154 tasks      | elapsed:   14.5s\n",
      "[Parallel(n_jobs=-1)]: Done 357 tasks      | elapsed:   32.8s\n",
      "[Parallel(n_jobs=-1)]: Done 576 out of 576 | elapsed:   51.7s finished\n"
     ]
    },
    {
     "data": {
      "text/plain": [
       "RandomizedSearchCV(cv=6, error_score=nan,\n",
       "                   estimator=GradientBoostingRegressor(alpha=0.9, ccp_alpha=0.0,\n",
       "                                                       criterion='friedman_mse',\n",
       "                                                       init=None,\n",
       "                                                       learning_rate=0.1,\n",
       "                                                       loss='ls', max_depth=3,\n",
       "                                                       max_features=None,\n",
       "                                                       max_leaf_nodes=None,\n",
       "                                                       min_impurity_decrease=0.0,\n",
       "                                                       min_impurity_split=None,\n",
       "                                                       min_samples_leaf=1,\n",
       "                                                       min_samples_split=2,\n",
       "                                                       min_weight_fraction_leaf=0.0,\n",
       "                                                       n_estimators=100,\n",
       "                                                       n_...\n",
       "                                                       validation_fraction=0.1,\n",
       "                                                       verbose=0,\n",
       "                                                       warm_start=False),\n",
       "                   iid='deprecated', n_iter=100, n_jobs=-1,\n",
       "                   param_distributions={'learning_rate': [0.01, 0.1, 0.3],\n",
       "                                        'max_depth': [5, 10],\n",
       "                                        'max_features': ['auto', 'sqrt'],\n",
       "                                        'min_samples_leaf': [2, 6],\n",
       "                                        'min_samples_split': [5, 10],\n",
       "                                        'subsample': [0.5, 1.0]},\n",
       "                   pre_dispatch='2*n_jobs', random_state=None, refit=True,\n",
       "                   return_train_score=False, scoring=None, verbose=2)"
      ]
     },
     "execution_count": 84,
     "metadata": {},
     "output_type": "execute_result"
    }
   ],
   "source": [
    "# Hyperparameter values to feed to the RandomizedSearchCV\n",
    "param_grid_graboo = {\"learning_rate\"   : [0.01, 0.1, 0.3],\n",
    "             \"subsample\"        : [0.5, 1.0],\n",
    "             'max_depth'        : [5, 10],\n",
    "             \"max_features\"     : ['auto', 'sqrt'],\n",
    "             \"min_samples_split\": [5, 10],\n",
    "             \"min_samples_leaf\" : [2, 6]\n",
    "             }\n",
    "from sklearn.ensemble import GradientBoostingRegressor\n",
    "\n",
    "# Instantiate a RandomizedSearchCV on a GradientBoostingRegressor model with 100 iterations\n",
    "graboo_reg_grid_1 = RandomizedSearchCV(GradientBoostingRegressor(), \n",
    "                                       param_distributions = param_grid_graboo, n_iter = 100, verbose = 2, n_jobs = -1, cv=6)\n",
    "graboo_reg_grid_2 = RandomizedSearchCV(GradientBoostingRegressor(), \n",
    "                                       param_distributions = param_grid_graboo, n_iter = 100, verbose = 2, n_jobs = -1, cv=6)\n",
    "graboo_reg_grid_3 = RandomizedSearchCV(GradientBoostingRegressor(), \n",
    "                                       param_distributions = param_grid_graboo, n_iter = 100, verbose = 2, n_jobs = -1, cv=6)\n",
    "\n",
    "graboo_reg_grid_1.fit(X1_train, y1_train)\n",
    "graboo_reg_grid_2.fit(X2_train, y2_train)\n",
    "graboo_reg_grid_3.fit(X3_train, y3_train)"
   ]
  },
  {
   "cell_type": "code",
   "execution_count": 85,
   "metadata": {},
   "outputs": [
    {
     "name": "stdout",
     "output_type": "stream",
     "text": [
      "{'subsample': 0.5, 'min_samples_split': 5, 'min_samples_leaf': 2, 'max_features': 'auto', 'max_depth': 5, 'learning_rate': 0.1}\n",
      "{'subsample': 0.5, 'min_samples_split': 10, 'min_samples_leaf': 6, 'max_features': 'auto', 'max_depth': 5, 'learning_rate': 0.1}\n",
      "{'subsample': 0.5, 'min_samples_split': 5, 'min_samples_leaf': 6, 'max_features': 'auto', 'max_depth': 10, 'learning_rate': 0.1}\n"
     ]
    }
   ],
   "source": [
    "print(graboo_reg_grid_1.best_params_)\n",
    "print(graboo_reg_grid_2.best_params_)\n",
    "print(graboo_reg_grid_3.best_params_)\n",
    "graboo_reg_1 = GradientBoostingRegressor(subsample=graboo_reg_grid_1.best_params_['subsample'],\n",
    "                                         min_samples_split=graboo_reg_grid_1.best_params_['min_samples_split'],\n",
    "                                         min_samples_leaf=graboo_reg_grid_1.best_params_['min_samples_leaf'],\n",
    "                                         max_features=graboo_reg_grid_1.best_params_['max_features'],\n",
    "                                         max_depth=graboo_reg_grid_1.best_params_['max_depth'],\n",
    "                                         learning_rate=graboo_reg_grid_1.best_params_['learning_rate'])\n",
    "\n",
    "graboo_reg_2 = GradientBoostingRegressor(subsample=graboo_reg_grid_2.best_params_['subsample'],\n",
    "                                         min_samples_split=graboo_reg_grid_2.best_params_['min_samples_split'],\n",
    "                                         min_samples_leaf=graboo_reg_grid_2.best_params_['min_samples_leaf'],\n",
    "                                         max_features=graboo_reg_grid_2.best_params_['max_features'],\n",
    "                                         max_depth=graboo_reg_grid_2.best_params_['max_depth'],\n",
    "                                         learning_rate=graboo_reg_grid_2.best_params_['learning_rate'])\n",
    "\n",
    "graboo_reg_3 = GradientBoostingRegressor(subsample=graboo_reg_grid_3.best_params_['subsample'],\n",
    "                                         min_samples_split=graboo_reg_grid_3.best_params_['min_samples_split'],\n",
    "                                         min_samples_leaf=graboo_reg_grid_3.best_params_['min_samples_leaf'],\n",
    "                                         max_features=graboo_reg_grid_3.best_params_['max_features'],\n",
    "                                         max_depth=graboo_reg_grid_3.best_params_['max_depth'],\n",
    "                                         learning_rate=graboo_reg_grid_3.best_params_['learning_rate'])"
   ]
  },
  {
   "cell_type": "code",
   "execution_count": 106,
   "metadata": {},
   "outputs": [
    {
     "data": {
      "text/html": [
       "<div>\n",
       "<style scoped>\n",
       "    .dataframe tbody tr th:only-of-type {\n",
       "        vertical-align: middle;\n",
       "    }\n",
       "\n",
       "    .dataframe tbody tr th {\n",
       "        vertical-align: top;\n",
       "    }\n",
       "\n",
       "    .dataframe thead th {\n",
       "        text-align: right;\n",
       "    }\n",
       "</style>\n",
       "<table border=\"1\" class=\"dataframe\">\n",
       "  <thead>\n",
       "    <tr style=\"text-align: right;\">\n",
       "      <th></th>\n",
       "      <th>Regression</th>\n",
       "      <th>R2_score</th>\n",
       "      <th>RMSE</th>\n",
       "      <th>RMSLE</th>\n",
       "      <th>CPU_time(s)</th>\n",
       "    </tr>\n",
       "  </thead>\n",
       "  <tbody>\n",
       "    <tr>\n",
       "      <td>0</td>\n",
       "      <td>gradb_reg_1</td>\n",
       "      <td>0.982791</td>\n",
       "      <td>3.025916</td>\n",
       "      <td>0.039222</td>\n",
       "      <td>0.291296</td>\n",
       "    </tr>\n",
       "    <tr>\n",
       "      <td>0</td>\n",
       "      <td>gradb_reg_2</td>\n",
       "      <td>0.873555</td>\n",
       "      <td>8.202208</td>\n",
       "      <td>0.095964</td>\n",
       "      <td>0.270050</td>\n",
       "    </tr>\n",
       "    <tr>\n",
       "      <td>0</td>\n",
       "      <td>gradb_reg_3</td>\n",
       "      <td>0.969652</td>\n",
       "      <td>4.018322</td>\n",
       "      <td>0.046893</td>\n",
       "      <td>0.395991</td>\n",
       "    </tr>\n",
       "  </tbody>\n",
       "</table>\n",
       "</div>"
      ],
      "text/plain": [
       "    Regression  R2_score      RMSE     RMSLE  CPU_time(s)\n",
       "0  gradb_reg_1  0.982791  3.025916  0.039222     0.291296\n",
       "0  gradb_reg_2  0.873555  8.202208  0.095964     0.270050\n",
       "0  gradb_reg_3  0.969652  4.018322  0.046893     0.395991"
      ]
     },
     "execution_count": 106,
     "metadata": {},
     "output_type": "execute_result"
    }
   ],
   "source": [
    "start_graboo_reg_1 = timeit.default_timer()\n",
    "graboo_reg_1.fit(X1_train, y1_train)\n",
    "time_graboo_reg_1 = timeit.default_timer() - start_graboo_reg_1\n",
    "\n",
    "start_graboo_reg_2 = timeit.default_timer()\n",
    "graboo_reg_2.fit(X2_train, y2_train)\n",
    "time_graboo_reg_2 = timeit.default_timer() - start_graboo_reg_2\n",
    "\n",
    "start_graboo_reg_3 = timeit.default_timer()\n",
    "graboo_reg_3.fit(X3_train, y3_train)\n",
    "time_graboo_reg_3 = timeit.default_timer() - start_graboo_reg_3\n",
    "\n",
    "# Compute predictions from the test set\n",
    "y1_pred_graboo_reg = graboo_reg_1.predict(X1_test)\n",
    "y2_pred_graboo_reg = graboo_reg_2.predict(X2_test)\n",
    "y3_pred_graboo_reg = graboo_reg_3.predict(X3_test)\n",
    "\n",
    "df_graboo_reg_1 = Reg_metrics('gradb_reg_1',y1_test,abs(y1_pred_graboo_reg))\n",
    "df_graboo_reg_1['CPU_time(s)'] = time_graboo_reg_1\n",
    "df_m = df_m.append(df_graboo_reg_1)\n",
    "\n",
    "df_graboo_reg_2 = Reg_metrics('gradb_reg_2',y2_test,abs(y2_pred_graboo_reg))\n",
    "df_graboo_reg_2['CPU_time(s)'] = time_graboo_reg_2\n",
    "df_m = df_m.append(df_graboo_reg_2)\n",
    "\n",
    "df_graboo_reg_3 = Reg_metrics('gradb_reg_3',y3_test,abs(y3_pred_graboo_reg))\n",
    "df_graboo_reg_3['CPU_time(s)'] = time_graboo_reg_3\n",
    "df_m = df_m.append(df_graboo_reg_3)\n",
    "\n",
    "df_m.tail(3)"
   ]
  },
  {
   "cell_type": "code",
   "execution_count": 87,
   "metadata": {},
   "outputs": [
    {
     "data": {
      "text/html": [
       "<div>\n",
       "<style scoped>\n",
       "    .dataframe tbody tr th:only-of-type {\n",
       "        vertical-align: middle;\n",
       "    }\n",
       "\n",
       "    .dataframe tbody tr th {\n",
       "        vertical-align: top;\n",
       "    }\n",
       "\n",
       "    .dataframe thead th {\n",
       "        text-align: right;\n",
       "    }\n",
       "</style>\n",
       "<table border=\"1\" class=\"dataframe\">\n",
       "  <thead>\n",
       "    <tr style=\"text-align: right;\">\n",
       "      <th></th>\n",
       "      <th>Features</th>\n",
       "      <th>GradB_reg_coef Dataframe 1</th>\n",
       "    </tr>\n",
       "  </thead>\n",
       "  <tbody>\n",
       "    <tr>\n",
       "      <td>2</td>\n",
       "      <td>Energy_tot(kWh_Area)</td>\n",
       "      <td>0.564318</td>\n",
       "    </tr>\n",
       "    <tr>\n",
       "      <td>0</td>\n",
       "      <td>Area2refArea</td>\n",
       "      <td>0.351141</td>\n",
       "    </tr>\n",
       "    <tr>\n",
       "      <td>1</td>\n",
       "      <td>SolarPanel(kWh)_Etot</td>\n",
       "      <td>0.072709</td>\n",
       "    </tr>\n",
       "    <tr>\n",
       "      <td>17</td>\n",
       "      <td>ft_Store</td>\n",
       "      <td>0.002743</td>\n",
       "    </tr>\n",
       "    <tr>\n",
       "      <td>5</td>\n",
       "      <td>reg_C</td>\n",
       "      <td>0.002468</td>\n",
       "    </tr>\n",
       "  </tbody>\n",
       "</table>\n",
       "</div>"
      ],
      "text/plain": [
       "                Features  GradB_reg_coef Dataframe 1\n",
       "2   Energy_tot(kWh_Area)                    0.564318\n",
       "0           Area2refArea                    0.351141\n",
       "1   SolarPanel(kWh)_Etot                    0.072709\n",
       "17              ft_Store                    0.002743\n",
       "5                  reg_C                    0.002468"
      ]
     },
     "execution_count": 87,
     "metadata": {},
     "output_type": "execute_result"
    }
   ],
   "source": [
    "df_coef_graboo_reg_1 = pd.DataFrame({'Features':arr_col_x1 , 'GradB_reg_coef Dataframe 1':graboo_reg_1.feature_importances_})\n",
    "df_coef_graboo_reg_1.sort_values(by=['GradB_reg_coef Dataframe 1'], ascending=False).head()"
   ]
  },
  {
   "cell_type": "code",
   "execution_count": 88,
   "metadata": {},
   "outputs": [
    {
     "data": {
      "text/html": [
       "<div>\n",
       "<style scoped>\n",
       "    .dataframe tbody tr th:only-of-type {\n",
       "        vertical-align: middle;\n",
       "    }\n",
       "\n",
       "    .dataframe tbody tr th {\n",
       "        vertical-align: top;\n",
       "    }\n",
       "\n",
       "    .dataframe thead th {\n",
       "        text-align: right;\n",
       "    }\n",
       "</style>\n",
       "<table border=\"1\" class=\"dataframe\">\n",
       "  <thead>\n",
       "    <tr style=\"text-align: right;\">\n",
       "      <th></th>\n",
       "      <th>Features</th>\n",
       "      <th>GradB_reg_coef Dataframe 2</th>\n",
       "    </tr>\n",
       "  </thead>\n",
       "  <tbody>\n",
       "    <tr>\n",
       "      <td>1</td>\n",
       "      <td>Energy_tot(kWh_Area)</td>\n",
       "      <td>0.609479</td>\n",
       "    </tr>\n",
       "    <tr>\n",
       "      <td>0</td>\n",
       "      <td>Area2refArea</td>\n",
       "      <td>0.366138</td>\n",
       "    </tr>\n",
       "    <tr>\n",
       "      <td>12</td>\n",
       "      <td>ft_Office</td>\n",
       "      <td>0.006336</td>\n",
       "    </tr>\n",
       "    <tr>\n",
       "      <td>10</td>\n",
       "      <td>ft_Beach</td>\n",
       "      <td>0.003206</td>\n",
       "    </tr>\n",
       "    <tr>\n",
       "      <td>3</td>\n",
       "      <td>reg_B</td>\n",
       "      <td>0.003136</td>\n",
       "    </tr>\n",
       "  </tbody>\n",
       "</table>\n",
       "</div>"
      ],
      "text/plain": [
       "                Features  GradB_reg_coef Dataframe 2\n",
       "1   Energy_tot(kWh_Area)                    0.609479\n",
       "0           Area2refArea                    0.366138\n",
       "12             ft_Office                    0.006336\n",
       "10              ft_Beach                    0.003206\n",
       "3                  reg_B                    0.003136"
      ]
     },
     "execution_count": 88,
     "metadata": {},
     "output_type": "execute_result"
    }
   ],
   "source": [
    "df_coef_graboo_reg_2 = pd.DataFrame({'Features':arr_col_x2 , 'GradB_reg_coef Dataframe 2':graboo_reg_2.feature_importances_})\n",
    "df_coef_graboo_reg_2.sort_values(by=['GradB_reg_coef Dataframe 2'], ascending=False).head()"
   ]
  },
  {
   "cell_type": "code",
   "execution_count": 89,
   "metadata": {},
   "outputs": [
    {
     "data": {
      "image/png": "[encoded data removed]",
      "text/plain": [
       "<Figure size 432x288 with 1 Axes>"
      ]
     },
     "metadata": {
      "needs_background": "light"
     },
     "output_type": "display_data"
    }
   ],
   "source": [
    "# Visualize the predictions against the actual values\n",
    "ax_test = sns.distplot(y1_test, hist=False, color='r', label='test')\n",
    "sns_plot1 = sns.distplot(y1_pred_graboo_reg, hist=False, color='b',label='prediction Dataframe 1', ax=ax_test)\n",
    "sns_plot2 = sns.distplot(y2_pred_graboo_reg, hist=False, \n",
    "                         kde_kws={'linestyle':'dashed','marker':'o','markersize':'2'}, \n",
    "                         color='m',\n",
    "                         label='prediction Dataframe 2',\n",
    "                         ax=ax_test)\n",
    "sns_plot3 = sns.distplot(y3_pred_graboo_reg, hist=False, \n",
    "                         kde_kws={'linestyle':'dashed','marker':'o','markersize':'2'}, \n",
    "                         color='g',\n",
    "                         label='prediction Dataframe 3',\n",
    "                         ax=ax_test)"
   ]
  },
  {
   "cell_type": "markdown",
   "metadata": {},
   "source": [
    "**XGBoost**"
   ]
  },
  {
   "cell_type": "code",
   "execution_count": 90,
   "metadata": {},
   "outputs": [
    {
     "name": "stdout",
     "output_type": "stream",
     "text": [
      "Fitting 6 folds for each of 100 candidates, totalling 600 fits\n"
     ]
    },
    {
     "name": "stderr",
     "output_type": "stream",
     "text": [
      "[Parallel(n_jobs=-1)]: Using backend LokyBackend with 4 concurrent workers.\n",
      "[Parallel(n_jobs=-1)]: Done  33 tasks      | elapsed:    2.8s\n",
      "[Parallel(n_jobs=-1)]: Done 154 tasks      | elapsed:   10.4s\n",
      "[Parallel(n_jobs=-1)]: Done 357 tasks      | elapsed:   24.4s\n",
      "[Parallel(n_jobs=-1)]: Done 600 out of 600 | elapsed:   40.3s finished\n",
      "C:\\Users\\USER\\Anaconda3\\lib\\site-packages\\xgboost\\core.py:587: FutureWarning: Series.base is deprecated and will be removed in a future version\n",
      "  if getattr(data, 'base', None) is not None and \\\n"
     ]
    },
    {
     "name": "stdout",
     "output_type": "stream",
     "text": [
      "[16:34:19] WARNING: C:/Jenkins/workspace/xgboost-win64_release_0.90/src/objective/regression_obj.cu:152: reg:linear is now deprecated in favor of reg:squarederror.\n",
      "Fitting 6 folds for each of 100 candidates, totalling 600 fits\n"
     ]
    },
    {
     "name": "stderr",
     "output_type": "stream",
     "text": [
      "[Parallel(n_jobs=-1)]: Using backend LokyBackend with 4 concurrent workers.\n",
      "[Parallel(n_jobs=-1)]: Done  33 tasks      | elapsed:    2.2s\n",
      "[Parallel(n_jobs=-1)]: Done 154 tasks      | elapsed:    9.7s\n",
      "[Parallel(n_jobs=-1)]: Done 357 tasks      | elapsed:   20.9s\n",
      "[Parallel(n_jobs=-1)]: Done 600 out of 600 | elapsed:   35.6s finished\n"
     ]
    },
    {
     "name": "stdout",
     "output_type": "stream",
     "text": [
      "[16:34:55] WARNING: C:/Jenkins/workspace/xgboost-win64_release_0.90/src/objective/regression_obj.cu:152: reg:linear is now deprecated in favor of reg:squarederror.\n",
      "Fitting 6 folds for each of 100 candidates, totalling 600 fits\n"
     ]
    },
    {
     "name": "stderr",
     "output_type": "stream",
     "text": [
      "[Parallel(n_jobs=-1)]: Using backend LokyBackend with 4 concurrent workers.\n",
      "[Parallel(n_jobs=-1)]: Done  33 tasks      | elapsed:    3.5s\n",
      "[Parallel(n_jobs=-1)]: Done 154 tasks      | elapsed:   13.3s\n",
      "[Parallel(n_jobs=-1)]: Done 357 tasks      | elapsed:   28.2s\n",
      "[Parallel(n_jobs=-1)]: Done 600 out of 600 | elapsed:   45.5s finished\n"
     ]
    },
    {
     "name": "stdout",
     "output_type": "stream",
     "text": [
      "[16:35:41] WARNING: C:/Jenkins/workspace/xgboost-win64_release_0.90/src/objective/regression_obj.cu:152: reg:linear is now deprecated in favor of reg:squarederror.\n"
     ]
    },
    {
     "data": {
      "text/plain": [
       "RandomizedSearchCV(cv=6, error_score=nan,\n",
       "                   estimator=XGBRegressor(base_score=0.5, booster='gbtree',\n",
       "                                          colsample_bylevel=1,\n",
       "                                          colsample_bynode=1,\n",
       "                                          colsample_bytree=1, gamma=0,\n",
       "                                          importance_type='gain',\n",
       "                                          learning_rate=0.1, max_delta_step=0,\n",
       "                                          max_depth=3, min_child_weight=1,\n",
       "                                          missing=None, n_estimators=100,\n",
       "                                          n_jobs=1, nthread=None,\n",
       "                                          objective='reg:linear',\n",
       "                                          random_state=0, reg_alpha=0,\n",
       "                                          reg_lambda=1, scale_pos_weight=1,\n",
       "                                          seed=None, silent=None, subsample=1,\n",
       "                                          verbosity=1),\n",
       "                   iid='deprecated', n_iter=100, n_jobs=-1,\n",
       "                   param_distributions={'colsample_bytree': [0.3, 0.5, 0.7],\n",
       "                                        'gamma': [0.0, 0.2, 0.4],\n",
       "                                        'learning_rate': [0.01, 0.1, 0.3],\n",
       "                                        'max_depth': [5, 10],\n",
       "                                        'min_child_weight': [1, 5]},\n",
       "                   pre_dispatch='2*n_jobs', random_state=None, refit=True,\n",
       "                   return_train_score=False, scoring=None, verbose=2)"
      ]
     },
     "execution_count": 90,
     "metadata": {},
     "output_type": "execute_result"
    }
   ],
   "source": [
    "import xgboost as xgb\n",
    "from xgboost import XGBRegressor\n",
    "# Hyperparameter values to feed to the RandomizedSearchCV\n",
    "param_grid_xgboo = {\"learning_rate\"   : [0.01, 0.1, 0.3] ,\n",
    "             'max_depth'        : [5, 10],\n",
    "             \"min_child_weight\" : [1, 5],\n",
    "             \"gamma\"            : [0.0, 0.2, 0.4],\n",
    "             \"colsample_bytree\" : [0.3, 0.5, 0.7]\n",
    "             }\n",
    "# Instantiate a RandomizedSearchCV on an XGBRegressor model with 100 iterations\n",
    "xgboo_reg_grid_1 = RandomizedSearchCV(XGBRegressor(), \n",
    "                                      param_distributions = param_grid_xgboo, n_iter = 100, verbose = 2, n_jobs = -1, cv=6)\n",
    "xgboo_reg_grid_2 = RandomizedSearchCV(XGBRegressor(), \n",
    "                                      param_distributions = param_grid_xgboo, n_iter = 100, verbose = 2, n_jobs = -1, cv=6)\n",
    "xgboo_reg_grid_3 = RandomizedSearchCV(XGBRegressor(), \n",
    "                                      param_distributions = param_grid_xgboo, n_iter = 100, verbose = 2, n_jobs = -1, cv=6)\n",
    "\n",
    "xgboo_reg_grid_1.fit(X1_train, y1_train)\n",
    "xgboo_reg_grid_2.fit(X2_train, y2_train)\n",
    "xgboo_reg_grid_3.fit(X3_train, y3_train)"
   ]
  },
  {
   "cell_type": "code",
   "execution_count": 91,
   "metadata": {},
   "outputs": [
    {
     "name": "stdout",
     "output_type": "stream",
     "text": [
      "{'min_child_weight': 5, 'max_depth': 5, 'learning_rate': 0.3, 'gamma': 0.0, 'colsample_bytree': 0.7}\n",
      "{'min_child_weight': 5, 'max_depth': 5, 'learning_rate': 0.1, 'gamma': 0.2, 'colsample_bytree': 0.7}\n",
      "{'min_child_weight': 5, 'max_depth': 5, 'learning_rate': 0.1, 'gamma': 0.2, 'colsample_bytree': 0.7}\n"
     ]
    }
   ],
   "source": [
    "print(xgboo_reg_grid_1.best_params_)\n",
    "print(xgboo_reg_grid_2.best_params_)\n",
    "print(xgboo_reg_grid_3.best_params_)\n",
    "\n",
    "xgboo_reg_1 = XGBRegressor(min_child_weight=xgboo_reg_grid_1.best_params_['min_child_weight'],\n",
    "                           max_depth=xgboo_reg_grid_1.best_params_['max_depth'],\n",
    "                           learning_rate=xgboo_reg_grid_1.best_params_['learning_rate'],\n",
    "                           gamma=xgboo_reg_grid_1.best_params_['gamma'],\n",
    "                           colsample_bytree=xgboo_reg_grid_1.best_params_['colsample_bytree'])\n",
    "\n",
    "xgboo_reg_2 = XGBRegressor(min_child_weight=xgboo_reg_grid_2.best_params_['min_child_weight'],\n",
    "                           max_depth=xgboo_reg_grid_2.best_params_['max_depth'],\n",
    "                           learning_rate=xgboo_reg_grid_2.best_params_['learning_rate'],\n",
    "                           gamma=xgboo_reg_grid_2.best_params_['gamma'],\n",
    "                           colsample_bytree=xgboo_reg_grid_2.best_params_['colsample_bytree'])\n",
    "\n",
    "xgboo_reg_3 = XGBRegressor(min_child_weight=xgboo_reg_grid_3.best_params_['min_child_weight'],\n",
    "                           max_depth=xgboo_reg_grid_3.best_params_['max_depth'],\n",
    "                           learning_rate=xgboo_reg_grid_3.best_params_['learning_rate'],\n",
    "                           gamma=xgboo_reg_grid_3.best_params_['gamma'],\n",
    "                           colsample_bytree=xgboo_reg_grid_3.best_params_['colsample_bytree'])"
   ]
  },
  {
   "cell_type": "code",
   "execution_count": 107,
   "metadata": {},
   "outputs": [
    {
     "name": "stderr",
     "output_type": "stream",
     "text": [
      "C:\\Users\\USER\\Anaconda3\\lib\\site-packages\\xgboost\\core.py:587: FutureWarning: Series.base is deprecated and will be removed in a future version\n",
      "  if getattr(data, 'base', None) is not None and \\\n"
     ]
    },
    {
     "name": "stdout",
     "output_type": "stream",
     "text": [
      "[16:42:45] WARNING: C:/Jenkins/workspace/xgboost-win64_release_0.90/src/objective/regression_obj.cu:152: reg:linear is now deprecated in favor of reg:squarederror.\n",
      "[16:42:45] WARNING: C:/Jenkins/workspace/xgboost-win64_release_0.90/src/objective/regression_obj.cu:152: reg:linear is now deprecated in favor of reg:squarederror.\n",
      "[16:42:45] WARNING: C:/Jenkins/workspace/xgboost-win64_release_0.90/src/objective/regression_obj.cu:152: reg:linear is now deprecated in favor of reg:squarederror.\n"
     ]
    },
    {
     "data": {
      "text/html": [
       "<div>\n",
       "<style scoped>\n",
       "    .dataframe tbody tr th:only-of-type {\n",
       "        vertical-align: middle;\n",
       "    }\n",
       "\n",
       "    .dataframe tbody tr th {\n",
       "        vertical-align: top;\n",
       "    }\n",
       "\n",
       "    .dataframe thead th {\n",
       "        text-align: right;\n",
       "    }\n",
       "</style>\n",
       "<table border=\"1\" class=\"dataframe\">\n",
       "  <thead>\n",
       "    <tr style=\"text-align: right;\">\n",
       "      <th></th>\n",
       "      <th>Regression</th>\n",
       "      <th>R2_score</th>\n",
       "      <th>RMSE</th>\n",
       "      <th>RMSLE</th>\n",
       "      <th>CPU_time(s)</th>\n",
       "    </tr>\n",
       "  </thead>\n",
       "  <tbody>\n",
       "    <tr>\n",
       "      <td>0</td>\n",
       "      <td>xgboo_reg_1</td>\n",
       "      <td>0.955783</td>\n",
       "      <td>4.850383</td>\n",
       "      <td>0.060675</td>\n",
       "      <td>0.256050</td>\n",
       "    </tr>\n",
       "    <tr>\n",
       "      <td>0</td>\n",
       "      <td>xgboo_reg_2</td>\n",
       "      <td>0.896465</td>\n",
       "      <td>7.422031</td>\n",
       "      <td>0.097051</td>\n",
       "      <td>0.220088</td>\n",
       "    </tr>\n",
       "    <tr>\n",
       "      <td>0</td>\n",
       "      <td>xgboo_reg_3</td>\n",
       "      <td>0.956478</td>\n",
       "      <td>4.812101</td>\n",
       "      <td>0.059473</td>\n",
       "      <td>0.270892</td>\n",
       "    </tr>\n",
       "  </tbody>\n",
       "</table>\n",
       "</div>"
      ],
      "text/plain": [
       "    Regression  R2_score      RMSE     RMSLE  CPU_time(s)\n",
       "0  xgboo_reg_1  0.955783  4.850383  0.060675     0.256050\n",
       "0  xgboo_reg_2  0.896465  7.422031  0.097051     0.220088\n",
       "0  xgboo_reg_3  0.956478  4.812101  0.059473     0.270892"
      ]
     },
     "execution_count": 107,
     "metadata": {},
     "output_type": "execute_result"
    }
   ],
   "source": [
    "start_xgboo_reg_1 = timeit.default_timer()\n",
    "xgboo_reg_1.fit(X1_train, y1_train)\n",
    "time_xgboo_reg_1 = timeit.default_timer() - start_xgboo_reg_1\n",
    "\n",
    "start_xgboo_reg_2 = timeit.default_timer()\n",
    "xgboo_reg_2.fit(X2_train, y2_train)\n",
    "time_xgboo_reg_2 = timeit.default_timer() - start_xgboo_reg_2\n",
    "\n",
    "start_xgboo_reg_3 = timeit.default_timer()\n",
    "xgboo_reg_3.fit(X3_train, y3_train)\n",
    "time_xgboo_reg_3 = timeit.default_timer() - start_xgboo_reg_3\n",
    "\n",
    "\n",
    "# Compute predictions from the test set\n",
    "y1_pred_xgboo_reg = abs(xgboo_reg_1.predict(X1_test))\n",
    "y2_pred_xgboo_reg = abs(xgboo_reg_2.predict(X2_test))\n",
    "y3_pred_xgboo_reg = abs(xgboo_reg_3.predict(X3_test))\n",
    "\n",
    "df_xgboo_reg_1 = Reg_metrics('xgboo_reg_1',y1_test,y1_pred_xgboo_reg)\n",
    "df_xgboo_reg_1['CPU_time(s)'] = time_xgboo_reg_1\n",
    "df_m = df_m.append(df_xgboo_reg_1)\n",
    "\n",
    "df_xgboo_reg_2 = Reg_metrics('xgboo_reg_2',y2_test,y2_pred_xgboo_reg)\n",
    "df_xgboo_reg_2['CPU_time(s)'] = time_xgboo_reg_2\n",
    "df_m = df_m.append(df_xgboo_reg_2)\n",
    "\n",
    "df_xgboo_reg_3 = Reg_metrics('xgboo_reg_3',y3_test,y3_pred_xgboo_reg)\n",
    "df_xgboo_reg_3['CPU_time(s)'] = time_xgboo_reg_3\n",
    "df_m = df_m.append(df_xgboo_reg_3)\n",
    "\n",
    "df_m.tail(3)"
   ]
  },
  {
   "cell_type": "code",
   "execution_count": 93,
   "metadata": {},
   "outputs": [
    {
     "data": {
      "text/html": [
       "<div>\n",
       "<style scoped>\n",
       "    .dataframe tbody tr th:only-of-type {\n",
       "        vertical-align: middle;\n",
       "    }\n",
       "\n",
       "    .dataframe tbody tr th {\n",
       "        vertical-align: top;\n",
       "    }\n",
       "\n",
       "    .dataframe thead th {\n",
       "        text-align: right;\n",
       "    }\n",
       "</style>\n",
       "<table border=\"1\" class=\"dataframe\">\n",
       "  <thead>\n",
       "    <tr style=\"text-align: right;\">\n",
       "      <th></th>\n",
       "      <th>Features</th>\n",
       "      <th>XGBoo_reg_coef Dataframe 1</th>\n",
       "    </tr>\n",
       "  </thead>\n",
       "  <tbody>\n",
       "    <tr>\n",
       "      <td>1</td>\n",
       "      <td>Area2refArea</td>\n",
       "      <td>458</td>\n",
       "    </tr>\n",
       "    <tr>\n",
       "      <td>0</td>\n",
       "      <td>Energy_tot(kWh_Area)</td>\n",
       "      <td>451</td>\n",
       "    </tr>\n",
       "    <tr>\n",
       "      <td>2</td>\n",
       "      <td>SolarPanel(kWh)_Etot</td>\n",
       "      <td>370</td>\n",
       "    </tr>\n",
       "    <tr>\n",
       "      <td>3</td>\n",
       "      <td>ft_Office</td>\n",
       "      <td>33</td>\n",
       "    </tr>\n",
       "    <tr>\n",
       "      <td>14</td>\n",
       "      <td>ft_Beach</td>\n",
       "      <td>32</td>\n",
       "    </tr>\n",
       "  </tbody>\n",
       "</table>\n",
       "</div>"
      ],
      "text/plain": [
       "                Features  XGBoo_reg_coef Dataframe 1\n",
       "1           Area2refArea                         458\n",
       "0   Energy_tot(kWh_Area)                         451\n",
       "2   SolarPanel(kWh)_Etot                         370\n",
       "3              ft_Office                          33\n",
       "14              ft_Beach                          32"
      ]
     },
     "execution_count": 93,
     "metadata": {},
     "output_type": "execute_result"
    }
   ],
   "source": [
    "df_coef_xgboo_reg_1 = (pd.DataFrame({'Features':np.array(list(xgboo_reg_1.get_booster().get_score(importance_type='weight').keys())),\n",
    "                                   'XGBoo_reg_coef Dataframe 1':np.array(list(xgboo_reg_1.get_booster().get_score(importance_type='weight').values()))}))\n",
    "df_coef_xgboo_reg_1.sort_values(by=['XGBoo_reg_coef Dataframe 1'], ascending=False).head()"
   ]
  },
  {
   "cell_type": "code",
   "execution_count": 94,
   "metadata": {},
   "outputs": [
    {
     "data": {
      "text/html": [
       "<div>\n",
       "<style scoped>\n",
       "    .dataframe tbody tr th:only-of-type {\n",
       "        vertical-align: middle;\n",
       "    }\n",
       "\n",
       "    .dataframe tbody tr th {\n",
       "        vertical-align: top;\n",
       "    }\n",
       "\n",
       "    .dataframe thead th {\n",
       "        text-align: right;\n",
       "    }\n",
       "</style>\n",
       "<table border=\"1\" class=\"dataframe\">\n",
       "  <thead>\n",
       "    <tr style=\"text-align: right;\">\n",
       "      <th></th>\n",
       "      <th>Features</th>\n",
       "      <th>XGBoo_reg_coef Dataframe 2</th>\n",
       "    </tr>\n",
       "  </thead>\n",
       "  <tbody>\n",
       "    <tr>\n",
       "      <td>0</td>\n",
       "      <td>Energy_tot(kWh_Area)</td>\n",
       "      <td>592</td>\n",
       "    </tr>\n",
       "    <tr>\n",
       "      <td>1</td>\n",
       "      <td>Area2refArea</td>\n",
       "      <td>526</td>\n",
       "    </tr>\n",
       "    <tr>\n",
       "      <td>11</td>\n",
       "      <td>reg_B</td>\n",
       "      <td>54</td>\n",
       "    </tr>\n",
       "    <tr>\n",
       "      <td>9</td>\n",
       "      <td>ft_Beach</td>\n",
       "      <td>53</td>\n",
       "    </tr>\n",
       "    <tr>\n",
       "      <td>7</td>\n",
       "      <td>reg_F</td>\n",
       "      <td>49</td>\n",
       "    </tr>\n",
       "  </tbody>\n",
       "</table>\n",
       "</div>"
      ],
      "text/plain": [
       "                Features  XGBoo_reg_coef Dataframe 2\n",
       "0   Energy_tot(kWh_Area)                         592\n",
       "1           Area2refArea                         526\n",
       "11                 reg_B                          54\n",
       "9               ft_Beach                          53\n",
       "7                  reg_F                          49"
      ]
     },
     "execution_count": 94,
     "metadata": {},
     "output_type": "execute_result"
    }
   ],
   "source": [
    "df_coef_xgboo_reg_2 = (pd.DataFrame({'Features':np.array(list(xgboo_reg_2.get_booster().get_score(importance_type='weight').keys())),\n",
    "                                      'XGBoo_reg_coef Dataframe 2':np.array(list(xgboo_reg_2.get_booster().get_score(importance_type='weight').values()))}))\n",
    "df_coef_xgboo_reg_2.sort_values(by=['XGBoo_reg_coef Dataframe 2'], ascending=False).head()"
   ]
  },
  {
   "cell_type": "code",
   "execution_count": 95,
   "metadata": {},
   "outputs": [
    {
     "data": {
      "image/png": "[encoded data removed]",
      "text/plain": [
       "<Figure size 432x288 with 1 Axes>"
      ]
     },
     "metadata": {
      "needs_background": "light"
     },
     "output_type": "display_data"
    }
   ],
   "source": [
    "ax_test = sns.distplot(y1_test, hist=False, color='r', label='test')\n",
    "sns_plot1 = sns.distplot(y1_pred_xgboo_reg, hist=False, color='b',label='prediction Dataframe 1', ax=ax_test)\n",
    "sns_plot2 = sns.distplot(y2_pred_xgboo_reg, hist=False, \n",
    "                         kde_kws={'linestyle':'dashed','marker':'o','markersize':'2'}, \n",
    "                         color='m',\n",
    "                         label='prediction Dataframe 2',\n",
    "                         ax=ax_test)\n",
    "sns_plot3 = sns.distplot(y3_pred_xgboo_reg, hist=False, \n",
    "                         kde_kws={'linestyle':'dashed','marker':'o','markersize':'2'}, \n",
    "                         color='g',\n",
    "                         label='prediction Dataframe 3',\n",
    "                         ax=ax_test)"
   ]
  },
  {
   "cell_type": "code",
   "execution_count": 108,
   "metadata": {},
   "outputs": [
    {
     "name": "stdout",
     "output_type": "stream",
     "text": [
      "Number of studied cases: 33\n"
     ]
    },
    {
     "data": {
      "text/html": [
       "<div>\n",
       "<style scoped>\n",
       "    .dataframe tbody tr th:only-of-type {\n",
       "        vertical-align: middle;\n",
       "    }\n",
       "\n",
       "    .dataframe tbody tr th {\n",
       "        vertical-align: top;\n",
       "    }\n",
       "\n",
       "    .dataframe thead th {\n",
       "        text-align: right;\n",
       "    }\n",
       "</style>\n",
       "<table border=\"1\" class=\"dataframe\">\n",
       "  <thead>\n",
       "    <tr style=\"text-align: right;\">\n",
       "      <th></th>\n",
       "      <th>Regression</th>\n",
       "      <th>R2_score</th>\n",
       "      <th>RMSE</th>\n",
       "      <th>RMSLE</th>\n",
       "      <th>CPU_time(s)</th>\n",
       "    </tr>\n",
       "  </thead>\n",
       "  <tbody>\n",
       "    <tr>\n",
       "      <td>0</td>\n",
       "      <td>lin_reg_1</td>\n",
       "      <td>0.707107</td>\n",
       "      <td>12.483451</td>\n",
       "      <td>0.166490</td>\n",
       "      <td>0.005301</td>\n",
       "    </tr>\n",
       "    <tr>\n",
       "      <td>0</td>\n",
       "      <td>lin_reg_2</td>\n",
       "      <td>0.670481</td>\n",
       "      <td>13.240977</td>\n",
       "      <td>0.180048</td>\n",
       "      <td>0.005344</td>\n",
       "    </tr>\n",
       "    <tr>\n",
       "      <td>0</td>\n",
       "      <td>lin_reg_3</td>\n",
       "      <td>0.705343</td>\n",
       "      <td>12.520981</td>\n",
       "      <td>0.171142</td>\n",
       "      <td>0.005572</td>\n",
       "    </tr>\n",
       "    <tr>\n",
       "      <td>0</td>\n",
       "      <td>tree_reg_2</td>\n",
       "      <td>0.850261</td>\n",
       "      <td>8.925811</td>\n",
       "      <td>0.110152</td>\n",
       "      <td>0.008059</td>\n",
       "    </tr>\n",
       "    <tr>\n",
       "      <td>0</td>\n",
       "      <td>rig_reg_3</td>\n",
       "      <td>0.701998</td>\n",
       "      <td>12.591843</td>\n",
       "      <td>0.171457</td>\n",
       "      <td>0.008496</td>\n",
       "    </tr>\n",
       "    <tr>\n",
       "      <td>0</td>\n",
       "      <td>tree_reg_1</td>\n",
       "      <td>0.839256</td>\n",
       "      <td>9.247978</td>\n",
       "      <td>0.103206</td>\n",
       "      <td>0.008530</td>\n",
       "    </tr>\n",
       "    <tr>\n",
       "      <td>0</td>\n",
       "      <td>tree_reg_3</td>\n",
       "      <td>0.853859</td>\n",
       "      <td>8.817926</td>\n",
       "      <td>0.100313</td>\n",
       "      <td>0.008748</td>\n",
       "    </tr>\n",
       "    <tr>\n",
       "      <td>0</td>\n",
       "      <td>knn_reg_1</td>\n",
       "      <td>0.291641</td>\n",
       "      <td>19.413632</td>\n",
       "      <td>0.264339</td>\n",
       "      <td>0.009653</td>\n",
       "    </tr>\n",
       "    <tr>\n",
       "      <td>0</td>\n",
       "      <td>rig_reg_2</td>\n",
       "      <td>0.669176</td>\n",
       "      <td>13.267175</td>\n",
       "      <td>0.180861</td>\n",
       "      <td>0.009795</td>\n",
       "    </tr>\n",
       "    <tr>\n",
       "      <td>0</td>\n",
       "      <td>knn_reg_3</td>\n",
       "      <td>0.247402</td>\n",
       "      <td>20.010661</td>\n",
       "      <td>0.275754</td>\n",
       "      <td>0.010017</td>\n",
       "    </tr>\n",
       "    <tr>\n",
       "      <td>0</td>\n",
       "      <td>knn_reg_2</td>\n",
       "      <td>0.497214</td>\n",
       "      <td>16.355791</td>\n",
       "      <td>0.214340</td>\n",
       "      <td>0.010226</td>\n",
       "    </tr>\n",
       "    <tr>\n",
       "      <td>0</td>\n",
       "      <td>rig_reg_1</td>\n",
       "      <td>0.702565</td>\n",
       "      <td>12.579873</td>\n",
       "      <td>0.171442</td>\n",
       "      <td>0.010461</td>\n",
       "    </tr>\n",
       "    <tr>\n",
       "      <td>0</td>\n",
       "      <td>lasso_reg_2</td>\n",
       "      <td>0.675665</td>\n",
       "      <td>13.136411</td>\n",
       "      <td>0.178537</td>\n",
       "      <td>0.034585</td>\n",
       "    </tr>\n",
       "    <tr>\n",
       "      <td>0</td>\n",
       "      <td>lasso_reg_3</td>\n",
       "      <td>0.697887</td>\n",
       "      <td>12.678416</td>\n",
       "      <td>0.169976</td>\n",
       "      <td>0.037441</td>\n",
       "    </tr>\n",
       "    <tr>\n",
       "      <td>0</td>\n",
       "      <td>lasso_reg_1</td>\n",
       "      <td>0.697515</td>\n",
       "      <td>12.686205</td>\n",
       "      <td>0.170219</td>\n",
       "      <td>0.046121</td>\n",
       "    </tr>\n",
       "    <tr>\n",
       "      <td>0</td>\n",
       "      <td>krr_3</td>\n",
       "      <td>0.846856</td>\n",
       "      <td>9.026729</td>\n",
       "      <td>0.123928</td>\n",
       "      <td>0.078201</td>\n",
       "    </tr>\n",
       "    <tr>\n",
       "      <td>0</td>\n",
       "      <td>krr_2</td>\n",
       "      <td>0.781415</td>\n",
       "      <td>10.784247</td>\n",
       "      <td>0.127376</td>\n",
       "      <td>0.080002</td>\n",
       "    </tr>\n",
       "    <tr>\n",
       "      <td>0</td>\n",
       "      <td>krr_1</td>\n",
       "      <td>0.868645</td>\n",
       "      <td>8.359931</td>\n",
       "      <td>0.114940</td>\n",
       "      <td>0.086854</td>\n",
       "    </tr>\n",
       "    <tr>\n",
       "      <td>0</td>\n",
       "      <td>ada_reg_3</td>\n",
       "      <td>0.918663</td>\n",
       "      <td>6.578456</td>\n",
       "      <td>0.075730</td>\n",
       "      <td>0.092325</td>\n",
       "    </tr>\n",
       "    <tr>\n",
       "      <td>0</td>\n",
       "      <td>ada_reg_1</td>\n",
       "      <td>0.905540</td>\n",
       "      <td>7.089316</td>\n",
       "      <td>0.074367</td>\n",
       "      <td>0.099141</td>\n",
       "    </tr>\n",
       "    <tr>\n",
       "      <td>0</td>\n",
       "      <td>ada_reg_2</td>\n",
       "      <td>0.869718</td>\n",
       "      <td>8.325721</td>\n",
       "      <td>0.103138</td>\n",
       "      <td>0.099141</td>\n",
       "    </tr>\n",
       "    <tr>\n",
       "      <td>0</td>\n",
       "      <td>svr_2</td>\n",
       "      <td>0.697258</td>\n",
       "      <td>12.691589</td>\n",
       "      <td>0.159361</td>\n",
       "      <td>0.179774</td>\n",
       "    </tr>\n",
       "    <tr>\n",
       "      <td>0</td>\n",
       "      <td>svr_3</td>\n",
       "      <td>0.784157</td>\n",
       "      <td>10.716397</td>\n",
       "      <td>0.134014</td>\n",
       "      <td>0.213341</td>\n",
       "    </tr>\n",
       "    <tr>\n",
       "      <td>0</td>\n",
       "      <td>xgboo_reg_2</td>\n",
       "      <td>0.896465</td>\n",
       "      <td>7.422031</td>\n",
       "      <td>0.097051</td>\n",
       "      <td>0.220088</td>\n",
       "    </tr>\n",
       "    <tr>\n",
       "      <td>0</td>\n",
       "      <td>xgboo_reg_1</td>\n",
       "      <td>0.955783</td>\n",
       "      <td>4.850383</td>\n",
       "      <td>0.060675</td>\n",
       "      <td>0.256050</td>\n",
       "    </tr>\n",
       "    <tr>\n",
       "      <td>0</td>\n",
       "      <td>gradb_reg_2</td>\n",
       "      <td>0.873555</td>\n",
       "      <td>8.202208</td>\n",
       "      <td>0.095964</td>\n",
       "      <td>0.270050</td>\n",
       "    </tr>\n",
       "    <tr>\n",
       "      <td>0</td>\n",
       "      <td>xgboo_reg_3</td>\n",
       "      <td>0.956478</td>\n",
       "      <td>4.812101</td>\n",
       "      <td>0.059473</td>\n",
       "      <td>0.270892</td>\n",
       "    </tr>\n",
       "    <tr>\n",
       "      <td>0</td>\n",
       "      <td>gradb_reg_1</td>\n",
       "      <td>0.982791</td>\n",
       "      <td>3.025916</td>\n",
       "      <td>0.039222</td>\n",
       "      <td>0.291296</td>\n",
       "    </tr>\n",
       "    <tr>\n",
       "      <td>0</td>\n",
       "      <td>gradb_reg_3</td>\n",
       "      <td>0.969652</td>\n",
       "      <td>4.018322</td>\n",
       "      <td>0.046893</td>\n",
       "      <td>0.395991</td>\n",
       "    </tr>\n",
       "    <tr>\n",
       "      <td>0</td>\n",
       "      <td>svr_1</td>\n",
       "      <td>0.812681</td>\n",
       "      <td>9.983223</td>\n",
       "      <td>0.125314</td>\n",
       "      <td>0.543405</td>\n",
       "    </tr>\n",
       "    <tr>\n",
       "      <td>0</td>\n",
       "      <td>ranfor_reg_2</td>\n",
       "      <td>0.878918</td>\n",
       "      <td>8.026369</td>\n",
       "      <td>0.097137</td>\n",
       "      <td>0.550999</td>\n",
       "    </tr>\n",
       "    <tr>\n",
       "      <td>0</td>\n",
       "      <td>ranfor_reg_3</td>\n",
       "      <td>0.948054</td>\n",
       "      <td>5.257203</td>\n",
       "      <td>0.057777</td>\n",
       "      <td>0.601748</td>\n",
       "    </tr>\n",
       "    <tr>\n",
       "      <td>0</td>\n",
       "      <td>ranfor_reg_1</td>\n",
       "      <td>0.950344</td>\n",
       "      <td>5.140048</td>\n",
       "      <td>0.056194</td>\n",
       "      <td>0.620589</td>\n",
       "    </tr>\n",
       "  </tbody>\n",
       "</table>\n",
       "</div>"
      ],
      "text/plain": [
       "     Regression  R2_score       RMSE     RMSLE  CPU_time(s)\n",
       "0     lin_reg_1  0.707107  12.483451  0.166490     0.005301\n",
       "0     lin_reg_2  0.670481  13.240977  0.180048     0.005344\n",
       "0     lin_reg_3  0.705343  12.520981  0.171142     0.005572\n",
       "0    tree_reg_2  0.850261   8.925811  0.110152     0.008059\n",
       "0     rig_reg_3  0.701998  12.591843  0.171457     0.008496\n",
       "0    tree_reg_1  0.839256   9.247978  0.103206     0.008530\n",
       "0    tree_reg_3  0.853859   8.817926  0.100313     0.008748\n",
       "0     knn_reg_1  0.291641  19.413632  0.264339     0.009653\n",
       "0     rig_reg_2  0.669176  13.267175  0.180861     0.009795\n",
       "0     knn_reg_3  0.247402  20.010661  0.275754     0.010017\n",
       "0     knn_reg_2  0.497214  16.355791  0.214340     0.010226\n",
       "0     rig_reg_1  0.702565  12.579873  0.171442     0.010461\n",
       "0   lasso_reg_2  0.675665  13.136411  0.178537     0.034585\n",
       "0   lasso_reg_3  0.697887  12.678416  0.169976     0.037441\n",
       "0   lasso_reg_1  0.697515  12.686205  0.170219     0.046121\n",
       "0         krr_3  0.846856   9.026729  0.123928     0.078201\n",
       "0         krr_2  0.781415  10.784247  0.127376     0.080002\n",
       "0         krr_1  0.868645   8.359931  0.114940     0.086854\n",
       "0     ada_reg_3  0.918663   6.578456  0.075730     0.092325\n",
       "0     ada_reg_1  0.905540   7.089316  0.074367     0.099141\n",
       "0     ada_reg_2  0.869718   8.325721  0.103138     0.099141\n",
       "0         svr_2  0.697258  12.691589  0.159361     0.179774\n",
       "0         svr_3  0.784157  10.716397  0.134014     0.213341\n",
       "0   xgboo_reg_2  0.896465   7.422031  0.097051     0.220088\n",
       "0   xgboo_reg_1  0.955783   4.850383  0.060675     0.256050\n",
       "0   gradb_reg_2  0.873555   8.202208  0.095964     0.270050\n",
       "0   xgboo_reg_3  0.956478   4.812101  0.059473     0.270892\n",
       "0   gradb_reg_1  0.982791   3.025916  0.039222     0.291296\n",
       "0   gradb_reg_3  0.969652   4.018322  0.046893     0.395991\n",
       "0         svr_1  0.812681   9.983223  0.125314     0.543405\n",
       "0  ranfor_reg_2  0.878918   8.026369  0.097137     0.550999\n",
       "0  ranfor_reg_3  0.948054   5.257203  0.057777     0.601748\n",
       "0  ranfor_reg_1  0.950344   5.140048  0.056194     0.620589"
      ]
     },
     "execution_count": 108,
     "metadata": {},
     "output_type": "execute_result"
    }
   ],
   "source": [
    "print('Number of studied cases:', df_m.shape[0])\n",
    "df_m.sort_values(by=['CPU_time(s)'], ascending=True)"
   ]
  },
  {
   "cell_type": "markdown",
   "metadata": {},
   "source": [
    "**Adaboost is selected with dataframe 1 where the main features of decisions are the energy at stake, the area for the energy devic, energy produced by solar panel and the regions. The accuracy is above 90% for computational time below 0.1 seconds. Future work: perform this study with similar dataframes but only based on one feature containing categorical values: Region or FacilityType.**\n",
    "\n",
    "**Now let's use neuronal networks with torch. We only look at the results  for the first dataframe. The hyperpamaters are not only the learning rate but also the size of the neuronal network.**"
   ]
  },
  {
   "cell_type": "code",
   "execution_count": 147,
   "metadata": {},
   "outputs": [],
   "source": [
    "import torch\n",
    "import torch.nn as nn\n",
    "import torch.optim as optim\n",
    "from torch.utils.data import Dataset, DataLoader"
   ]
  },
  {
   "cell_type": "code",
   "execution_count": 148,
   "metadata": {},
   "outputs": [],
   "source": [
    "class DataforReg:\n",
    "    def __init__(self, X_dat, y_dat):\n",
    "        self.X_dat = X_dat\n",
    "        self.y_dat = y_dat\n",
    "        \n",
    "    def __getitem__(self, ind):\n",
    "        return self.X_dat[ind], self.y_dat[ind]\n",
    "    \n",
    "    def __len__ (self):\n",
    "        return len(self.X_dat)\n",
    "    \n",
    "X1a_train, y1a_train = np.array(X1_train), np.array(y1_train)\n",
    "X1a_test, y1a_test = np.array(X1_test), np.array(y1_test)\n",
    "y1a_train, y1a_test  = y1a_train.astype(float), y1a_test.astype(float)\n",
    " \n",
    "# preparing the numpy array for pytorch\n",
    "ds_train = DataforReg(torch.from_numpy(X1a_train).float(), torch.from_numpy(y1a_train).float())\n",
    "ds_test = DataforReg(torch.from_numpy(X1a_test).float(), torch.from_numpy(y1a_test).float())"
   ]
  },
  {
   "cell_type": "markdown",
   "metadata": {},
   "source": [
    "**Setting the epochs, batch size, learning rate and the number of features for the neuronal network**"
   ]
  },
  {
   "cell_type": "code",
   "execution_count": 198,
   "metadata": {},
   "outputs": [
    {
     "data": {
      "text/plain": [
       "18"
      ]
     },
     "execution_count": 198,
     "metadata": {},
     "output_type": "execute_result"
    }
   ],
   "source": [
    "EPOCHS = 50\n",
    "BATCH_SIZE = 64\n",
    "NUM_FEATURES = len(X1_train.columns)\n",
    "NUM_FEATURES"
   ]
  },
  {
   "cell_type": "markdown",
   "metadata": {},
   "source": [
    "**Loading data before training and testing**"
   ]
  },
  {
   "cell_type": "code",
   "execution_count": 194,
   "metadata": {},
   "outputs": [],
   "source": [
    "dl_train = DataLoader(dataset=ds_train, batch_size=BATCH_SIZE, shuffle=True)\n",
    "dl_test = DataLoader(dataset=ds_test, batch_size=1)"
   ]
  },
  {
   "cell_type": "markdown",
   "metadata": {},
   "source": [
    "**Creating a class of expendable neuronal networks**"
   ]
  },
  {
   "cell_type": "code",
   "execution_count": 195,
   "metadata": {},
   "outputs": [],
   "source": [
    "class NeuNet(nn.Module):\n",
    "    def __init__(self, dIn, dOut, nb_layers):\n",
    "        super(NeuNet, self).__init__()\n",
    "        self.layers = nn.ModuleList()\n",
    "        tnl = round(nb_layers/2)\n",
    "        fnb_i = dIn\n",
    "        fnb_j = 2*dIn\n",
    "        for itop in range(tnl):\n",
    "            self.layers.append(nn.Linear(fnb_i,fnb_j))\n",
    "            fnb_i *= 2\n",
    "            fnb_j *= 2\n",
    "        for ibot in range(tnl,nb_layers-1):\n",
    "            fnb_i /= 2\n",
    "            fnb_j /= 2\n",
    "            self.layers.append(nn.Linear(int(fnb_j),int(fnb_i)))\n",
    "        self.layers.append(nn.Linear(int(fnb_i),dOut))\n",
    "        self.relu = nn.ReLU()\n",
    "        \n",
    "    def forward(self, x):\n",
    "        y = x\n",
    "        for i in range(len(self.layers)-1):\n",
    "            y = self.relu(self.layers[i](y))\n",
    "        y = self.layers[len(self.layers)-1](y)             \n",
    "        return y\n",
    "    \n",
    "    def predict(self, x):\n",
    "        y = x\n",
    "        for i in range(len(self.layers)-1):\n",
    "            y = self.relu(self.layers[i](y))\n",
    "        y = self.layers[len(self.layers)-1](y) \n",
    "        return y"
   ]
  },
  {
   "cell_type": "markdown",
   "metadata": {},
   "source": [
    "**The total number of models and optimizers are defined**"
   ]
  },
  {
   "cell_type": "code",
   "execution_count": 203,
   "metadata": {},
   "outputs": [
    {
     "data": {
      "text/plain": [
       "[(NeuNet(\n",
       "    (layers): ModuleList(\n",
       "      (0): Linear(in_features=18, out_features=36, bias=True)\n",
       "      (1): Linear(in_features=36, out_features=72, bias=True)\n",
       "      (2): Linear(in_features=72, out_features=144, bias=True)\n",
       "      (3): Linear(in_features=144, out_features=72, bias=True)\n",
       "      (4): Linear(in_features=72, out_features=36, bias=True)\n",
       "      (5): Linear(in_features=36, out_features=1, bias=True)\n",
       "    )\n",
       "    (relu): ReLU()\n",
       "  ),\n",
       "  Adam (\n",
       "  Parameter Group 0\n",
       "      amsgrad: False\n",
       "      betas: (0.9, 0.999)\n",
       "      eps: 1e-08\n",
       "      lr: 0.001\n",
       "      weight_decay: 0\n",
       "  )),\n",
       " (NeuNet(\n",
       "    (layers): ModuleList(\n",
       "      (0): Linear(in_features=18, out_features=36, bias=True)\n",
       "      (1): Linear(in_features=36, out_features=72, bias=True)\n",
       "      (2): Linear(in_features=72, out_features=144, bias=True)\n",
       "      (3): Linear(in_features=144, out_features=72, bias=True)\n",
       "      (4): Linear(in_features=72, out_features=36, bias=True)\n",
       "      (5): Linear(in_features=36, out_features=1, bias=True)\n",
       "    )\n",
       "    (relu): ReLU()\n",
       "  ),\n",
       "  Adam (\n",
       "  Parameter Group 0\n",
       "      amsgrad: False\n",
       "      betas: (0.9, 0.999)\n",
       "      eps: 1e-08\n",
       "      lr: 0.005\n",
       "      weight_decay: 0\n",
       "  )),\n",
       " (NeuNet(\n",
       "    (layers): ModuleList(\n",
       "      (0): Linear(in_features=18, out_features=36, bias=True)\n",
       "      (1): Linear(in_features=36, out_features=72, bias=True)\n",
       "      (2): Linear(in_features=72, out_features=144, bias=True)\n",
       "      (3): Linear(in_features=144, out_features=72, bias=True)\n",
       "      (4): Linear(in_features=72, out_features=36, bias=True)\n",
       "      (5): Linear(in_features=36, out_features=1, bias=True)\n",
       "    )\n",
       "    (relu): ReLU()\n",
       "  ),\n",
       "  Adam (\n",
       "  Parameter Group 0\n",
       "      amsgrad: False\n",
       "      betas: (0.9, 0.999)\n",
       "      eps: 1e-08\n",
       "      lr: 0.01\n",
       "      weight_decay: 0\n",
       "  )),\n",
       " (NeuNet(\n",
       "    (layers): ModuleList(\n",
       "      (0): Linear(in_features=18, out_features=36, bias=True)\n",
       "      (1): Linear(in_features=36, out_features=72, bias=True)\n",
       "      (2): Linear(in_features=72, out_features=144, bias=True)\n",
       "      (3): Linear(in_features=144, out_features=288, bias=True)\n",
       "      (4): Linear(in_features=288, out_features=144, bias=True)\n",
       "      (5): Linear(in_features=144, out_features=72, bias=True)\n",
       "      (6): Linear(in_features=72, out_features=36, bias=True)\n",
       "      (7): Linear(in_features=36, out_features=1, bias=True)\n",
       "    )\n",
       "    (relu): ReLU()\n",
       "  ),\n",
       "  Adam (\n",
       "  Parameter Group 0\n",
       "      amsgrad: False\n",
       "      betas: (0.9, 0.999)\n",
       "      eps: 1e-08\n",
       "      lr: 0.001\n",
       "      weight_decay: 0\n",
       "  )),\n",
       " (NeuNet(\n",
       "    (layers): ModuleList(\n",
       "      (0): Linear(in_features=18, out_features=36, bias=True)\n",
       "      (1): Linear(in_features=36, out_features=72, bias=True)\n",
       "      (2): Linear(in_features=72, out_features=144, bias=True)\n",
       "      (3): Linear(in_features=144, out_features=288, bias=True)\n",
       "      (4): Linear(in_features=288, out_features=144, bias=True)\n",
       "      (5): Linear(in_features=144, out_features=72, bias=True)\n",
       "      (6): Linear(in_features=72, out_features=36, bias=True)\n",
       "      (7): Linear(in_features=36, out_features=1, bias=True)\n",
       "    )\n",
       "    (relu): ReLU()\n",
       "  ),\n",
       "  Adam (\n",
       "  Parameter Group 0\n",
       "      amsgrad: False\n",
       "      betas: (0.9, 0.999)\n",
       "      eps: 1e-08\n",
       "      lr: 0.005\n",
       "      weight_decay: 0\n",
       "  )),\n",
       " (NeuNet(\n",
       "    (layers): ModuleList(\n",
       "      (0): Linear(in_features=18, out_features=36, bias=True)\n",
       "      (1): Linear(in_features=36, out_features=72, bias=True)\n",
       "      (2): Linear(in_features=72, out_features=144, bias=True)\n",
       "      (3): Linear(in_features=144, out_features=288, bias=True)\n",
       "      (4): Linear(in_features=288, out_features=144, bias=True)\n",
       "      (5): Linear(in_features=144, out_features=72, bias=True)\n",
       "      (6): Linear(in_features=72, out_features=36, bias=True)\n",
       "      (7): Linear(in_features=36, out_features=1, bias=True)\n",
       "    )\n",
       "    (relu): ReLU()\n",
       "  ),\n",
       "  Adam (\n",
       "  Parameter Group 0\n",
       "      amsgrad: False\n",
       "      betas: (0.9, 0.999)\n",
       "      eps: 1e-08\n",
       "      lr: 0.01\n",
       "      weight_decay: 0\n",
       "  )),\n",
       " (NeuNet(\n",
       "    (layers): ModuleList(\n",
       "      (0): Linear(in_features=18, out_features=36, bias=True)\n",
       "      (1): Linear(in_features=36, out_features=72, bias=True)\n",
       "      (2): Linear(in_features=72, out_features=144, bias=True)\n",
       "      (3): Linear(in_features=144, out_features=288, bias=True)\n",
       "      (4): Linear(in_features=288, out_features=576, bias=True)\n",
       "      (5): Linear(in_features=576, out_features=288, bias=True)\n",
       "      (6): Linear(in_features=288, out_features=144, bias=True)\n",
       "      (7): Linear(in_features=144, out_features=72, bias=True)\n",
       "      (8): Linear(in_features=72, out_features=36, bias=True)\n",
       "      (9): Linear(in_features=36, out_features=1, bias=True)\n",
       "    )\n",
       "    (relu): ReLU()\n",
       "  ),\n",
       "  Adam (\n",
       "  Parameter Group 0\n",
       "      amsgrad: False\n",
       "      betas: (0.9, 0.999)\n",
       "      eps: 1e-08\n",
       "      lr: 0.001\n",
       "      weight_decay: 0\n",
       "  )),\n",
       " (NeuNet(\n",
       "    (layers): ModuleList(\n",
       "      (0): Linear(in_features=18, out_features=36, bias=True)\n",
       "      (1): Linear(in_features=36, out_features=72, bias=True)\n",
       "      (2): Linear(in_features=72, out_features=144, bias=True)\n",
       "      (3): Linear(in_features=144, out_features=288, bias=True)\n",
       "      (4): Linear(in_features=288, out_features=576, bias=True)\n",
       "      (5): Linear(in_features=576, out_features=288, bias=True)\n",
       "      (6): Linear(in_features=288, out_features=144, bias=True)\n",
       "      (7): Linear(in_features=144, out_features=72, bias=True)\n",
       "      (8): Linear(in_features=72, out_features=36, bias=True)\n",
       "      (9): Linear(in_features=36, out_features=1, bias=True)\n",
       "    )\n",
       "    (relu): ReLU()\n",
       "  ),\n",
       "  Adam (\n",
       "  Parameter Group 0\n",
       "      amsgrad: False\n",
       "      betas: (0.9, 0.999)\n",
       "      eps: 1e-08\n",
       "      lr: 0.005\n",
       "      weight_decay: 0\n",
       "  )),\n",
       " (NeuNet(\n",
       "    (layers): ModuleList(\n",
       "      (0): Linear(in_features=18, out_features=36, bias=True)\n",
       "      (1): Linear(in_features=36, out_features=72, bias=True)\n",
       "      (2): Linear(in_features=72, out_features=144, bias=True)\n",
       "      (3): Linear(in_features=144, out_features=288, bias=True)\n",
       "      (4): Linear(in_features=288, out_features=576, bias=True)\n",
       "      (5): Linear(in_features=576, out_features=288, bias=True)\n",
       "      (6): Linear(in_features=288, out_features=144, bias=True)\n",
       "      (7): Linear(in_features=144, out_features=72, bias=True)\n",
       "      (8): Linear(in_features=72, out_features=36, bias=True)\n",
       "      (9): Linear(in_features=36, out_features=1, bias=True)\n",
       "    )\n",
       "    (relu): ReLU()\n",
       "  ),\n",
       "  Adam (\n",
       "  Parameter Group 0\n",
       "      amsgrad: False\n",
       "      betas: (0.9, 0.999)\n",
       "      eps: 1e-08\n",
       "      lr: 0.01\n",
       "      weight_decay: 0\n",
       "  ))]"
      ]
     },
     "execution_count": 203,
     "metadata": {},
     "output_type": "execute_result"
    }
   ],
   "source": [
    "# setting the device for torch\n",
    "device = torch.device(\"cuda:0\" if torch.cuda.is_available() else \"cpu\")\n",
    "\n",
    "# loss criterium\n",
    "lcrit = nn.MSELoss()\n",
    "\n",
    "TOT_NB_LAYERS = [6, 8, 10]\n",
    "LEARNING_RATE = [0.001, 0.005, 0.01]\n",
    "params = []\n",
    "for ilay in TOT_NB_LAYERS:\n",
    "    for li in LEARNING_RATE:\n",
    "        modeli = NeuNet(dIn=NUM_FEATURES, dOut=1, nb_layers=ilay)\n",
    "        modeli.to(device)\n",
    "        optimizeri = optim.Adam(modeli.parameters(), lr=li)\n",
    "        # tuple Parameter Model Optimizer Identation\n",
    "        pmoi = (modeli, optimizeri)\n",
    "        params.append(pmoi)\n",
    "# combinaison of models and optimizers\n",
    "params"
   ]
  },
  {
   "cell_type": "markdown",
   "metadata": {},
   "source": [
    "**Here the selection of the  model is performed based on the model of neuronal network and the learning rate. If for a specific model, the learning rates selected can't reached the convergence criterium 'conv_crit', a new  model is neuronal network selected with more layers and more neurones. When the convergence criterium is reached, the for loop stops, avoiding the training of deeper neuronal networks**"
   ]
  },
  {
   "cell_type": "code",
   "execution_count": 204,
   "metadata": {},
   "outputs": [
    {
     "data": {
      "application/vnd.jupyter.widget-view+json": {
       "model_id": "bf6f8a08af6a48dd81bd1929f8dba6bb",
       "version_major": 2,
       "version_minor": 0
      },
      "text/plain": [
       "HBox(children=(FloatProgress(value=0.0, max=50.0), HTML(value='')))"
      ]
     },
     "metadata": {},
     "output_type": "display_data"
    },
    {
     "name": "stdout",
     "output_type": "stream",
     "text": [
      "Epoch 010/50: | Train Loss: 695.237 | Test Loss: 444.377\n",
      "Epoch 020/50: | Train Loss: 338.928 | Test Loss: 264.792\n",
      "Epoch 030/50: | Train Loss: 225.513 | Test Loss: 218.326\n",
      "Epoch 040/50: | Train Loss: 210.319 | Test Loss: 183.805\n",
      "Epoch 050/50: | Train Loss: 196.344 | Test Loss: 182.233\n",
      "\n"
     ]
    },
    {
     "data": {
      "application/vnd.jupyter.widget-view+json": {
       "model_id": "1b20fe8b90fa4533b6d05690cfa3540f",
       "version_major": 2,
       "version_minor": 0
      },
      "text/plain": [
       "HBox(children=(FloatProgress(value=0.0, max=50.0), HTML(value='')))"
      ]
     },
     "metadata": {},
     "output_type": "display_data"
    },
    {
     "name": "stdout",
     "output_type": "stream",
     "text": [
      "Epoch 010/50: | Train Loss: 264.034 | Test Loss: 214.254\n",
      "Epoch 020/50: | Train Loss: 216.279 | Test Loss: 187.935\n",
      "Epoch 030/50: | Train Loss: 187.350 | Test Loss: 252.212\n",
      "Epoch 040/50: | Train Loss: 246.685 | Test Loss: 201.442\n",
      "Epoch 050/50: | Train Loss: 139.620 | Test Loss: 170.205\n",
      "\n"
     ]
    },
    {
     "data": {
      "application/vnd.jupyter.widget-view+json": {
       "model_id": "13f68002cdce4c82a6e464217a5048e7",
       "version_major": 2,
       "version_minor": 0
      },
      "text/plain": [
       "HBox(children=(FloatProgress(value=0.0, max=50.0), HTML(value='')))"
      ]
     },
     "metadata": {},
     "output_type": "display_data"
    },
    {
     "name": "stdout",
     "output_type": "stream",
     "text": [
      "Epoch 010/50: | Train Loss: 232.986 | Test Loss: 282.238\n",
      "Epoch 020/50: | Train Loss: 201.042 | Test Loss: 230.267\n",
      "Epoch 030/50: | Train Loss: 171.622 | Test Loss: 159.651\n",
      "Epoch 040/50: | Train Loss: 99.613 | Test Loss: 143.029\n",
      "Epoch 050/50: | Train Loss: 54.542 | Test Loss: 112.407\n",
      "\n"
     ]
    },
    {
     "data": {
      "application/vnd.jupyter.widget-view+json": {
       "model_id": "b9adbd3cc6884496b538f1b59bba1db0",
       "version_major": 2,
       "version_minor": 0
      },
      "text/plain": [
       "HBox(children=(FloatProgress(value=0.0, max=50.0), HTML(value='')))"
      ]
     },
     "metadata": {},
     "output_type": "display_data"
    },
    {
     "name": "stdout",
     "output_type": "stream",
     "text": [
      "Epoch 010/50: | Train Loss: 619.706 | Test Loss: 418.244\n",
      "Epoch 020/50: | Train Loss: 315.232 | Test Loss: 292.760\n",
      "Epoch 030/50: | Train Loss: 225.157 | Test Loss: 217.704\n",
      "Epoch 040/50: | Train Loss: 185.222 | Test Loss: 211.194\n",
      "Epoch 050/50: | Train Loss: 157.282 | Test Loss: 186.425\n",
      "\n"
     ]
    },
    {
     "data": {
      "application/vnd.jupyter.widget-view+json": {
       "model_id": "62c42debbe0d47f197f7bf74fa3fe7c1",
       "version_major": 2,
       "version_minor": 0
      },
      "text/plain": [
       "HBox(children=(FloatProgress(value=0.0, max=50.0), HTML(value='')))"
      ]
     },
     "metadata": {},
     "output_type": "display_data"
    },
    {
     "name": "stdout",
     "output_type": "stream",
     "text": [
      "Epoch 010/50: | Train Loss: 264.963 | Test Loss: 223.407\n",
      "Epoch 020/50: | Train Loss: 206.225 | Test Loss: 225.832\n",
      "Epoch 030/50: | Train Loss: 200.442 | Test Loss: 308.949\n",
      "Epoch 040/50: | Train Loss: 206.564 | Test Loss: 180.043\n",
      "Epoch 050/50: | Train Loss: 137.419 | Test Loss: 162.380\n",
      "\n"
     ]
    },
    {
     "data": {
      "application/vnd.jupyter.widget-view+json": {
       "model_id": "56423fea76a647849201605c1600f97d",
       "version_major": 2,
       "version_minor": 0
      },
      "text/plain": [
       "HBox(children=(FloatProgress(value=0.0, max=50.0), HTML(value='')))"
      ]
     },
     "metadata": {},
     "output_type": "display_data"
    },
    {
     "name": "stdout",
     "output_type": "stream",
     "text": [
      "Epoch 010/50: | Train Loss: 274.818 | Test Loss: 203.702\n",
      "Epoch 020/50: | Train Loss: 234.977 | Test Loss: 222.294\n",
      "Epoch 030/50: | Train Loss: 84.579 | Test Loss: 95.948\n",
      "Epoch 040/50: | Train Loss: 113.842 | Test Loss: 137.078\n",
      "Epoch 050/50: | Train Loss: 31.450 | Test Loss: 36.980\n",
      "\n",
      "Test Loss Ratio last Epoch : 36.980 | Mininum required value for MSE as convergence criterium 70.000\n"
     ]
    }
   ],
   "source": [
    "from itertools import product\n",
    "from tqdm.notebook import tqdm\n",
    "# only printing losses for a specific number of epochs\n",
    "epoch_print = 10\n",
    "# convergence criterium defined as the mininum tolerated value for the MSE for Test Loss \n",
    "conv_crit = 70.0\n",
    "loss_stats_llist = []\n",
    "y_pred_llist = []\n",
    "\n",
    "#  loop on all the combination of  models and learning rates\n",
    "for mi, opti in params:\n",
    "#for mi, opti in product(*params):\n",
    "    \n",
    "    loss_stats = {'train': [],\"test\": []}\n",
    "    y_pred_list = []\n",
    "    \n",
    "    for ep in tqdm(range(1, EPOCHS+1)):\n",
    "        # training\n",
    "        train_epoch_loss = 0\n",
    "        mi.train()\n",
    "        # computation for each batch (_bat)\n",
    "        for X_train_bat, y_train_bat in dl_train:\n",
    "            # preparing data to device selected for our model\n",
    "            X_train_bat, y_train_bat = X_train_bat.to(device), y_train_bat.to(device)\n",
    "            # resetting the optimizer gradiant to zero for each loop\n",
    "            opti.zero_grad()\n",
    "            # training the model on the batch\n",
    "            y_train_pred = mi(X_train_bat)\n",
    "            # applying the loss criterium\n",
    "            train_loss = lcrit(y_train_pred, y_train_bat.unsqueeze(1))\n",
    "            # compute loss gradient \n",
    "            train_loss.backward()\n",
    "            # update the model based the learning rate and the loss gradient\n",
    "            opti.step()\n",
    "            train_epoch_loss += train_loss.item()\n",
    "        #testing, no  need to store gradients while testing    \n",
    "        with torch.no_grad():\n",
    "            test_epoch_loss = 0\n",
    "            mi.eval()\n",
    "            for X_test_bat, y_test_bat in dl_test:\n",
    "                X_test_bat, y_test_bat = X_test_bat.to(device), y_test_bat.to(device)\n",
    "                y_test_pred = mi(X_test_bat)\n",
    "                # store y_test_pred as a numpy list\n",
    "                y_pred_list.append(y_test_pred.cpu().numpy())\n",
    "                # using unsqueeze to match dimenstions\n",
    "                test_loss = lcrit(y_test_pred, y_test_bat.unsqueeze(1))\n",
    "                test_epoch_loss +=test_loss.item()\n",
    "            loss_stats_tr = train_epoch_loss/len(dl_train)\n",
    "            loss_stats_test = test_epoch_loss/len(dl_test)\n",
    "            loss_stats['train'].append(loss_stats_tr)\n",
    "            loss_stats['test'].append(loss_stats_test)\n",
    "            # only printing losses for a specific number of epochs\n",
    "            if ep % epoch_print == 0:\n",
    "                print(f'Epoch {ep+0:03}/{EPOCHS}: | Train Loss: {loss_stats_tr:.3f} | Test Loss: {loss_stats_test:.3f}')\n",
    "                \n",
    "        y_pred_llist.append(y_pred_list)\n",
    "    loss_stats_llist.append(loss_stats)\n",
    "    # convergence criterium defined as the Test Loss of last Epoch \n",
    "    conva =  loss_stats['test'][-1]\n",
    "    if (conva < conv_crit):\n",
    "        # storing the best model, optimizer and prediction\n",
    "        y_pred_last_list = [fsl.squeeze().tolist() for fsl in y_pred_llist[-1]]\n",
    "        model_nn_opt = mi\n",
    "        optimizer_opt = opti\n",
    "        print(f'Test Loss Ratio last Epoch : {conva:.3f} | Mininum required value for MSE as convergence criterium {conv_crit:.3f}')\n",
    "        break"
   ]
  },
  {
   "cell_type": "markdown",
   "metadata": {},
   "source": [
    "**Showing the model and optimizer selected**"
   ]
  },
  {
   "cell_type": "code",
   "execution_count": 205,
   "metadata": {},
   "outputs": [
    {
     "data": {
      "text/plain": [
       "(NeuNet(\n",
       "   (layers): ModuleList(\n",
       "     (0): Linear(in_features=18, out_features=36, bias=True)\n",
       "     (1): Linear(in_features=36, out_features=72, bias=True)\n",
       "     (2): Linear(in_features=72, out_features=144, bias=True)\n",
       "     (3): Linear(in_features=144, out_features=288, bias=True)\n",
       "     (4): Linear(in_features=288, out_features=144, bias=True)\n",
       "     (5): Linear(in_features=144, out_features=72, bias=True)\n",
       "     (6): Linear(in_features=72, out_features=36, bias=True)\n",
       "     (7): Linear(in_features=36, out_features=1, bias=True)\n",
       "   )\n",
       "   (relu): ReLU()\n",
       " ),\n",
       " Adam (\n",
       " Parameter Group 0\n",
       "     amsgrad: False\n",
       "     betas: (0.9, 0.999)\n",
       "     eps: 1e-08\n",
       "     lr: 0.01\n",
       "     weight_decay: 0\n",
       " ))"
      ]
     },
     "execution_count": 205,
     "metadata": {},
     "output_type": "execute_result"
    }
   ],
   "source": [
    "model_nn_opt, optimizer_opt"
   ]
  },
  {
   "cell_type": "code",
   "execution_count": 206,
   "metadata": {},
   "outputs": [
    {
     "data": {
      "image/png": "[encoded data removed]",
      "text/plain": [
       "<Figure size 432x288 with 1 Axes>"
      ]
     },
     "metadata": {
      "needs_background": "light"
     },
     "output_type": "display_data"
    }
   ],
   "source": [
    "# Visualize the predictions against the actual values \n",
    "ax_test = sns.distplot(y1_test, hist=False, color='r', label='test')\n",
    "sns_plot1 = sns.distplot(y_pred_last_list, hist=False, color='b',label='prediction Dataframe 1', ax=ax_test)"
   ]
  },
  {
   "cell_type": "markdown",
   "metadata": {},
   "source": [
    "**Future work on neuronal network: perform this study of all dataframes for the more strict convergence criteria and implement a Bayesian  Optimization**"
   ]
  },
  {
   "cell_type": "code",
   "execution_count": null,
   "metadata": {},
   "outputs": [],
   "source": []
  }
 ],
 "metadata": {
  "kernelspec": {
   "display_name": "Python 3",
   "language": "python",
   "name": "python3"
  },
  "language_info": {
   "codemirror_mode": {
    "name": "ipython",
    "version": 3
   },
   "file_extension": ".py",
   "mimetype": "text/x-python",
   "name": "python",
   "nbconvert_exporter": "python",
   "pygments_lexer": "ipython3",
   "version": "3.7.4"
  }
 },
 "nbformat": 4,
 "nbformat_minor": 2
}
